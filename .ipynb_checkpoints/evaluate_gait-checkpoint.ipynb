{
 "cells": [
  {
   "cell_type": "code",
   "execution_count": 81,
   "id": "7cadb02e",
   "metadata": {},
   "outputs": [],
   "source": [
    "import tensorflow as tf\n",
    "import cv2\n",
    "import numpy as np"
   ]
  },
  {
   "cell_type": "code",
   "execution_count": 82,
   "id": "12b88df6",
   "metadata": {},
   "outputs": [],
   "source": [
    "encoder = tf.keras.models.load_model(r'C:\\Users\\Aaron\\Desktop\\Aaron\\College-level Applied Research\\gait_recognition\\log\\2022_5_4_23_52\\encoder\\trained_ckpt', compile=False)\n",
    "gen = tf.keras.models.load_model(r'C:\\Users\\Aaron\\Desktop\\Aaron\\College-level Applied Research\\gait_recognition\\log\\2022_5_4_23_52\\gen\\trained_ckpt', compile=False)\n",
    "view_transform = tf.keras.models.load_model(r'C:\\Users\\Aaron\\Desktop\\Aaron\\College-level Applied Research\\gait_recognition\\log\\2022_5_4_23_52\\view_transform_layer\\trained_ckpt', compile = False)"
   ]
  },
  {
   "cell_type": "code",
   "execution_count": 155,
   "id": "c31a2a0b",
   "metadata": {},
   "outputs": [],
   "source": [
    "img = cv2.imread(r'D:\\dataset\\S100\\gait\\GEI\\090-00\\00511.png')\n",
    "# img = tf.image.resize(tf.image.rgb_to_grayscale(img), [64, 64])\n",
    "# cv2.imshow('gait', img.numpy().reshape(64, 64, 1))\n",
    "# cv2.waitKey(0)\n",
    "# cv2.destroyAllWindows()\n",
    "\n",
    "img = img.astype('float32')\n",
    "img = (img-127.5) / 127.5\n",
    "\n",
    "img = tf.image.resize(tf.image.rgb_to_grayscale(img),[64, 64])"
   ]
  },
  {
   "cell_type": "code",
   "execution_count": null,
   "id": "c8f00077",
   "metadata": {},
   "outputs": [],
   "source": []
  },
  {
   "cell_type": "code",
   "execution_count": 156,
   "id": "21cf3471",
   "metadata": {},
   "outputs": [],
   "source": [
    "img = tf.reshape(img, [1, 64, 64, 1])\n",
    "\n",
    "encode = encoder(img)\n",
    "\n",
    "angle = np.array([0, 0, 0, 0, 0, 0, 1, 0, 0, 0, 0, 0, 0, 1]).reshape(1, 14)\n",
    "\n",
    "view_trans = view_transform([encode, angle])\n",
    "\n",
    "predict = gen(view_trans).numpy()"
   ]
  },
  {
   "cell_type": "code",
   "execution_count": 157,
   "id": "29278ab8",
   "metadata": {},
   "outputs": [],
   "source": [
    "predict = (predict+1)/2\n",
    "# predict = ((predict*127.5) + 127.5).astype('uint8')"
   ]
  },
  {
   "cell_type": "code",
   "execution_count": 162,
   "id": "827d0d46",
   "metadata": {},
   "outputs": [
    {
     "data": {
      "text/plain": [
       "(1, 64, 64, 1)"
      ]
     },
     "execution_count": 162,
     "metadata": {},
     "output_type": "execute_result"
    }
   ],
   "source": [
    "predict.shape"
   ]
  },
  {
   "cell_type": "code",
   "execution_count": 163,
   "id": "a55b2e2e",
   "metadata": {},
   "outputs": [],
   "source": [
    "cv2.imshow('view_trans', predict.reshape(64, 64, 1))\n",
    "cv2.waitKey(0)\n",
    "cv2.destroyAllWindows()"
   ]
  },
  {
   "cell_type": "code",
   "execution_count": 148,
   "id": "b2db4637",
   "metadata": {},
   "outputs": [
    {
     "ename": "AttributeError",
     "evalue": "'numpy.ndarray' object has no attribute 'numpy'",
     "output_type": "error",
     "traceback": [
      "\u001b[1;31m---------------------------------------------------------------------------\u001b[0m",
      "\u001b[1;31mAttributeError\u001b[0m                            Traceback (most recent call last)",
      "Input \u001b[1;32mIn [148]\u001b[0m, in \u001b[0;36m<cell line: 1>\u001b[1;34m()\u001b[0m\n\u001b[1;32m----> 1\u001b[0m img \u001b[38;5;241m=\u001b[39m \u001b[43mimg\u001b[49m\u001b[38;5;241;43m.\u001b[39;49m\u001b[43mnumpy\u001b[49m()\n\u001b[0;32m      2\u001b[0m \u001b[38;5;66;03m# img = ((img*127.5) + 127.5).astype('uint8')\u001b[39;00m\n\u001b[0;32m      3\u001b[0m img \u001b[38;5;241m=\u001b[39m (img\u001b[38;5;241m+\u001b[39m\u001b[38;5;241m1\u001b[39m)\u001b[38;5;241m/\u001b[39m\u001b[38;5;241m2\u001b[39m\n",
      "\u001b[1;31mAttributeError\u001b[0m: 'numpy.ndarray' object has no attribute 'numpy'"
     ]
    }
   ],
   "source": [
    "img = img.numpy()\n",
    "img = ((img*127.5) + 127.5).astype('uint8')\n"
   ]
  },
  {
   "cell_type": "code",
   "execution_count": 147,
   "id": "f3e5096a",
   "metadata": {},
   "outputs": [],
   "source": [
    "cv2.imshow('view_trans', img.reshape(64, 64, 1))\n",
    "cv2.waitKey(0)\n",
    "cv2.destroyAllWindows()"
   ]
  },
  {
   "cell_type": "code",
   "execution_count": null,
   "id": "d4cf76e4",
   "metadata": {},
   "outputs": [],
   "source": []
  }
 ],
 "metadata": {
  "kernelspec": {
   "display_name": "Python 3 (ipykernel)",
   "language": "python",
   "name": "python3"
  },
  "language_info": {
   "codemirror_mode": {
    "name": "ipython",
    "version": 3
   },
   "file_extension": ".py",
   "mimetype": "text/x-python",
   "name": "python",
   "nbconvert_exporter": "python",
   "pygments_lexer": "ipython3",
   "version": "3.8.13"
  }
 },
 "nbformat": 4,
 "nbformat_minor": 5
}
