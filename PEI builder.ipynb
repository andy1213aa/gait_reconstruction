{
 "cells": [
  {
   "cell_type": "code",
   "execution_count": 1,
   "id": "dff59f2e",
   "metadata": {},
   "outputs": [
    {
     "ename": "ModuleNotFoundError",
     "evalue": "No module named 'numpy'",
     "output_type": "error",
     "traceback": [
      "\u001b[0;31m---------------------------------------------------------------------------\u001b[0m",
      "\u001b[0;31mModuleNotFoundError\u001b[0m                       Traceback (most recent call last)",
      "Input \u001b[0;32mIn [1]\u001b[0m, in \u001b[0;36m<cell line: 2>\u001b[0;34m()\u001b[0m\n\u001b[1;32m      1\u001b[0m \u001b[38;5;28;01mimport\u001b[39;00m \u001b[38;5;21;01mos\u001b[39;00m\n\u001b[0;32m----> 2\u001b[0m \u001b[38;5;28;01mimport\u001b[39;00m \u001b[38;5;21;01mnumpy\u001b[39;00m \u001b[38;5;28;01mas\u001b[39;00m \u001b[38;5;21;01mnp\u001b[39;00m\n\u001b[1;32m      3\u001b[0m \u001b[38;5;28;01mimport\u001b[39;00m \u001b[38;5;21;01mmatplotlib\u001b[39;00m\u001b[38;5;21;01m.\u001b[39;00m\u001b[38;5;21;01mpyplot\u001b[39;00m \u001b[38;5;28;01mas\u001b[39;00m \u001b[38;5;21;01mplt\u001b[39;00m\n\u001b[1;32m      5\u001b[0m \u001b[38;5;66;03m# from scipy.misc import imresize\u001b[39;00m\n",
      "\u001b[0;31mModuleNotFoundError\u001b[0m: No module named 'numpy'"
     ]
    }
   ],
   "source": [
    "import os\n",
    "import numpy as np\n",
    "import matplotlib.pyplot as plt\n",
    "\n",
    "# from scipy.misc import imresize\n",
    "import cv2\n"
   ]
  },
  {
   "cell_type": "code",
   "execution_count": 120,
   "id": "cb0fea81",
   "metadata": {},
   "outputs": [
    {
     "ename": "ValueError",
     "evalue": "zero-size array to reduction operation minimum which has no identity",
     "output_type": "error",
     "traceback": [
      "\u001b[1;31m---------------------------------------------------------------------------\u001b[0m",
      "\u001b[1;31mValueError\u001b[0m                                Traceback (most recent call last)",
      "Input \u001b[1;32mIn [120]\u001b[0m, in \u001b[0;36m<cell line: 60>\u001b[1;34m()\u001b[0m\n\u001b[0;32m     54\u001b[0m     \u001b[38;5;28;01mreturn\u001b[39;00m cv2\u001b[38;5;241m.\u001b[39mresize(img,newsize)\n\u001b[0;32m     57\u001b[0m \u001b[38;5;66;03m# In[5]:\u001b[39;00m\n\u001b[1;32m---> 60\u001b[0m images \u001b[38;5;241m=\u001b[39m [image_extract(i,(\u001b[38;5;241m64\u001b[39m,\u001b[38;5;241m64\u001b[39m)) \u001b[38;5;28;01mfor\u001b[39;00m i \u001b[38;5;129;01min\u001b[39;00m images]\n\u001b[0;32m     63\u001b[0m \u001b[38;5;66;03m# In[6]:\u001b[39;00m\n\u001b[0;32m     66\u001b[0m plt\u001b[38;5;241m.\u001b[39mfigure()\n",
      "Input \u001b[1;32mIn [120]\u001b[0m, in \u001b[0;36m<listcomp>\u001b[1;34m(.0)\u001b[0m\n\u001b[0;32m     54\u001b[0m     \u001b[38;5;28;01mreturn\u001b[39;00m cv2\u001b[38;5;241m.\u001b[39mresize(img,newsize)\n\u001b[0;32m     57\u001b[0m \u001b[38;5;66;03m# In[5]:\u001b[39;00m\n\u001b[1;32m---> 60\u001b[0m images \u001b[38;5;241m=\u001b[39m [\u001b[43mimage_extract\u001b[49m\u001b[43m(\u001b[49m\u001b[43mi\u001b[49m\u001b[43m,\u001b[49m\u001b[43m(\u001b[49m\u001b[38;5;241;43m64\u001b[39;49m\u001b[43m,\u001b[49m\u001b[38;5;241;43m64\u001b[39;49m\u001b[43m)\u001b[49m\u001b[43m)\u001b[49m \u001b[38;5;28;01mfor\u001b[39;00m i \u001b[38;5;129;01min\u001b[39;00m images]\n\u001b[0;32m     63\u001b[0m \u001b[38;5;66;03m# In[6]:\u001b[39;00m\n\u001b[0;32m     66\u001b[0m plt\u001b[38;5;241m.\u001b[39mfigure()\n",
      "Input \u001b[1;32mIn [120]\u001b[0m, in \u001b[0;36mimage_extract\u001b[1;34m(img, newsize)\u001b[0m\n\u001b[0;32m     42\u001b[0m \u001b[38;5;28;01mdef\u001b[39;00m \u001b[38;5;21mimage_extract\u001b[39m(img,newsize):\n\u001b[1;32m---> 43\u001b[0m     x_s \u001b[38;5;241m=\u001b[39m \u001b[43mnp\u001b[49m\u001b[38;5;241;43m.\u001b[39;49m\u001b[43mwhere\u001b[49m\u001b[43m(\u001b[49m\u001b[43mimg\u001b[49m\u001b[38;5;241;43m.\u001b[39;49m\u001b[43mmean\u001b[49m\u001b[43m(\u001b[49m\u001b[43maxis\u001b[49m\u001b[38;5;241;43m=\u001b[39;49m\u001b[38;5;241;43m0\u001b[39;49m\u001b[43m)\u001b[49m\u001b[38;5;241;43m!=\u001b[39;49m\u001b[38;5;241;43m0\u001b[39;49m\u001b[43m)\u001b[49m\u001b[43m[\u001b[49m\u001b[38;5;241;43m0\u001b[39;49m\u001b[43m]\u001b[49m\u001b[38;5;241;43m.\u001b[39;49m\u001b[43mmin\u001b[49m\u001b[43m(\u001b[49m\u001b[43m)\u001b[49m\n\u001b[0;32m     44\u001b[0m     x_e \u001b[38;5;241m=\u001b[39m np\u001b[38;5;241m.\u001b[39mwhere(img\u001b[38;5;241m.\u001b[39mmean(axis\u001b[38;5;241m=\u001b[39m\u001b[38;5;241m0\u001b[39m)\u001b[38;5;241m!=\u001b[39m\u001b[38;5;241m0\u001b[39m)[\u001b[38;5;241m0\u001b[39m]\u001b[38;5;241m.\u001b[39mmax()\n\u001b[0;32m     46\u001b[0m     y_s \u001b[38;5;241m=\u001b[39m np\u001b[38;5;241m.\u001b[39mwhere(img\u001b[38;5;241m.\u001b[39mmean(axis\u001b[38;5;241m=\u001b[39m\u001b[38;5;241m1\u001b[39m)\u001b[38;5;241m!=\u001b[39m\u001b[38;5;241m0\u001b[39m)[\u001b[38;5;241m0\u001b[39m]\u001b[38;5;241m.\u001b[39mmin()\n",
      "File \u001b[1;32m~\\anaconda3\\envs\\gait\\lib\\site-packages\\numpy\\core\\_methods.py:44\u001b[0m, in \u001b[0;36m_amin\u001b[1;34m(a, axis, out, keepdims, initial, where)\u001b[0m\n\u001b[0;32m     42\u001b[0m \u001b[38;5;28;01mdef\u001b[39;00m \u001b[38;5;21m_amin\u001b[39m(a, axis\u001b[38;5;241m=\u001b[39m\u001b[38;5;28;01mNone\u001b[39;00m, out\u001b[38;5;241m=\u001b[39m\u001b[38;5;28;01mNone\u001b[39;00m, keepdims\u001b[38;5;241m=\u001b[39m\u001b[38;5;28;01mFalse\u001b[39;00m,\n\u001b[0;32m     43\u001b[0m           initial\u001b[38;5;241m=\u001b[39m_NoValue, where\u001b[38;5;241m=\u001b[39m\u001b[38;5;28;01mTrue\u001b[39;00m):\n\u001b[1;32m---> 44\u001b[0m     \u001b[38;5;28;01mreturn\u001b[39;00m \u001b[43mumr_minimum\u001b[49m\u001b[43m(\u001b[49m\u001b[43ma\u001b[49m\u001b[43m,\u001b[49m\u001b[43m \u001b[49m\u001b[43maxis\u001b[49m\u001b[43m,\u001b[49m\u001b[43m \u001b[49m\u001b[38;5;28;43;01mNone\u001b[39;49;00m\u001b[43m,\u001b[49m\u001b[43m \u001b[49m\u001b[43mout\u001b[49m\u001b[43m,\u001b[49m\u001b[43m \u001b[49m\u001b[43mkeepdims\u001b[49m\u001b[43m,\u001b[49m\u001b[43m \u001b[49m\u001b[43minitial\u001b[49m\u001b[43m,\u001b[49m\u001b[43m \u001b[49m\u001b[43mwhere\u001b[49m\u001b[43m)\u001b[49m\n",
      "\u001b[1;31mValueError\u001b[0m: zero-size array to reduction operation minimum which has no identity"
     ]
    },
    {
     "data": {
      "image/png": "[encoded data removed]",
      "text/plain": [
       "<Figure size 432x288 with 1 Axes>"
      ]
     },
     "metadata": {
      "needs_background": "light"
     },
     "output_type": "display_data"
    }
   ],
   "source": [
    "# coding: utf-8\n",
    "\n",
    "# # Gait Energy Image\n",
    "\n",
    "# In[1]:\n",
    "\n",
    "\n",
    "import os\n",
    "import numpy as np\n",
    "import matplotlib.pyplot as plt\n",
    "from imageio import imread\n",
    "# from scipy.misc import imresize\n",
    "import cv2\n",
    "from skimage.transform import resize\n",
    "\n",
    "\n",
    "# In[2]:\n",
    "\n",
    "\n",
    "files = os.listdir(r'C:\\Users\\User\\Desktop\\Aaron\\College-level Applied Research\\CASIA-B\\GaitDatasetB-silh\\005\\bg-01\\144')\n",
    "images = [imread(r'C:\\Users\\User\\Desktop\\Aaron\\College-level Applied Research\\CASIA-B\\GaitDatasetB-silh\\005\\bg-01\\144'+'\\\\'+f) for f in files]\n",
    "\n",
    "\n",
    "# In[3]:\n",
    "\n",
    "\n",
    "plt.imshow(images[0])\n",
    "\n",
    "\n",
    "# In[4]:\n",
    "\n",
    "\n",
    "def mass_center(img,is_round=True):\n",
    "    Y = img.mean(axis=1)\n",
    "    X = img.mean(axis=0)\n",
    "    Y_ = np.sum(np.arange(Y.shape[0]) * Y)/np.sum(Y)\n",
    "    X_ = np.sum(np.arange(X.shape[0]) * X)/np.sum(X)\n",
    "    if is_round:\n",
    "        return int(round(X_)),int(round(Y_))\n",
    "    return X_,Y_\n",
    "\n",
    "def image_extract(img,newsize):\n",
    "    x_s = np.where(img.mean(axis=0)!=0)[0].min()\n",
    "    x_e = np.where(img.mean(axis=0)!=0)[0].max()\n",
    "    \n",
    "    y_s = np.where(img.mean(axis=1)!=0)[0].min()\n",
    "    y_e = np.where(img.mean(axis=1)!=0)[0].max()\n",
    "    \n",
    "    x_c,_ = mass_center(img)\n",
    "#     x_c = (x_s+x_e)//2\n",
    "    x_s = x_c-newsize[1]//2\n",
    "    x_e = x_c+newsize[1]//2\n",
    "    img = img[y_s:y_e,x_s if x_s>0 else 0:x_e if x_e<img.shape[1] else img.shape[1]]\n",
    "    return cv2.resize(img,newsize)\n",
    "\n",
    "\n",
    "# In[5]:\n",
    "\n",
    "\n",
    "images = [image_extract(i,(64,64)) for i in images]\n",
    "\n",
    "\n",
    "# In[6]:\n",
    "\n",
    "\n",
    "plt.figure()\n",
    "for i in range(15):\n",
    "    plt.subplot(3,5,i+1)\n",
    "    plt.imshow(images[i])\n",
    "plt.show()\n",
    "\n",
    "\n",
    "# In[7]:\n",
    "\n",
    "\n",
    "gei = np.mean(images,axis=0)\n",
    "\n",
    "\n",
    "# In[8]:\n",
    "\n",
    "\n",
    "plt.imshow(gei)\n",
    "plt.show()"
   ]
  },
  {
   "cell_type": "code",
   "execution_count": 22,
   "id": "83a819f4",
   "metadata": {},
   "outputs": [],
   "source": [
    "def get_ppl_block(images, resize):\n",
    "    def mass_center(img,is_round=True):\n",
    "        Y = img.mean(axis=1)\n",
    "        X = img.mean(axis=0)\n",
    "        Y_ = np.sum(np.arange(Y.shape[0]) * Y)/np.sum(Y)\n",
    "        X_ = np.sum(np.arange(X.shape[0]) * X)/np.sum(X)\n",
    "        if is_round:\n",
    "            return int(round(X_)),int(round(Y_))\n",
    "        return X_,Y_\n",
    "\n",
    "    def image_extract(img,newsize):\n",
    "        x_s = np.where(img.mean(axis=0)!=0)[0].min()\n",
    "        x_e = np.where(img.mean(axis=0)!=0)[0].max()\n",
    "\n",
    "        y_s = np.where(img.mean(axis=1)!=0)[0].min()\n",
    "        y_e = np.where(img.mean(axis=1)!=0)[0].max()\n",
    "\n",
    "        x_c,_ = mass_center(img)\n",
    "    #     x_c = (x_s+x_e)//2\n",
    "        x_s = x_c-newsize[1]//2\n",
    "        x_e = x_c+newsize[1]//2\n",
    "        img = img[y_s:y_e,x_s if x_s>0 else 0:x_e if x_e<img.shape[1] else img.shape[1]]\n",
    "        return cv2.resize(img,newsize)\n",
    "\n",
    "    crop_images = [image_extract(i, resize) for i in images]\n",
    "    return crop_images"
   ]
  },
  {
   "cell_type": "code",
   "execution_count": 10,
   "id": "f0d6284e",
   "metadata": {},
   "outputs": [],
   "source": [
    "def Period_Detection(gallery: np.array, gallery_shape: tuple, alpha = 0.470, beta = 0.961) -> np.array:\n",
    "    '''\n",
    "    hip, knee, and ankle are 0.470, 0.715, 0.961\n",
    "    '''\n",
    "    \n",
    "    #設定move_region的y軸最上和最下\n",
    "    #這裡設為hip到ankle\n",
    "    start = round(gallery_shape[0] * alpha)\n",
    "    end = round(gallery_shape[0] * beta)\n",
    "    \n",
    "    period_result = np.empty(gallery.shape[0])\n",
    "    \n",
    "    for i, img in enumerate(gallery):\n",
    "        move_region_aggregate = 0\n",
    "        \n",
    "        for h in range(start, end):\n",
    "            \n",
    "            #找出人在剪影中的最左和最右\n",
    "            nonzero_index = list(np.nonzero(img[h])[0])\n",
    "    \n",
    "            if not nonzero_index:\n",
    "                # 如果都是背景(全黑)則跳過\n",
    "                continue\n",
    "            left_most, right_most = nonzero_index[0], nonzero_index[-1]\n",
    "            \n",
    "            #算出最左和最右的pixel距離，也就是算出人體在剪影的擺動幅度\n",
    "            move_region_aggregate  = move_region_aggregate + (right_most - left_most)\n",
    "            \n",
    "        #平均\n",
    "        move_region_aggregate /= float((end - start + 1))\n",
    "        period_result[i] = move_region_aggregate\n",
    "        \n",
    "    if period_result.shape[0] == 1:\n",
    "        return period_result\n",
    "    \n",
    "    #normalize\n",
    "    period_result = (period_result - np.min(period_result)) / np.ptp(period_result)\n",
    "    \n",
    " \n",
    "    \n",
    "    return period_result\n",
    "    "
   ]
  },
  {
   "cell_type": "code",
   "execution_count": 90,
   "id": "6f494a71",
   "metadata": {},
   "outputs": [],
   "source": [
    "files = os.listdir(r'C:\\Users\\User\\Desktop\\Aaron\\College-level Applied Research\\CASIA-B\\GaitDatasetB-silh\\079\\bg-01\\054')\n",
    "images = [cv2.imread(r'C:\\Users\\User\\Desktop\\Aaron\\College-level Applied Research\\CASIA-B\\GaitDatasetB-silh\\079\\bg-01\\054'+'\\\\'+f, -1) for f in files]\n",
    "images = get_ppl_block(images, (64, 64))\n",
    "images = np.array(images)"
   ]
  },
  {
   "cell_type": "code",
   "execution_count": 91,
   "id": "acb0691f",
   "metadata": {},
   "outputs": [
    {
     "ename": "IndexError",
     "evalue": "index 8 is out of bounds for axis 0 with size 8",
     "output_type": "error",
     "traceback": [
      "\u001b[1;31m---------------------------------------------------------------------------\u001b[0m",
      "\u001b[1;31mIndexError\u001b[0m                                Traceback (most recent call last)",
      "Input \u001b[1;32mIn [91]\u001b[0m, in \u001b[0;36m<cell line: 2>\u001b[1;34m()\u001b[0m\n\u001b[0;32m      2\u001b[0m \u001b[38;5;28;01mfor\u001b[39;00m i \u001b[38;5;129;01min\u001b[39;00m \u001b[38;5;28mrange\u001b[39m(\u001b[38;5;241m15\u001b[39m):\n\u001b[0;32m      3\u001b[0m     plt\u001b[38;5;241m.\u001b[39msubplot(\u001b[38;5;241m3\u001b[39m,\u001b[38;5;241m5\u001b[39m,i\u001b[38;5;241m+\u001b[39m\u001b[38;5;241m1\u001b[39m)\n\u001b[1;32m----> 4\u001b[0m     plt\u001b[38;5;241m.\u001b[39mimshow(\u001b[43mimages\u001b[49m\u001b[43m[\u001b[49m\u001b[43mi\u001b[49m\u001b[43m]\u001b[49m)\n\u001b[0;32m      5\u001b[0m plt\u001b[38;5;241m.\u001b[39mshow()\n",
      "\u001b[1;31mIndexError\u001b[0m: index 8 is out of bounds for axis 0 with size 8"
     ]
    },
    {
     "data": {
      "image/png": "[encoded data removed]",
      "text/plain": [
       "<Figure size 432x288 with 9 Axes>"
      ]
     },
     "metadata": {
      "needs_background": "light"
     },
     "output_type": "display_data"
    }
   ],
   "source": [
    "plt.figure()\n",
    "for i in range(15):\n",
    "    plt.subplot(3,5,i+1)\n",
    "    plt.imshow(images[i])\n",
    "plt.show()"
   ]
  },
  {
   "cell_type": "code",
   "execution_count": 92,
   "id": "fa67e470",
   "metadata": {
    "scrolled": true
   },
   "outputs": [],
   "source": [
    "period = Period_Detection(gallery=images, gallery_shape=images[0].shape)"
   ]
  },
  {
   "cell_type": "code",
   "execution_count": 93,
   "id": "bc0da463",
   "metadata": {},
   "outputs": [
    {
     "data": {
      "text/plain": [
       "array([0.        , 0.55555556, 0.86419753, 0.9382716 , 0.95061728,\n",
       "       1.        , 0.92592593, 0.69135802])"
      ]
     },
     "execution_count": 93,
     "metadata": {},
     "output_type": "execute_result"
    }
   ],
   "source": [
    "period"
   ]
  },
  {
   "cell_type": "code",
   "execution_count": 94,
   "id": "cb91cc58",
   "metadata": {},
   "outputs": [
    {
     "data": {
      "text/plain": [
       "[<matplotlib.lines.Line2D at 0x26d47672550>]"
      ]
     },
     "execution_count": 94,
     "metadata": {},
     "output_type": "execute_result"
    },
    {
     "data": {
      "image/png": "[encoded data removed]",
      "text/plain": [
       "<Figure size 432x288 with 1 Axes>"
      ]
     },
     "metadata": {
      "needs_background": "light"
     },
     "output_type": "display_data"
    }
   ],
   "source": [
    "plt.plot([i for i, _ in enumerate(period)], period, '-o')"
   ]
  },
  {
   "cell_type": "code",
   "execution_count": 95,
   "id": "e4bc44c1",
   "metadata": {},
   "outputs": [],
   "source": [
    "def Tk(m=0.3, nc=5) -> list:\n",
    "    result = []\n",
    "    for k in range(1, nc+1):\n",
    "        tmp = [k/(nc+1) - (m/2), k/(nc+1) + m/2]\n",
    "        result.append(tmp)\n",
    "    return result"
   ]
  },
  {
   "cell_type": "code",
   "execution_count": 96,
   "id": "d7a9e91e",
   "metadata": {},
   "outputs": [
    {
     "data": {
      "text/plain": [
       "[[0.016666666666666663, 0.31666666666666665],\n",
       " [0.18333333333333332, 0.4833333333333333],\n",
       " [0.35, 0.65],\n",
       " [0.5166666666666666, 0.8166666666666667],\n",
       " [0.6833333333333333, 0.9833333333333334]]"
      ]
     },
     "execution_count": 96,
     "metadata": {},
     "output_type": "execute_result"
    }
   ],
   "source": [
    "Tk()"
   ]
  },
  {
   "cell_type": "code",
   "execution_count": 97,
   "id": "e5f4b47f",
   "metadata": {},
   "outputs": [],
   "source": [
    "tk2_image = images[np.where((period > Tk()[1][0]) & (period < Tk()[1][1]))]"
   ]
  },
  {
   "cell_type": "code",
   "execution_count": 100,
   "id": "c2f95589",
   "metadata": {},
   "outputs": [
    {
     "data": {
      "text/plain": [
       "0"
      ]
     },
     "execution_count": 100,
     "metadata": {},
     "output_type": "execute_result"
    }
   ],
   "source": [
    "tk2_image.shape[0]"
   ]
  },
  {
   "cell_type": "code",
   "execution_count": null,
   "id": "e9dbcf49",
   "metadata": {},
   "outputs": [],
   "source": []
  },
  {
   "cell_type": "code",
   "execution_count": 102,
   "id": "7817f402",
   "metadata": {},
   "outputs": [],
   "source": [
    "def GEI(images: np.array, resize: tuple, draw: bool = False) -> list:\n",
    "\n",
    "    def mass_center(img,is_round=True):\n",
    "        Y = img.mean(axis=1)\n",
    "        X = img.mean(axis=0)\n",
    "        Y_ = np.sum(np.arange(Y.shape[0]) * Y)/np.sum(Y)\n",
    "        X_ = np.sum(np.arange(X.shape[0]) * X)/np.sum(X)\n",
    "        if is_round:\n",
    "            return int(round(X_)),int(round(Y_))\n",
    "        return X_,Y_\n",
    "\n",
    "    def image_extract(img,newsize):\n",
    "        x_s = np.where(img.mean(axis=0)!=0)[0].min()\n",
    "        x_e = np.where(img.mean(axis=0)!=0)[0].max()\n",
    "\n",
    "        y_s = np.where(img.mean(axis=1)!=0)[0].min()\n",
    "        y_e = np.where(img.mean(axis=1)!=0)[0].max()\n",
    "\n",
    "        x_c,_ = mass_center(img)\n",
    "    #     x_c = (x_s+x_e)//2\n",
    "        x_s = x_c-newsize[1]//2\n",
    "        x_e = x_c+newsize[1]//2\n",
    "        img = img[y_s:y_e,x_s if x_s>0 else 0:x_e if x_e<img.shape[1] else img.shape[1]]\n",
    "        return cv2.resize(img,newsize)\n",
    "\n",
    "    images = [image_extract(i, resize) for i in images]\n",
    "    gei = np.mean(images,axis=0)\n",
    "    if draw:\n",
    "        plt.imshow(gei)\n",
    "        plt.show()\n",
    "    \n",
    "    return gei"
   ]
  },
  {
   "cell_type": "code",
   "execution_count": 46,
   "id": "258c6b98",
   "metadata": {},
   "outputs": [
    {
     "ename": "TypeError",
     "evalue": "list indices must be integers or slices, not tuple",
     "output_type": "error",
     "traceback": [
      "\u001b[1;31m---------------------------------------------------------------------------\u001b[0m",
      "\u001b[1;31mTypeError\u001b[0m                                 Traceback (most recent call last)",
      "Input \u001b[1;32mIn [46]\u001b[0m, in \u001b[0;36m<cell line: 1>\u001b[1;34m()\u001b[0m\n\u001b[0;32m      1\u001b[0m \u001b[38;5;28;01mfor\u001b[39;00m i \u001b[38;5;129;01min\u001b[39;00m Tk():\n\u001b[1;32m----> 2\u001b[0m     tk_image \u001b[38;5;241m=\u001b[39m \u001b[43mimages\u001b[49m\u001b[43m[\u001b[49m\u001b[43mnp\u001b[49m\u001b[38;5;241;43m.\u001b[39;49m\u001b[43mwhere\u001b[49m\u001b[43m(\u001b[49m\u001b[43m(\u001b[49m\u001b[43mperiod\u001b[49m\u001b[43m \u001b[49m\u001b[38;5;241;43m>\u001b[39;49m\u001b[43m \u001b[49m\u001b[43mi\u001b[49m\u001b[43m[\u001b[49m\u001b[38;5;241;43m0\u001b[39;49m\u001b[43m]\u001b[49m\u001b[43m)\u001b[49m\u001b[43m \u001b[49m\u001b[38;5;241;43m&\u001b[39;49m\u001b[43m \u001b[49m\u001b[43m(\u001b[49m\u001b[43mperiod\u001b[49m\u001b[43m \u001b[49m\u001b[38;5;241;43m<\u001b[39;49m\u001b[43m \u001b[49m\u001b[43mi\u001b[49m\u001b[43m[\u001b[49m\u001b[38;5;241;43m1\u001b[39;49m\u001b[43m]\u001b[49m\u001b[43m)\u001b[49m\u001b[43m)\u001b[49m\u001b[43m]\u001b[49m\n\u001b[0;32m      3\u001b[0m     GEI(tk_image, (\u001b[38;5;241m64\u001b[39m, \u001b[38;5;241m64\u001b[39m), draw\u001b[38;5;241m=\u001b[39m\u001b[38;5;28;01mTrue\u001b[39;00m)\n",
      "\u001b[1;31mTypeError\u001b[0m: list indices must be integers or slices, not tuple"
     ]
    }
   ],
   "source": [
    "for i in Tk():\n",
    "    tk_image = images[np.where((period > i[0]) & (period < i[1]))]\n",
    "    GEI(tk_image, (64, 64), draw=True)"
   ]
  },
  {
   "cell_type": "code",
   "execution_count": null,
   "id": "253ef224",
   "metadata": {},
   "outputs": [],
   "source": [
    "g = os.walk(r'C:\\Users\\User\\Desktop\\Aaron\\College-level Applied Research\\CASIA-B\\GaitDatasetB-silh', topdown=False)"
   ]
  },
  {
   "cell_type": "code",
   "execution_count": 119,
   "id": "e1e1ab3c",
   "metadata": {},
   "outputs": [
    {
     "ename": "ValueError",
     "evalue": "zero-size array to reduction operation minimum which has no identity",
     "output_type": "error",
     "traceback": [
      "\u001b[1;31m---------------------------------------------------------------------------\u001b[0m",
      "\u001b[1;31mValueError\u001b[0m                                Traceback (most recent call last)",
      "Input \u001b[1;32mIn [119]\u001b[0m, in \u001b[0;36m<cell line: 11>\u001b[1;34m()\u001b[0m\n\u001b[0;32m     30\u001b[0m \u001b[38;5;28;01mif\u001b[39;00m images:\n\u001b[0;32m     31\u001b[0m     images_crop \u001b[38;5;241m=\u001b[39m images\u001b[38;5;241m.\u001b[39mcopy()\n\u001b[1;32m---> 32\u001b[0m     images_crop \u001b[38;5;241m=\u001b[39m \u001b[43mget_ppl_block\u001b[49m\u001b[43m(\u001b[49m\u001b[43mimages_crop\u001b[49m\u001b[43m,\u001b[49m\u001b[43m \u001b[49m\u001b[43m(\u001b[49m\u001b[38;5;241;43m64\u001b[39;49m\u001b[43m,\u001b[49m\u001b[43m \u001b[49m\u001b[38;5;241;43m64\u001b[39;49m\u001b[43m)\u001b[49m\u001b[43m)\u001b[49m\n\u001b[0;32m     33\u001b[0m     images_crop \u001b[38;5;241m=\u001b[39m np\u001b[38;5;241m.\u001b[39marray(images_crop)\n\u001b[0;32m     34\u001b[0m     period \u001b[38;5;241m=\u001b[39m Period_Detection(gallery\u001b[38;5;241m=\u001b[39mimages_crop, gallery_shape\u001b[38;5;241m=\u001b[39mimages_crop[\u001b[38;5;241m0\u001b[39m]\u001b[38;5;241m.\u001b[39mshape)\n",
      "Input \u001b[1;32mIn [22]\u001b[0m, in \u001b[0;36mget_ppl_block\u001b[1;34m(images, resize)\u001b[0m\n\u001b[0;32m     22\u001b[0m     img \u001b[38;5;241m=\u001b[39m img[y_s:y_e,x_s \u001b[38;5;28;01mif\u001b[39;00m x_s\u001b[38;5;241m>\u001b[39m\u001b[38;5;241m0\u001b[39m \u001b[38;5;28;01melse\u001b[39;00m \u001b[38;5;241m0\u001b[39m:x_e \u001b[38;5;28;01mif\u001b[39;00m x_e\u001b[38;5;241m<\u001b[39mimg\u001b[38;5;241m.\u001b[39mshape[\u001b[38;5;241m1\u001b[39m] \u001b[38;5;28;01melse\u001b[39;00m img\u001b[38;5;241m.\u001b[39mshape[\u001b[38;5;241m1\u001b[39m]]\n\u001b[0;32m     23\u001b[0m     \u001b[38;5;28;01mreturn\u001b[39;00m cv2\u001b[38;5;241m.\u001b[39mresize(img,newsize)\n\u001b[1;32m---> 25\u001b[0m crop_images \u001b[38;5;241m=\u001b[39m [image_extract(i, resize) \u001b[38;5;28;01mfor\u001b[39;00m i \u001b[38;5;129;01min\u001b[39;00m images]\n\u001b[0;32m     26\u001b[0m \u001b[38;5;28;01mreturn\u001b[39;00m crop_images\n",
      "Input \u001b[1;32mIn [22]\u001b[0m, in \u001b[0;36m<listcomp>\u001b[1;34m(.0)\u001b[0m\n\u001b[0;32m     22\u001b[0m     img \u001b[38;5;241m=\u001b[39m img[y_s:y_e,x_s \u001b[38;5;28;01mif\u001b[39;00m x_s\u001b[38;5;241m>\u001b[39m\u001b[38;5;241m0\u001b[39m \u001b[38;5;28;01melse\u001b[39;00m \u001b[38;5;241m0\u001b[39m:x_e \u001b[38;5;28;01mif\u001b[39;00m x_e\u001b[38;5;241m<\u001b[39mimg\u001b[38;5;241m.\u001b[39mshape[\u001b[38;5;241m1\u001b[39m] \u001b[38;5;28;01melse\u001b[39;00m img\u001b[38;5;241m.\u001b[39mshape[\u001b[38;5;241m1\u001b[39m]]\n\u001b[0;32m     23\u001b[0m     \u001b[38;5;28;01mreturn\u001b[39;00m cv2\u001b[38;5;241m.\u001b[39mresize(img,newsize)\n\u001b[1;32m---> 25\u001b[0m crop_images \u001b[38;5;241m=\u001b[39m [\u001b[43mimage_extract\u001b[49m\u001b[43m(\u001b[49m\u001b[43mi\u001b[49m\u001b[43m,\u001b[49m\u001b[43m \u001b[49m\u001b[43mresize\u001b[49m\u001b[43m)\u001b[49m \u001b[38;5;28;01mfor\u001b[39;00m i \u001b[38;5;129;01min\u001b[39;00m images]\n\u001b[0;32m     26\u001b[0m \u001b[38;5;28;01mreturn\u001b[39;00m crop_images\n",
      "Input \u001b[1;32mIn [22]\u001b[0m, in \u001b[0;36mget_ppl_block.<locals>.image_extract\u001b[1;34m(img, newsize)\u001b[0m\n\u001b[0;32m     11\u001b[0m \u001b[38;5;28;01mdef\u001b[39;00m \u001b[38;5;21mimage_extract\u001b[39m(img,newsize):\n\u001b[1;32m---> 12\u001b[0m     x_s \u001b[38;5;241m=\u001b[39m \u001b[43mnp\u001b[49m\u001b[38;5;241;43m.\u001b[39;49m\u001b[43mwhere\u001b[49m\u001b[43m(\u001b[49m\u001b[43mimg\u001b[49m\u001b[38;5;241;43m.\u001b[39;49m\u001b[43mmean\u001b[49m\u001b[43m(\u001b[49m\u001b[43maxis\u001b[49m\u001b[38;5;241;43m=\u001b[39;49m\u001b[38;5;241;43m0\u001b[39;49m\u001b[43m)\u001b[49m\u001b[38;5;241;43m!=\u001b[39;49m\u001b[38;5;241;43m0\u001b[39;49m\u001b[43m)\u001b[49m\u001b[43m[\u001b[49m\u001b[38;5;241;43m0\u001b[39;49m\u001b[43m]\u001b[49m\u001b[38;5;241;43m.\u001b[39;49m\u001b[43mmin\u001b[49m\u001b[43m(\u001b[49m\u001b[43m)\u001b[49m\n\u001b[0;32m     13\u001b[0m     x_e \u001b[38;5;241m=\u001b[39m np\u001b[38;5;241m.\u001b[39mwhere(img\u001b[38;5;241m.\u001b[39mmean(axis\u001b[38;5;241m=\u001b[39m\u001b[38;5;241m0\u001b[39m)\u001b[38;5;241m!=\u001b[39m\u001b[38;5;241m0\u001b[39m)[\u001b[38;5;241m0\u001b[39m]\u001b[38;5;241m.\u001b[39mmax()\n\u001b[0;32m     15\u001b[0m     y_s \u001b[38;5;241m=\u001b[39m np\u001b[38;5;241m.\u001b[39mwhere(img\u001b[38;5;241m.\u001b[39mmean(axis\u001b[38;5;241m=\u001b[39m\u001b[38;5;241m1\u001b[39m)\u001b[38;5;241m!=\u001b[39m\u001b[38;5;241m0\u001b[39m)[\u001b[38;5;241m0\u001b[39m]\u001b[38;5;241m.\u001b[39mmin()\n",
      "File \u001b[1;32m~\\anaconda3\\envs\\gait\\lib\\site-packages\\numpy\\core\\_methods.py:44\u001b[0m, in \u001b[0;36m_amin\u001b[1;34m(a, axis, out, keepdims, initial, where)\u001b[0m\n\u001b[0;32m     42\u001b[0m \u001b[38;5;28;01mdef\u001b[39;00m \u001b[38;5;21m_amin\u001b[39m(a, axis\u001b[38;5;241m=\u001b[39m\u001b[38;5;28;01mNone\u001b[39;00m, out\u001b[38;5;241m=\u001b[39m\u001b[38;5;28;01mNone\u001b[39;00m, keepdims\u001b[38;5;241m=\u001b[39m\u001b[38;5;28;01mFalse\u001b[39;00m,\n\u001b[0;32m     43\u001b[0m           initial\u001b[38;5;241m=\u001b[39m_NoValue, where\u001b[38;5;241m=\u001b[39m\u001b[38;5;28;01mTrue\u001b[39;00m):\n\u001b[1;32m---> 44\u001b[0m     \u001b[38;5;28;01mreturn\u001b[39;00m \u001b[43mumr_minimum\u001b[49m\u001b[43m(\u001b[49m\u001b[43ma\u001b[49m\u001b[43m,\u001b[49m\u001b[43m \u001b[49m\u001b[43maxis\u001b[49m\u001b[43m,\u001b[49m\u001b[43m \u001b[49m\u001b[38;5;28;43;01mNone\u001b[39;49;00m\u001b[43m,\u001b[49m\u001b[43m \u001b[49m\u001b[43mout\u001b[49m\u001b[43m,\u001b[49m\u001b[43m \u001b[49m\u001b[43mkeepdims\u001b[49m\u001b[43m,\u001b[49m\u001b[43m \u001b[49m\u001b[43minitial\u001b[49m\u001b[43m,\u001b[49m\u001b[43m \u001b[49m\u001b[43mwhere\u001b[49m\u001b[43m)\u001b[49m\n",
      "\u001b[1;31mValueError\u001b[0m: zero-size array to reduction operation minimum which has no identity"
     ]
    }
   ],
   "source": [
    "root = r'C:\\Users\\User\\Desktop\\Aaron\\College-level Applied Research\\CASIA-B\\GaitDatasetB-silh'\n",
    "subjects = os.listdir(root)\n",
    "variations = os.listdir(root +'\\\\'+ subjects[0])\n",
    "angles = os.listdir(root +'\\\\'+ subjects[0] + '\\\\' + variations[0])\n",
    "\n",
    "ourputdir = r'C:\\Users\\User\\Desktop\\Aaron\\College-level Applied Research\\PEI_output'\n",
    "\n",
    "if not os.path.isdir(ourputdir):\n",
    "    os.mkdir(ourputdir)\n",
    "\n",
    "for sub in subjects:\n",
    "    sub_dir = f'{ourputdir}\\\\{sub}'\n",
    "    if not os.path.isdir(sub_dir):\n",
    "        os.mkdir(sub_dir)\n",
    "        \n",
    "    for var in variations:\n",
    "        var_dir = f'{sub_dir}\\\\{var}'\n",
    "        if not os.path.isdir(var_dir):\n",
    "            os.mkdir(var_dir)\n",
    "            \n",
    "        for ang in angles:\n",
    "            ang_dir = f'{var_dir}\\\\{ang}'\n",
    "            if not os.path.isdir(ang_dir):\n",
    "                os.mkdir(ang_dir)\n",
    "            \n",
    "            images_dir = f'{root}\\\\{sub}\\\\{var}\\\\{ang}'\n",
    "            images_filename = os.listdir(images_dir)\n",
    "            images = [cv2.imread(images_dir+'\\\\'+ f, -1) for f in images_filename]\n",
    "            \n",
    "            if images:           \n",
    "                images_crop = images.copy()\n",
    "                images_crop = get_ppl_block(images_crop, (64, 64))\n",
    "                images_crop = np.array(images_crop)\n",
    "                period = Period_Detection(gallery=images_crop, gallery_shape=images_crop[0].shape)\n",
    "                for i, minmax in enumerate(Tk()):\n",
    "                    images = np.array(images)\n",
    "                    tk_image = images[np.where((period > minmax[0]) & (period < minmax[1]))]\n",
    "                    if tk_image.shape[0] > 1:\n",
    "                        gei = GEI(tk_image, (64, 64))\n",
    "#                         plt.imshow(gei)\n",
    "#                         plt.show()\n",
    "                        cv2.imwrite(f'{ang_dir}\\gei_{i}.png', gei)"
   ]
  },
  {
   "cell_type": "code",
   "execution_count": null,
   "id": "4b14510b",
   "metadata": {},
   "outputs": [],
   "source": []
  },
  {
   "cell_type": "code",
   "execution_count": null,
   "id": "64d67adb",
   "metadata": {},
   "outputs": [
    {
     "name": "stdout",
     "output_type": "stream",
     "text": [
      "C:\\Users\\User\\Desktop\\Aaron\\College-level Applied Research\\CASIA-B\\GaitDatasetB-silh\\005\\bg-01\\000\n",
      "C:\\Users\\User\\Desktop\\Aaron\\College-level Applied Research\\CASIA-B\\GaitDatasetB-silh\\005\\bg-01\\144\\005-bg-01-144-060.png\n",
      "C:\\Users\\User\\Desktop\\Aaron\\College-level Applied Research\\CASIA-B\\GaitDatasetB-silh\\005\\bg-01\\144\\005-bg-01-144-061.png\n",
      "C:\\Users\\User\\Desktop\\Aaron\\College-level Applied Research\\CASIA-B\\GaitDatasetB-silh\\005\\bg-01\\144\\005-bg-01-144-062.png\n",
      "C:\\Users\\User\\Desktop\\Aaron\\College-level Applied Research\\CASIA-B\\GaitDatasetB-silh\\005\\bg-01\\144\\005-bg-01-144-063.png\n",
      "C:\\Users\\User\\Desktop\\Aaron\\College-level Applied Research\\CASIA-B\\GaitDatasetB-silh\\005\\bg-01\\144\\005-bg-01-144-064.png\n",
      "C:\\Users\\User\\Desktop\\Aaron\\College-level Applied Research\\CASIA-B\\GaitDatasetB-silh\\005\\bg-01\\144\\005-bg-01-144-065.png\n",
      "C:\\Users\\User\\Desktop\\Aaron\\College-level Applied Research\\CASIA-B\\GaitDatasetB-silh\\005\\bg-01\\162\\005-bg-01-162-001.png\n",
      "C:\\Users\\User\\Desktop\\Aaron\\College-level Applied Research\\CASIA-B\\GaitDatasetB-silh\\005\\bg-01\\162\\005-bg-01-162-002.png\n",
      "C:\\Users\\User\\Desktop\\Aaron\\College-level Applied Research\\CASIA-B\\GaitDatasetB-silh\\005\\bg-01\\162\\005-bg-01-162-003.png\n",
      "C:\\Users\\User\\Desktop\\Aaron\\College-level Applied Research\\CASIA-B\\GaitDatasetB-silh\\005\\bg-01\\162\\005-bg-01-162-004.png\n",
      "C:\\Users\\User\\Desktop\\Aaron\\College-level Applied Research\\CASIA-B\\GaitDatasetB-silh\\005\\bg-01\\162\\005-bg-01-162-007.png\n",
      "C:\\Users\\User\\Desktop\\Aaron\\College-level Applied Research\\CASIA-B\\GaitDatasetB-silh\\005\\bg-01\\162\\005-bg-01-162-008.png\n",
      "C:\\Users\\User\\Desktop\\Aaron\\College-level Applied Research\\CASIA-B\\GaitDatasetB-silh\\005\\bg-01\\162\\005-bg-01-162-009.png\n",
      "C:\\Users\\User\\Desktop\\Aaron\\College-level Applied Research\\CASIA-B\\GaitDatasetB-silh\\005\\bg-01\\162\\005-bg-01-162-011.png\n",
      "C:\\Users\\User\\Desktop\\Aaron\\College-level Applied Research\\CASIA-B\\GaitDatasetB-silh\\005\\bg-01\\162\\005-bg-01-162-012.png\n",
      "C:\\Users\\User\\Desktop\\Aaron\\College-level Applied Research\\CASIA-B\\GaitDatasetB-silh\\005\\bg-01\\162\\005-bg-01-162-013.png\n",
      "C:\\Users\\User\\Desktop\\Aaron\\College-level Applied Research\\CASIA-B\\GaitDatasetB-silh\\005\\bg-01\\162\\005-bg-01-162-014.png\n",
      "C:\\Users\\User\\Desktop\\Aaron\\College-level Applied Research\\CASIA-B\\GaitDatasetB-silh\\005\\bg-01\\162\\005-bg-01-162-015.png\n",
      "C:\\Users\\User\\Desktop\\Aaron\\College-level Applied Research\\CASIA-B\\GaitDatasetB-silh\\005\\bg-01\\162\\005-bg-01-162-016.png\n",
      "C:\\Users\\User\\Desktop\\Aaron\\College-level Applied Research\\CASIA-B\\GaitDatasetB-silh\\005\\bg-01\\162\\005-bg-01-162-018.png\n",
      "C:\\Users\\User\\Desktop\\Aaron\\College-level Applied Research\\CASIA-B\\GaitDatasetB-silh\\005\\bg-01\\162\\005-bg-01-162-019.png\n",
      "C:\\Users\\User\\Desktop\\Aaron\\College-level Applied Research\\CASIA-B\\GaitDatasetB-silh\\005\\bg-01\\162\\005-bg-01-162-020.png\n",
      "C:\\Users\\User\\Desktop\\Aaron\\College-level Applied Research\\CASIA-B\\GaitDatasetB-silh\\005\\bg-01\\162\\005-bg-01-162-021.png\n",
      "C:\\Users\\User\\Desktop\\Aaron\\College-level Applied Research\\CASIA-B\\GaitDatasetB-silh\\005\\bg-01\\162\\005-bg-01-162-023.png\n",
      "C:\\Users\\User\\Desktop\\Aaron\\College-level Applied Research\\CASIA-B\\GaitDatasetB-silh\\005\\bg-01\\162\\005-bg-01-162-025.png\n",
      "C:\\Users\\User\\Desktop\\Aaron\\College-level Applied Research\\CASIA-B\\GaitDatasetB-silh\\005\\bg-01\\162\\005-bg-01-162-026.png\n",
      "C:\\Users\\User\\Desktop\\Aaron\\College-level Applied Research\\CASIA-B\\GaitDatasetB-silh\\005\\bg-01\\162\\005-bg-01-162-027.png\n",
      "C:\\Users\\User\\Desktop\\Aaron\\College-level Applied Research\\CASIA-B\\GaitDatasetB-silh\\005\\bg-01\\162\\005-bg-01-162-028.png\n",
      "C:\\Users\\User\\Desktop\\Aaron\\College-level Applied Research\\CASIA-B\\GaitDatasetB-silh\\005\\bg-01\\162\\005-bg-01-162-029.png\n",
      "C:\\Users\\User\\Desktop\\Aaron\\College-level Applied Research\\CASIA-B\\GaitDatasetB-silh\\005\\bg-01\\162\\005-bg-01-162-030.png\n",
      "C:\\Users\\User\\Desktop\\Aaron\\College-level Applied Research\\CASIA-B\\GaitDatasetB-silh\\005\\bg-01\\162\\005-bg-01-162-031.png\n",
      "C:\\Users\\User\\Desktop\\Aaron\\College-level Applied Research\\CASIA-B\\GaitDatasetB-silh\\005\\bg-01\\162\\005-bg-01-162-032.png\n",
      "C:\\Users\\User\\Desktop\\Aaron\\College-level Applied Research\\CASIA-B\\GaitDatasetB-silh\\005\\bg-01\\162\\005-bg-01-162-033.png\n",
      "C:\\Users\\User\\Desktop\\Aaron\\College-level Applied Research\\CASIA-B\\GaitDatasetB-silh\\005\\bg-01\\162\\005-bg-01-162-034.png\n",
      "C:\\Users\\User\\Desktop\\Aaron\\College-level Applied Research\\CASIA-B\\GaitDatasetB-silh\\005\\bg-01\\162\\005-bg-01-162-035.png\n",
      "C:\\Users\\User\\Desktop\\Aaron\\College-level Applied Research\\CASIA-B\\GaitDatasetB-silh\\005\\bg-01\\162\\005-bg-01-162-036.png\n",
      "C:\\Users\\User\\Desktop\\Aaron\\College-level Applied Research\\CASIA-B\\GaitDatasetB-silh\\005\\bg-01\\162\\005-bg-01-162-039.png\n",
      "C:\\Users\\User\\Desktop\\Aaron\\College-level Applied Research\\CASIA-B\\GaitDatasetB-silh\\005\\bg-01\\162\\005-bg-01-162-041.png\n",
      "C:\\Users\\User\\Desktop\\Aaron\\College-level Applied Research\\CASIA-B\\GaitDatasetB-silh\\005\\bg-01\\162\\005-bg-01-162-042.png\n",
      "C:\\Users\\User\\Desktop\\Aaron\\College-level Applied Research\\CASIA-B\\GaitDatasetB-silh\\005\\bg-01\\162\\005-bg-01-162-043.png\n",
      "C:\\Users\\User\\Desktop\\Aaron\\College-level Applied Research\\CASIA-B\\GaitDatasetB-silh\\005\\bg-01\\162\\005-bg-01-162-044.png\n",
      "C:\\Users\\User\\Desktop\\Aaron\\College-level Applied Research\\CASIA-B\\GaitDatasetB-silh\\005\\bg-01\\162\\005-bg-01-162-046.png\n",
      "C:\\Users\\User\\Desktop\\Aaron\\College-level Applied Research\\CASIA-B\\GaitDatasetB-silh\\005\\bg-02\\000\n",
      "C:\\Users\\User\\Desktop\\Aaron\\College-level Applied Research\\CASIA-B\\GaitDatasetB-silh\\005\\bg-02\\126\\005-bg-02-126-034.png\n",
      "C:\\Users\\User\\Desktop\\Aaron\\College-level Applied Research\\CASIA-B\\GaitDatasetB-silh\\005\\bg-02\\126\\005-bg-02-126-037.png\n",
      "C:\\Users\\User\\Desktop\\Aaron\\College-level Applied Research\\CASIA-B\\GaitDatasetB-silh\\005\\bg-02\\144\\005-bg-02-144-042.png\n",
      "C:\\Users\\User\\Desktop\\Aaron\\College-level Applied Research\\CASIA-B\\GaitDatasetB-silh\\005\\bg-02\\162\\005-bg-02-162-001.png\n",
      "C:\\Users\\User\\Desktop\\Aaron\\College-level Applied Research\\CASIA-B\\GaitDatasetB-silh\\005\\bg-02\\162\\005-bg-02-162-002.png\n",
      "C:\\Users\\User\\Desktop\\Aaron\\College-level Applied Research\\CASIA-B\\GaitDatasetB-silh\\005\\bg-02\\162\\005-bg-02-162-003.png\n",
      "C:\\Users\\User\\Desktop\\Aaron\\College-level Applied Research\\CASIA-B\\GaitDatasetB-silh\\005\\bg-02\\162\\005-bg-02-162-004.png\n",
      "C:\\Users\\User\\Desktop\\Aaron\\College-level Applied Research\\CASIA-B\\GaitDatasetB-silh\\005\\bg-02\\162\\005-bg-02-162-005.png\n",
      "C:\\Users\\User\\Desktop\\Aaron\\College-level Applied Research\\CASIA-B\\GaitDatasetB-silh\\005\\bg-02\\162\\005-bg-02-162-006.png\n",
      "C:\\Users\\User\\Desktop\\Aaron\\College-level Applied Research\\CASIA-B\\GaitDatasetB-silh\\005\\bg-02\\162\\005-bg-02-162-008.png\n",
      "C:\\Users\\User\\Desktop\\Aaron\\College-level Applied Research\\CASIA-B\\GaitDatasetB-silh\\005\\bg-02\\162\\005-bg-02-162-009.png\n",
      "C:\\Users\\User\\Desktop\\Aaron\\College-level Applied Research\\CASIA-B\\GaitDatasetB-silh\\005\\bg-02\\162\\005-bg-02-162-010.png\n",
      "C:\\Users\\User\\Desktop\\Aaron\\College-level Applied Research\\CASIA-B\\GaitDatasetB-silh\\005\\bg-02\\162\\005-bg-02-162-011.png\n",
      "C:\\Users\\User\\Desktop\\Aaron\\College-level Applied Research\\CASIA-B\\GaitDatasetB-silh\\005\\bg-02\\162\\005-bg-02-162-013.png\n",
      "C:\\Users\\User\\Desktop\\Aaron\\College-level Applied Research\\CASIA-B\\GaitDatasetB-silh\\005\\bg-02\\162\\005-bg-02-162-014.png\n",
      "C:\\Users\\User\\Desktop\\Aaron\\College-level Applied Research\\CASIA-B\\GaitDatasetB-silh\\005\\bg-02\\162\\005-bg-02-162-015.png\n",
      "C:\\Users\\User\\Desktop\\Aaron\\College-level Applied Research\\CASIA-B\\GaitDatasetB-silh\\005\\bg-02\\162\\005-bg-02-162-016.png\n",
      "C:\\Users\\User\\Desktop\\Aaron\\College-level Applied Research\\CASIA-B\\GaitDatasetB-silh\\005\\bg-02\\162\\005-bg-02-162-017.png\n",
      "C:\\Users\\User\\Desktop\\Aaron\\College-level Applied Research\\CASIA-B\\GaitDatasetB-silh\\005\\bg-02\\162\\005-bg-02-162-018.png\n",
      "C:\\Users\\User\\Desktop\\Aaron\\College-level Applied Research\\CASIA-B\\GaitDatasetB-silh\\005\\bg-02\\162\\005-bg-02-162-019.png\n",
      "C:\\Users\\User\\Desktop\\Aaron\\College-level Applied Research\\CASIA-B\\GaitDatasetB-silh\\005\\bg-02\\162\\005-bg-02-162-020.png\n",
      "C:\\Users\\User\\Desktop\\Aaron\\College-level Applied Research\\CASIA-B\\GaitDatasetB-silh\\005\\bg-02\\162\\005-bg-02-162-021.png\n",
      "C:\\Users\\User\\Desktop\\Aaron\\College-level Applied Research\\CASIA-B\\GaitDatasetB-silh\\005\\bg-02\\162\\005-bg-02-162-022.png\n",
      "C:\\Users\\User\\Desktop\\Aaron\\College-level Applied Research\\CASIA-B\\GaitDatasetB-silh\\005\\bg-02\\162\\005-bg-02-162-023.png\n",
      "C:\\Users\\User\\Desktop\\Aaron\\College-level Applied Research\\CASIA-B\\GaitDatasetB-silh\\005\\bg-02\\162\\005-bg-02-162-024.png\n",
      "C:\\Users\\User\\Desktop\\Aaron\\College-level Applied Research\\CASIA-B\\GaitDatasetB-silh\\005\\bg-02\\162\\005-bg-02-162-025.png\n",
      "C:\\Users\\User\\Desktop\\Aaron\\College-level Applied Research\\CASIA-B\\GaitDatasetB-silh\\005\\bg-02\\162\\005-bg-02-162-026.png\n",
      "C:\\Users\\User\\Desktop\\Aaron\\College-level Applied Research\\CASIA-B\\GaitDatasetB-silh\\005\\bg-02\\162\\005-bg-02-162-027.png\n",
      "C:\\Users\\User\\Desktop\\Aaron\\College-level Applied Research\\CASIA-B\\GaitDatasetB-silh\\005\\bg-02\\162\\005-bg-02-162-028.png\n",
      "C:\\Users\\User\\Desktop\\Aaron\\College-level Applied Research\\CASIA-B\\GaitDatasetB-silh\\005\\bg-02\\162\\005-bg-02-162-029.png\n"
     ]
    },
    {
     "name": "stdout",
     "output_type": "stream",
     "text": [
      "C:\\Users\\User\\Desktop\\Aaron\\College-level Applied Research\\CASIA-B\\GaitDatasetB-silh\\005\\cl-01\\000\n",
      "C:\\Users\\User\\Desktop\\Aaron\\College-level Applied Research\\CASIA-B\\GaitDatasetB-silh\\005\\cl-02\\000\n",
      "C:\\Users\\User\\Desktop\\Aaron\\College-level Applied Research\\CASIA-B\\GaitDatasetB-silh\\005\\cl-02\\108\\005-cl-02-108-198.png\n",
      "C:\\Users\\User\\Desktop\\Aaron\\College-level Applied Research\\CASIA-B\\GaitDatasetB-silh\\005\\cl-02\\108\\005-cl-02-108-199.png\n",
      "C:\\Users\\User\\Desktop\\Aaron\\College-level Applied Research\\CASIA-B\\GaitDatasetB-silh\\005\\cl-02\\108\\005-cl-02-108-200.png\n",
      "C:\\Users\\User\\Desktop\\Aaron\\College-level Applied Research\\CASIA-B\\GaitDatasetB-silh\\005\\nm-01\\000\n",
      "C:\\Users\\User\\Desktop\\Aaron\\College-level Applied Research\\CASIA-B\\GaitDatasetB-silh\\005\\nm-02\\000\n",
      "C:\\Users\\User\\Desktop\\Aaron\\College-level Applied Research\\CASIA-B\\GaitDatasetB-silh\\005\\nm-03\\000\n",
      "C:\\Users\\User\\Desktop\\Aaron\\College-level Applied Research\\CASIA-B\\GaitDatasetB-silh\\005\\nm-04\\000\n",
      "C:\\Users\\User\\Desktop\\Aaron\\College-level Applied Research\\CASIA-B\\GaitDatasetB-silh\\005\\nm-04\\018\\005-nm-04-018-116.png\n",
      "C:\\Users\\User\\Desktop\\Aaron\\College-level Applied Research\\CASIA-B\\GaitDatasetB-silh\\005\\nm-04\\036\\005-nm-04-036-097.png\n",
      "C:\\Users\\User\\Desktop\\Aaron\\College-level Applied Research\\CASIA-B\\GaitDatasetB-silh\\005\\nm-04\\162\\005-nm-04-162-001.png\n",
      "C:\\Users\\User\\Desktop\\Aaron\\College-level Applied Research\\CASIA-B\\GaitDatasetB-silh\\005\\nm-04\\162\\005-nm-04-162-003.png\n",
      "C:\\Users\\User\\Desktop\\Aaron\\College-level Applied Research\\CASIA-B\\GaitDatasetB-silh\\005\\nm-04\\162\\005-nm-04-162-004.png\n",
      "C:\\Users\\User\\Desktop\\Aaron\\College-level Applied Research\\CASIA-B\\GaitDatasetB-silh\\005\\nm-04\\162\\005-nm-04-162-007.png\n",
      "C:\\Users\\User\\Desktop\\Aaron\\College-level Applied Research\\CASIA-B\\GaitDatasetB-silh\\005\\nm-04\\162\\005-nm-04-162-008.png\n",
      "C:\\Users\\User\\Desktop\\Aaron\\College-level Applied Research\\CASIA-B\\GaitDatasetB-silh\\005\\nm-04\\162\\005-nm-04-162-010.png\n",
      "C:\\Users\\User\\Desktop\\Aaron\\College-level Applied Research\\CASIA-B\\GaitDatasetB-silh\\005\\nm-04\\162\\005-nm-04-162-013.png\n",
      "C:\\Users\\User\\Desktop\\Aaron\\College-level Applied Research\\CASIA-B\\GaitDatasetB-silh\\005\\nm-04\\162\\005-nm-04-162-015.png\n",
      "C:\\Users\\User\\Desktop\\Aaron\\College-level Applied Research\\CASIA-B\\GaitDatasetB-silh\\005\\nm-04\\162\\005-nm-04-162-016.png\n",
      "C:\\Users\\User\\Desktop\\Aaron\\College-level Applied Research\\CASIA-B\\GaitDatasetB-silh\\005\\nm-05\\000\n",
      "C:\\Users\\User\\Desktop\\Aaron\\College-level Applied Research\\CASIA-B\\GaitDatasetB-silh\\005\\nm-05\\144\\005-nm-05-144-190.png\n",
      "C:\\Users\\User\\Desktop\\Aaron\\College-level Applied Research\\CASIA-B\\GaitDatasetB-silh\\005\\nm-06\\000\n",
      "C:\\Users\\User\\Desktop\\Aaron\\College-level Applied Research\\CASIA-B\\GaitDatasetB-silh\\005\\nm-06\\018\\005-nm-06-018-103.png\n",
      "C:\\Users\\User\\Desktop\\Aaron\\College-level Applied Research\\CASIA-B\\GaitDatasetB-silh\\005\\nm-06\\108\\005-nm-06-108-136.png\n",
      "C:\\Users\\User\\Desktop\\Aaron\\College-level Applied Research\\CASIA-B\\GaitDatasetB-silh\\005\\nm-06\\162\\005-nm-06-162-004.png\n",
      "C:\\Users\\User\\Desktop\\Aaron\\College-level Applied Research\\CASIA-B\\GaitDatasetB-silh\\005\\nm-06\\162\\005-nm-06-162-005.png\n",
      "C:\\Users\\User\\Desktop\\Aaron\\College-level Applied Research\\CASIA-B\\GaitDatasetB-silh\\006\\nm-03\\108\\006-nm-03-108-079.png\n",
      "C:\\Users\\User\\Desktop\\Aaron\\College-level Applied Research\\CASIA-B\\GaitDatasetB-silh\\011\\nm-02\\126\\011-nm-02-126-036.png\n",
      "C:\\Users\\User\\Desktop\\Aaron\\College-level Applied Research\\CASIA-B\\GaitDatasetB-silh\\013\\bg-01\\162\\013-bg-01-162-001.png\n",
      "C:\\Users\\User\\Desktop\\Aaron\\College-level Applied Research\\CASIA-B\\GaitDatasetB-silh\\013\\bg-01\\162\\013-bg-01-162-002.png\n",
      "C:\\Users\\User\\Desktop\\Aaron\\College-level Applied Research\\CASIA-B\\GaitDatasetB-silh\\013\\bg-01\\162\\013-bg-01-162-003.png\n",
      "C:\\Users\\User\\Desktop\\Aaron\\College-level Applied Research\\CASIA-B\\GaitDatasetB-silh\\013\\bg-01\\162\\013-bg-01-162-004.png\n",
      "C:\\Users\\User\\Desktop\\Aaron\\College-level Applied Research\\CASIA-B\\GaitDatasetB-silh\\013\\bg-01\\162\\013-bg-01-162-005.png\n",
      "C:\\Users\\User\\Desktop\\Aaron\\College-level Applied Research\\CASIA-B\\GaitDatasetB-silh\\013\\bg-01\\162\\013-bg-01-162-006.png\n",
      "C:\\Users\\User\\Desktop\\Aaron\\College-level Applied Research\\CASIA-B\\GaitDatasetB-silh\\013\\bg-01\\162\\013-bg-01-162-007.png\n",
      "C:\\Users\\User\\Desktop\\Aaron\\College-level Applied Research\\CASIA-B\\GaitDatasetB-silh\\013\\bg-01\\162\\013-bg-01-162-008.png\n",
      "C:\\Users\\User\\Desktop\\Aaron\\College-level Applied Research\\CASIA-B\\GaitDatasetB-silh\\013\\bg-01\\162\\013-bg-01-162-009.png\n",
      "C:\\Users\\User\\Desktop\\Aaron\\College-level Applied Research\\CASIA-B\\GaitDatasetB-silh\\013\\bg-01\\162\\013-bg-01-162-010.png\n",
      "C:\\Users\\User\\Desktop\\Aaron\\College-level Applied Research\\CASIA-B\\GaitDatasetB-silh\\013\\bg-01\\162\\013-bg-01-162-011.png\n",
      "C:\\Users\\User\\Desktop\\Aaron\\College-level Applied Research\\CASIA-B\\GaitDatasetB-silh\\013\\bg-01\\162\\013-bg-01-162-012.png\n",
      "C:\\Users\\User\\Desktop\\Aaron\\College-level Applied Research\\CASIA-B\\GaitDatasetB-silh\\013\\bg-01\\162\\013-bg-01-162-013.png\n",
      "C:\\Users\\User\\Desktop\\Aaron\\College-level Applied Research\\CASIA-B\\GaitDatasetB-silh\\013\\bg-01\\162\\013-bg-01-162-014.png\n",
      "C:\\Users\\User\\Desktop\\Aaron\\College-level Applied Research\\CASIA-B\\GaitDatasetB-silh\\013\\bg-01\\162\\013-bg-01-162-015.png\n",
      "C:\\Users\\User\\Desktop\\Aaron\\College-level Applied Research\\CASIA-B\\GaitDatasetB-silh\\013\\bg-01\\162\\013-bg-01-162-016.png\n",
      "C:\\Users\\User\\Desktop\\Aaron\\College-level Applied Research\\CASIA-B\\GaitDatasetB-silh\\013\\bg-01\\162\\013-bg-01-162-017.png\n",
      "C:\\Users\\User\\Desktop\\Aaron\\College-level Applied Research\\CASIA-B\\GaitDatasetB-silh\\013\\bg-01\\162\\013-bg-01-162-018.png\n",
      "C:\\Users\\User\\Desktop\\Aaron\\College-level Applied Research\\CASIA-B\\GaitDatasetB-silh\\013\\bg-01\\162\\013-bg-01-162-019.png\n",
      "C:\\Users\\User\\Desktop\\Aaron\\College-level Applied Research\\CASIA-B\\GaitDatasetB-silh\\013\\bg-01\\162\\013-bg-01-162-020.png\n",
      "C:\\Users\\User\\Desktop\\Aaron\\College-level Applied Research\\CASIA-B\\GaitDatasetB-silh\\013\\bg-01\\162\\013-bg-01-162-021.png\n",
      "C:\\Users\\User\\Desktop\\Aaron\\College-level Applied Research\\CASIA-B\\GaitDatasetB-silh\\013\\bg-01\\162\\013-bg-01-162-022.png\n",
      "C:\\Users\\User\\Desktop\\Aaron\\College-level Applied Research\\CASIA-B\\GaitDatasetB-silh\\013\\bg-01\\162\\013-bg-01-162-023.png\n",
      "C:\\Users\\User\\Desktop\\Aaron\\College-level Applied Research\\CASIA-B\\GaitDatasetB-silh\\013\\bg-01\\162\\013-bg-01-162-024.png\n",
      "C:\\Users\\User\\Desktop\\Aaron\\College-level Applied Research\\CASIA-B\\GaitDatasetB-silh\\013\\bg-01\\162\\013-bg-01-162-025.png\n",
      "C:\\Users\\User\\Desktop\\Aaron\\College-level Applied Research\\CASIA-B\\GaitDatasetB-silh\\013\\bg-01\\162\\013-bg-01-162-026.png\n",
      "C:\\Users\\User\\Desktop\\Aaron\\College-level Applied Research\\CASIA-B\\GaitDatasetB-silh\\013\\bg-01\\162\\013-bg-01-162-027.png\n",
      "C:\\Users\\User\\Desktop\\Aaron\\College-level Applied Research\\CASIA-B\\GaitDatasetB-silh\\013\\bg-01\\162\\013-bg-01-162-028.png\n",
      "C:\\Users\\User\\Desktop\\Aaron\\College-level Applied Research\\CASIA-B\\GaitDatasetB-silh\\013\\bg-01\\162\\013-bg-01-162-029.png\n",
      "C:\\Users\\User\\Desktop\\Aaron\\College-level Applied Research\\CASIA-B\\GaitDatasetB-silh\\013\\bg-01\\162\\013-bg-01-162-030.png\n",
      "C:\\Users\\User\\Desktop\\Aaron\\College-level Applied Research\\CASIA-B\\GaitDatasetB-silh\\013\\bg-01\\162\\013-bg-01-162-031.png\n",
      "C:\\Users\\User\\Desktop\\Aaron\\College-level Applied Research\\CASIA-B\\GaitDatasetB-silh\\013\\bg-01\\162\\013-bg-01-162-032.png\n",
      "C:\\Users\\User\\Desktop\\Aaron\\College-level Applied Research\\CASIA-B\\GaitDatasetB-silh\\013\\bg-02\\162\\013-bg-02-162-001.png\n",
      "C:\\Users\\User\\Desktop\\Aaron\\College-level Applied Research\\CASIA-B\\GaitDatasetB-silh\\013\\bg-02\\162\\013-bg-02-162-002.png\n",
      "C:\\Users\\User\\Desktop\\Aaron\\College-level Applied Research\\CASIA-B\\GaitDatasetB-silh\\013\\bg-02\\162\\013-bg-02-162-003.png\n",
      "C:\\Users\\User\\Desktop\\Aaron\\College-level Applied Research\\CASIA-B\\GaitDatasetB-silh\\013\\bg-02\\162\\013-bg-02-162-004.png\n",
      "C:\\Users\\User\\Desktop\\Aaron\\College-level Applied Research\\CASIA-B\\GaitDatasetB-silh\\013\\bg-02\\162\\013-bg-02-162-005.png\n",
      "C:\\Users\\User\\Desktop\\Aaron\\College-level Applied Research\\CASIA-B\\GaitDatasetB-silh\\013\\bg-02\\162\\013-bg-02-162-006.png\n",
      "C:\\Users\\User\\Desktop\\Aaron\\College-level Applied Research\\CASIA-B\\GaitDatasetB-silh\\013\\bg-02\\162\\013-bg-02-162-007.png\n",
      "C:\\Users\\User\\Desktop\\Aaron\\College-level Applied Research\\CASIA-B\\GaitDatasetB-silh\\013\\bg-02\\162\\013-bg-02-162-008.png\n",
      "C:\\Users\\User\\Desktop\\Aaron\\College-level Applied Research\\CASIA-B\\GaitDatasetB-silh\\013\\bg-02\\162\\013-bg-02-162-009.png\n",
      "C:\\Users\\User\\Desktop\\Aaron\\College-level Applied Research\\CASIA-B\\GaitDatasetB-silh\\013\\bg-02\\162\\013-bg-02-162-010.png\n",
      "C:\\Users\\User\\Desktop\\Aaron\\College-level Applied Research\\CASIA-B\\GaitDatasetB-silh\\013\\bg-02\\162\\013-bg-02-162-011.png\n",
      "C:\\Users\\User\\Desktop\\Aaron\\College-level Applied Research\\CASIA-B\\GaitDatasetB-silh\\013\\bg-02\\162\\013-bg-02-162-012.png\n",
      "C:\\Users\\User\\Desktop\\Aaron\\College-level Applied Research\\CASIA-B\\GaitDatasetB-silh\\013\\bg-02\\162\\013-bg-02-162-013.png\n",
      "C:\\Users\\User\\Desktop\\Aaron\\College-level Applied Research\\CASIA-B\\GaitDatasetB-silh\\013\\bg-02\\162\\013-bg-02-162-014.png\n",
      "C:\\Users\\User\\Desktop\\Aaron\\College-level Applied Research\\CASIA-B\\GaitDatasetB-silh\\013\\bg-02\\162\\013-bg-02-162-015.png\n",
      "C:\\Users\\User\\Desktop\\Aaron\\College-level Applied Research\\CASIA-B\\GaitDatasetB-silh\\013\\bg-02\\162\\013-bg-02-162-016.png\n",
      "C:\\Users\\User\\Desktop\\Aaron\\College-level Applied Research\\CASIA-B\\GaitDatasetB-silh\\013\\bg-02\\162\\013-bg-02-162-017.png\n"
     ]
    },
    {
     "name": "stdout",
     "output_type": "stream",
     "text": [
      "C:\\Users\\User\\Desktop\\Aaron\\College-level Applied Research\\CASIA-B\\GaitDatasetB-silh\\013\\cl-01\\162\\013-cl-01-162-001.png\n",
      "C:\\Users\\User\\Desktop\\Aaron\\College-level Applied Research\\CASIA-B\\GaitDatasetB-silh\\013\\cl-01\\162\\013-cl-01-162-002.png\n",
      "C:\\Users\\User\\Desktop\\Aaron\\College-level Applied Research\\CASIA-B\\GaitDatasetB-silh\\013\\cl-01\\162\\013-cl-01-162-003.png\n",
      "C:\\Users\\User\\Desktop\\Aaron\\College-level Applied Research\\CASIA-B\\GaitDatasetB-silh\\013\\cl-01\\162\\013-cl-01-162-004.png\n",
      "C:\\Users\\User\\Desktop\\Aaron\\College-level Applied Research\\CASIA-B\\GaitDatasetB-silh\\013\\cl-01\\162\\013-cl-01-162-005.png\n",
      "C:\\Users\\User\\Desktop\\Aaron\\College-level Applied Research\\CASIA-B\\GaitDatasetB-silh\\013\\cl-01\\162\\013-cl-01-162-006.png\n",
      "C:\\Users\\User\\Desktop\\Aaron\\College-level Applied Research\\CASIA-B\\GaitDatasetB-silh\\013\\cl-01\\162\\013-cl-01-162-007.png\n",
      "C:\\Users\\User\\Desktop\\Aaron\\College-level Applied Research\\CASIA-B\\GaitDatasetB-silh\\013\\cl-01\\162\\013-cl-01-162-008.png\n",
      "C:\\Users\\User\\Desktop\\Aaron\\College-level Applied Research\\CASIA-B\\GaitDatasetB-silh\\013\\cl-01\\162\\013-cl-01-162-009.png\n",
      "C:\\Users\\User\\Desktop\\Aaron\\College-level Applied Research\\CASIA-B\\GaitDatasetB-silh\\013\\cl-01\\162\\013-cl-01-162-010.png\n",
      "C:\\Users\\User\\Desktop\\Aaron\\College-level Applied Research\\CASIA-B\\GaitDatasetB-silh\\013\\cl-01\\162\\013-cl-01-162-011.png\n",
      "C:\\Users\\User\\Desktop\\Aaron\\College-level Applied Research\\CASIA-B\\GaitDatasetB-silh\\013\\cl-01\\162\\013-cl-01-162-012.png\n",
      "C:\\Users\\User\\Desktop\\Aaron\\College-level Applied Research\\CASIA-B\\GaitDatasetB-silh\\013\\cl-01\\162\\013-cl-01-162-013.png\n",
      "C:\\Users\\User\\Desktop\\Aaron\\College-level Applied Research\\CASIA-B\\GaitDatasetB-silh\\013\\cl-01\\162\\013-cl-01-162-014.png\n",
      "C:\\Users\\User\\Desktop\\Aaron\\College-level Applied Research\\CASIA-B\\GaitDatasetB-silh\\013\\cl-01\\162\\013-cl-01-162-015.png\n",
      "C:\\Users\\User\\Desktop\\Aaron\\College-level Applied Research\\CASIA-B\\GaitDatasetB-silh\\013\\cl-01\\162\\013-cl-01-162-016.png\n",
      "C:\\Users\\User\\Desktop\\Aaron\\College-level Applied Research\\CASIA-B\\GaitDatasetB-silh\\013\\cl-01\\162\\013-cl-01-162-017.png\n",
      "C:\\Users\\User\\Desktop\\Aaron\\College-level Applied Research\\CASIA-B\\GaitDatasetB-silh\\013\\cl-02\\162\\013-cl-02-162-001.png\n",
      "C:\\Users\\User\\Desktop\\Aaron\\College-level Applied Research\\CASIA-B\\GaitDatasetB-silh\\013\\cl-02\\162\\013-cl-02-162-002.png\n",
      "C:\\Users\\User\\Desktop\\Aaron\\College-level Applied Research\\CASIA-B\\GaitDatasetB-silh\\013\\cl-02\\162\\013-cl-02-162-003.png\n",
      "C:\\Users\\User\\Desktop\\Aaron\\College-level Applied Research\\CASIA-B\\GaitDatasetB-silh\\013\\cl-02\\162\\013-cl-02-162-004.png\n",
      "C:\\Users\\User\\Desktop\\Aaron\\College-level Applied Research\\CASIA-B\\GaitDatasetB-silh\\013\\cl-02\\162\\013-cl-02-162-005.png\n",
      "C:\\Users\\User\\Desktop\\Aaron\\College-level Applied Research\\CASIA-B\\GaitDatasetB-silh\\013\\cl-02\\162\\013-cl-02-162-006.png\n",
      "C:\\Users\\User\\Desktop\\Aaron\\College-level Applied Research\\CASIA-B\\GaitDatasetB-silh\\013\\cl-02\\162\\013-cl-02-162-007.png\n",
      "C:\\Users\\User\\Desktop\\Aaron\\College-level Applied Research\\CASIA-B\\GaitDatasetB-silh\\013\\cl-02\\162\\013-cl-02-162-008.png\n",
      "C:\\Users\\User\\Desktop\\Aaron\\College-level Applied Research\\CASIA-B\\GaitDatasetB-silh\\013\\cl-02\\162\\013-cl-02-162-009.png\n",
      "C:\\Users\\User\\Desktop\\Aaron\\College-level Applied Research\\CASIA-B\\GaitDatasetB-silh\\013\\cl-02\\162\\013-cl-02-162-010.png\n",
      "C:\\Users\\User\\Desktop\\Aaron\\College-level Applied Research\\CASIA-B\\GaitDatasetB-silh\\013\\cl-02\\162\\013-cl-02-162-011.png\n",
      "C:\\Users\\User\\Desktop\\Aaron\\College-level Applied Research\\CASIA-B\\GaitDatasetB-silh\\013\\cl-02\\162\\013-cl-02-162-012.png\n",
      "C:\\Users\\User\\Desktop\\Aaron\\College-level Applied Research\\CASIA-B\\GaitDatasetB-silh\\013\\cl-02\\162\\013-cl-02-162-013.png\n",
      "C:\\Users\\User\\Desktop\\Aaron\\College-level Applied Research\\CASIA-B\\GaitDatasetB-silh\\013\\cl-02\\162\\013-cl-02-162-014.png\n",
      "C:\\Users\\User\\Desktop\\Aaron\\College-level Applied Research\\CASIA-B\\GaitDatasetB-silh\\013\\cl-02\\162\\013-cl-02-162-015.png\n",
      "C:\\Users\\User\\Desktop\\Aaron\\College-level Applied Research\\CASIA-B\\GaitDatasetB-silh\\013\\cl-02\\162\\013-cl-02-162-016.png\n",
      "C:\\Users\\User\\Desktop\\Aaron\\College-level Applied Research\\CASIA-B\\GaitDatasetB-silh\\013\\cl-02\\162\\013-cl-02-162-017.png\n",
      "C:\\Users\\User\\Desktop\\Aaron\\College-level Applied Research\\CASIA-B\\GaitDatasetB-silh\\013\\cl-02\\162\\013-cl-02-162-018.png\n",
      "C:\\Users\\User\\Desktop\\Aaron\\College-level Applied Research\\CASIA-B\\GaitDatasetB-silh\\013\\cl-02\\162\\013-cl-02-162-019.png\n",
      "C:\\Users\\User\\Desktop\\Aaron\\College-level Applied Research\\CASIA-B\\GaitDatasetB-silh\\013\\cl-02\\162\\013-cl-02-162-020.png\n",
      "C:\\Users\\User\\Desktop\\Aaron\\College-level Applied Research\\CASIA-B\\GaitDatasetB-silh\\013\\cl-02\\162\\013-cl-02-162-021.png\n",
      "C:\\Users\\User\\Desktop\\Aaron\\College-level Applied Research\\CASIA-B\\GaitDatasetB-silh\\013\\cl-02\\162\\013-cl-02-162-022.png\n",
      "C:\\Users\\User\\Desktop\\Aaron\\College-level Applied Research\\CASIA-B\\GaitDatasetB-silh\\013\\cl-02\\162\\013-cl-02-162-023.png\n",
      "C:\\Users\\User\\Desktop\\Aaron\\College-level Applied Research\\CASIA-B\\GaitDatasetB-silh\\013\\cl-02\\162\\013-cl-02-162-024.png\n",
      "C:\\Users\\User\\Desktop\\Aaron\\College-level Applied Research\\CASIA-B\\GaitDatasetB-silh\\013\\cl-02\\162\\013-cl-02-162-025.png\n",
      "C:\\Users\\User\\Desktop\\Aaron\\College-level Applied Research\\CASIA-B\\GaitDatasetB-silh\\013\\cl-02\\162\\013-cl-02-162-026.png\n",
      "C:\\Users\\User\\Desktop\\Aaron\\College-level Applied Research\\CASIA-B\\GaitDatasetB-silh\\013\\cl-02\\162\\013-cl-02-162-027.png\n",
      "C:\\Users\\User\\Desktop\\Aaron\\College-level Applied Research\\CASIA-B\\GaitDatasetB-silh\\013\\cl-02\\162\\013-cl-02-162-028.png\n",
      "C:\\Users\\User\\Desktop\\Aaron\\College-level Applied Research\\CASIA-B\\GaitDatasetB-silh\\013\\cl-02\\162\\013-cl-02-162-029.png\n",
      "C:\\Users\\User\\Desktop\\Aaron\\College-level Applied Research\\CASIA-B\\GaitDatasetB-silh\\013\\cl-02\\162\\013-cl-02-162-030.png\n",
      "C:\\Users\\User\\Desktop\\Aaron\\College-level Applied Research\\CASIA-B\\GaitDatasetB-silh\\013\\cl-02\\162\\013-cl-02-162-031.png\n",
      "C:\\Users\\User\\Desktop\\Aaron\\College-level Applied Research\\CASIA-B\\GaitDatasetB-silh\\013\\cl-02\\162\\013-cl-02-162-032.png\n",
      "C:\\Users\\User\\Desktop\\Aaron\\College-level Applied Research\\CASIA-B\\GaitDatasetB-silh\\013\\cl-02\\162\\013-cl-02-162-033.png\n",
      "C:\\Users\\User\\Desktop\\Aaron\\College-level Applied Research\\CASIA-B\\GaitDatasetB-silh\\013\\cl-02\\162\\013-cl-02-162-034.png\n",
      "C:\\Users\\User\\Desktop\\Aaron\\College-level Applied Research\\CASIA-B\\GaitDatasetB-silh\\013\\cl-02\\162\\013-cl-02-162-035.png\n",
      "C:\\Users\\User\\Desktop\\Aaron\\College-level Applied Research\\CASIA-B\\GaitDatasetB-silh\\013\\cl-02\\162\\013-cl-02-162-036.png\n",
      "C:\\Users\\User\\Desktop\\Aaron\\College-level Applied Research\\CASIA-B\\GaitDatasetB-silh\\013\\cl-02\\162\\013-cl-02-162-037.png\n",
      "C:\\Users\\User\\Desktop\\Aaron\\College-level Applied Research\\CASIA-B\\GaitDatasetB-silh\\013\\cl-02\\162\\013-cl-02-162-038.png\n",
      "C:\\Users\\User\\Desktop\\Aaron\\College-level Applied Research\\CASIA-B\\GaitDatasetB-silh\\013\\cl-02\\162\\013-cl-02-162-039.png\n",
      "C:\\Users\\User\\Desktop\\Aaron\\College-level Applied Research\\CASIA-B\\GaitDatasetB-silh\\013\\cl-02\\162\\013-cl-02-162-040.png\n",
      "C:\\Users\\User\\Desktop\\Aaron\\College-level Applied Research\\CASIA-B\\GaitDatasetB-silh\\013\\nm-01\\162\\013-nm-01-162-001.png\n",
      "C:\\Users\\User\\Desktop\\Aaron\\College-level Applied Research\\CASIA-B\\GaitDatasetB-silh\\013\\nm-01\\162\\013-nm-01-162-002.png\n",
      "C:\\Users\\User\\Desktop\\Aaron\\College-level Applied Research\\CASIA-B\\GaitDatasetB-silh\\013\\nm-01\\162\\013-nm-01-162-003.png\n",
      "C:\\Users\\User\\Desktop\\Aaron\\College-level Applied Research\\CASIA-B\\GaitDatasetB-silh\\013\\nm-01\\162\\013-nm-01-162-004.png\n",
      "C:\\Users\\User\\Desktop\\Aaron\\College-level Applied Research\\CASIA-B\\GaitDatasetB-silh\\013\\nm-01\\162\\013-nm-01-162-005.png\n",
      "C:\\Users\\User\\Desktop\\Aaron\\College-level Applied Research\\CASIA-B\\GaitDatasetB-silh\\013\\nm-01\\162\\013-nm-01-162-006.png\n",
      "C:\\Users\\User\\Desktop\\Aaron\\College-level Applied Research\\CASIA-B\\GaitDatasetB-silh\\013\\nm-01\\162\\013-nm-01-162-007.png\n",
      "C:\\Users\\User\\Desktop\\Aaron\\College-level Applied Research\\CASIA-B\\GaitDatasetB-silh\\013\\nm-01\\162\\013-nm-01-162-008.png\n",
      "C:\\Users\\User\\Desktop\\Aaron\\College-level Applied Research\\CASIA-B\\GaitDatasetB-silh\\013\\nm-01\\162\\013-nm-01-162-009.png\n",
      "C:\\Users\\User\\Desktop\\Aaron\\College-level Applied Research\\CASIA-B\\GaitDatasetB-silh\\013\\nm-01\\162\\013-nm-01-162-010.png\n",
      "C:\\Users\\User\\Desktop\\Aaron\\College-level Applied Research\\CASIA-B\\GaitDatasetB-silh\\013\\nm-01\\162\\013-nm-01-162-011.png\n",
      "C:\\Users\\User\\Desktop\\Aaron\\College-level Applied Research\\CASIA-B\\GaitDatasetB-silh\\013\\nm-01\\162\\013-nm-01-162-012.png\n",
      "C:\\Users\\User\\Desktop\\Aaron\\College-level Applied Research\\CASIA-B\\GaitDatasetB-silh\\013\\nm-01\\162\\013-nm-01-162-013.png\n",
      "C:\\Users\\User\\Desktop\\Aaron\\College-level Applied Research\\CASIA-B\\GaitDatasetB-silh\\013\\nm-01\\162\\013-nm-01-162-014.png\n",
      "C:\\Users\\User\\Desktop\\Aaron\\College-level Applied Research\\CASIA-B\\GaitDatasetB-silh\\013\\nm-01\\162\\013-nm-01-162-015.png\n",
      "C:\\Users\\User\\Desktop\\Aaron\\College-level Applied Research\\CASIA-B\\GaitDatasetB-silh\\013\\nm-01\\162\\013-nm-01-162-016.png\n",
      "C:\\Users\\User\\Desktop\\Aaron\\College-level Applied Research\\CASIA-B\\GaitDatasetB-silh\\013\\nm-01\\162\\013-nm-01-162-017.png\n",
      "C:\\Users\\User\\Desktop\\Aaron\\College-level Applied Research\\CASIA-B\\GaitDatasetB-silh\\013\\nm-01\\162\\013-nm-01-162-018.png\n",
      "C:\\Users\\User\\Desktop\\Aaron\\College-level Applied Research\\CASIA-B\\GaitDatasetB-silh\\013\\nm-01\\162\\013-nm-01-162-019.png\n",
      "C:\\Users\\User\\Desktop\\Aaron\\College-level Applied Research\\CASIA-B\\GaitDatasetB-silh\\013\\nm-01\\162\\013-nm-01-162-020.png\n",
      "C:\\Users\\User\\Desktop\\Aaron\\College-level Applied Research\\CASIA-B\\GaitDatasetB-silh\\013\\nm-01\\162\\013-nm-01-162-021.png\n",
      "C:\\Users\\User\\Desktop\\Aaron\\College-level Applied Research\\CASIA-B\\GaitDatasetB-silh\\013\\nm-01\\162\\013-nm-01-162-022.png\n",
      "C:\\Users\\User\\Desktop\\Aaron\\College-level Applied Research\\CASIA-B\\GaitDatasetB-silh\\013\\nm-01\\162\\013-nm-01-162-023.png\n",
      "C:\\Users\\User\\Desktop\\Aaron\\College-level Applied Research\\CASIA-B\\GaitDatasetB-silh\\013\\nm-01\\162\\013-nm-01-162-024.png\n",
      "C:\\Users\\User\\Desktop\\Aaron\\College-level Applied Research\\CASIA-B\\GaitDatasetB-silh\\013\\nm-01\\162\\013-nm-01-162-025.png\n",
      "C:\\Users\\User\\Desktop\\Aaron\\College-level Applied Research\\CASIA-B\\GaitDatasetB-silh\\013\\nm-01\\162\\013-nm-01-162-026.png\n",
      "C:\\Users\\User\\Desktop\\Aaron\\College-level Applied Research\\CASIA-B\\GaitDatasetB-silh\\013\\nm-01\\162\\013-nm-01-162-027.png\n"
     ]
    },
    {
     "name": "stdout",
     "output_type": "stream",
     "text": [
      "C:\\Users\\User\\Desktop\\Aaron\\College-level Applied Research\\CASIA-B\\GaitDatasetB-silh\\013\\nm-02\\162\\013-nm-02-162-001.png\n",
      "C:\\Users\\User\\Desktop\\Aaron\\College-level Applied Research\\CASIA-B\\GaitDatasetB-silh\\013\\nm-02\\162\\013-nm-02-162-002.png\n",
      "C:\\Users\\User\\Desktop\\Aaron\\College-level Applied Research\\CASIA-B\\GaitDatasetB-silh\\013\\nm-02\\162\\013-nm-02-162-003.png\n",
      "C:\\Users\\User\\Desktop\\Aaron\\College-level Applied Research\\CASIA-B\\GaitDatasetB-silh\\013\\nm-02\\162\\013-nm-02-162-004.png\n",
      "C:\\Users\\User\\Desktop\\Aaron\\College-level Applied Research\\CASIA-B\\GaitDatasetB-silh\\013\\nm-02\\162\\013-nm-02-162-005.png\n",
      "C:\\Users\\User\\Desktop\\Aaron\\College-level Applied Research\\CASIA-B\\GaitDatasetB-silh\\013\\nm-02\\162\\013-nm-02-162-006.png\n",
      "C:\\Users\\User\\Desktop\\Aaron\\College-level Applied Research\\CASIA-B\\GaitDatasetB-silh\\013\\nm-02\\162\\013-nm-02-162-007.png\n",
      "C:\\Users\\User\\Desktop\\Aaron\\College-level Applied Research\\CASIA-B\\GaitDatasetB-silh\\013\\nm-02\\162\\013-nm-02-162-008.png\n",
      "C:\\Users\\User\\Desktop\\Aaron\\College-level Applied Research\\CASIA-B\\GaitDatasetB-silh\\013\\nm-02\\162\\013-nm-02-162-009.png\n",
      "C:\\Users\\User\\Desktop\\Aaron\\College-level Applied Research\\CASIA-B\\GaitDatasetB-silh\\013\\nm-02\\162\\013-nm-02-162-010.png\n",
      "C:\\Users\\User\\Desktop\\Aaron\\College-level Applied Research\\CASIA-B\\GaitDatasetB-silh\\013\\nm-02\\162\\013-nm-02-162-011.png\n",
      "C:\\Users\\User\\Desktop\\Aaron\\College-level Applied Research\\CASIA-B\\GaitDatasetB-silh\\013\\nm-02\\162\\013-nm-02-162-012.png\n",
      "C:\\Users\\User\\Desktop\\Aaron\\College-level Applied Research\\CASIA-B\\GaitDatasetB-silh\\013\\nm-02\\162\\013-nm-02-162-013.png\n",
      "C:\\Users\\User\\Desktop\\Aaron\\College-level Applied Research\\CASIA-B\\GaitDatasetB-silh\\013\\nm-02\\162\\013-nm-02-162-014.png\n",
      "C:\\Users\\User\\Desktop\\Aaron\\College-level Applied Research\\CASIA-B\\GaitDatasetB-silh\\013\\nm-02\\162\\013-nm-02-162-015.png\n",
      "C:\\Users\\User\\Desktop\\Aaron\\College-level Applied Research\\CASIA-B\\GaitDatasetB-silh\\013\\nm-02\\162\\013-nm-02-162-016.png\n",
      "C:\\Users\\User\\Desktop\\Aaron\\College-level Applied Research\\CASIA-B\\GaitDatasetB-silh\\013\\nm-02\\162\\013-nm-02-162-017.png\n",
      "C:\\Users\\User\\Desktop\\Aaron\\College-level Applied Research\\CASIA-B\\GaitDatasetB-silh\\013\\nm-02\\162\\013-nm-02-162-018.png\n",
      "C:\\Users\\User\\Desktop\\Aaron\\College-level Applied Research\\CASIA-B\\GaitDatasetB-silh\\013\\nm-02\\162\\013-nm-02-162-019.png\n",
      "C:\\Users\\User\\Desktop\\Aaron\\College-level Applied Research\\CASIA-B\\GaitDatasetB-silh\\013\\nm-02\\162\\013-nm-02-162-020.png\n",
      "C:\\Users\\User\\Desktop\\Aaron\\College-level Applied Research\\CASIA-B\\GaitDatasetB-silh\\013\\nm-02\\162\\013-nm-02-162-021.png\n",
      "C:\\Users\\User\\Desktop\\Aaron\\College-level Applied Research\\CASIA-B\\GaitDatasetB-silh\\013\\nm-02\\162\\013-nm-02-162-022.png\n",
      "C:\\Users\\User\\Desktop\\Aaron\\College-level Applied Research\\CASIA-B\\GaitDatasetB-silh\\013\\nm-02\\162\\013-nm-02-162-023.png\n",
      "C:\\Users\\User\\Desktop\\Aaron\\College-level Applied Research\\CASIA-B\\GaitDatasetB-silh\\013\\nm-02\\162\\013-nm-02-162-024.png\n",
      "C:\\Users\\User\\Desktop\\Aaron\\College-level Applied Research\\CASIA-B\\GaitDatasetB-silh\\013\\nm-03\\162\\013-nm-03-162-001.png\n",
      "C:\\Users\\User\\Desktop\\Aaron\\College-level Applied Research\\CASIA-B\\GaitDatasetB-silh\\013\\nm-03\\162\\013-nm-03-162-002.png\n",
      "C:\\Users\\User\\Desktop\\Aaron\\College-level Applied Research\\CASIA-B\\GaitDatasetB-silh\\013\\nm-03\\162\\013-nm-03-162-003.png\n",
      "C:\\Users\\User\\Desktop\\Aaron\\College-level Applied Research\\CASIA-B\\GaitDatasetB-silh\\013\\nm-03\\162\\013-nm-03-162-004.png\n",
      "C:\\Users\\User\\Desktop\\Aaron\\College-level Applied Research\\CASIA-B\\GaitDatasetB-silh\\013\\nm-03\\162\\013-nm-03-162-005.png\n",
      "C:\\Users\\User\\Desktop\\Aaron\\College-level Applied Research\\CASIA-B\\GaitDatasetB-silh\\013\\nm-03\\162\\013-nm-03-162-006.png\n",
      "C:\\Users\\User\\Desktop\\Aaron\\College-level Applied Research\\CASIA-B\\GaitDatasetB-silh\\013\\nm-03\\162\\013-nm-03-162-007.png\n",
      "C:\\Users\\User\\Desktop\\Aaron\\College-level Applied Research\\CASIA-B\\GaitDatasetB-silh\\013\\nm-03\\162\\013-nm-03-162-008.png\n",
      "C:\\Users\\User\\Desktop\\Aaron\\College-level Applied Research\\CASIA-B\\GaitDatasetB-silh\\013\\nm-03\\162\\013-nm-03-162-009.png\n",
      "C:\\Users\\User\\Desktop\\Aaron\\College-level Applied Research\\CASIA-B\\GaitDatasetB-silh\\013\\nm-03\\162\\013-nm-03-162-010.png\n",
      "C:\\Users\\User\\Desktop\\Aaron\\College-level Applied Research\\CASIA-B\\GaitDatasetB-silh\\013\\nm-03\\162\\013-nm-03-162-011.png\n",
      "C:\\Users\\User\\Desktop\\Aaron\\College-level Applied Research\\CASIA-B\\GaitDatasetB-silh\\013\\nm-03\\162\\013-nm-03-162-012.png\n",
      "C:\\Users\\User\\Desktop\\Aaron\\College-level Applied Research\\CASIA-B\\GaitDatasetB-silh\\013\\nm-03\\162\\013-nm-03-162-013.png\n",
      "C:\\Users\\User\\Desktop\\Aaron\\College-level Applied Research\\CASIA-B\\GaitDatasetB-silh\\013\\nm-04\\162\\013-nm-04-162-001.png\n",
      "C:\\Users\\User\\Desktop\\Aaron\\College-level Applied Research\\CASIA-B\\GaitDatasetB-silh\\013\\nm-04\\162\\013-nm-04-162-002.png\n",
      "C:\\Users\\User\\Desktop\\Aaron\\College-level Applied Research\\CASIA-B\\GaitDatasetB-silh\\013\\nm-04\\162\\013-nm-04-162-003.png\n",
      "C:\\Users\\User\\Desktop\\Aaron\\College-level Applied Research\\CASIA-B\\GaitDatasetB-silh\\013\\nm-04\\162\\013-nm-04-162-004.png\n",
      "C:\\Users\\User\\Desktop\\Aaron\\College-level Applied Research\\CASIA-B\\GaitDatasetB-silh\\013\\nm-04\\162\\013-nm-04-162-005.png\n",
      "C:\\Users\\User\\Desktop\\Aaron\\College-level Applied Research\\CASIA-B\\GaitDatasetB-silh\\013\\nm-04\\162\\013-nm-04-162-006.png\n",
      "C:\\Users\\User\\Desktop\\Aaron\\College-level Applied Research\\CASIA-B\\GaitDatasetB-silh\\013\\nm-04\\162\\013-nm-04-162-007.png\n",
      "C:\\Users\\User\\Desktop\\Aaron\\College-level Applied Research\\CASIA-B\\GaitDatasetB-silh\\013\\nm-04\\162\\013-nm-04-162-008.png\n",
      "C:\\Users\\User\\Desktop\\Aaron\\College-level Applied Research\\CASIA-B\\GaitDatasetB-silh\\013\\nm-04\\162\\013-nm-04-162-009.png\n",
      "C:\\Users\\User\\Desktop\\Aaron\\College-level Applied Research\\CASIA-B\\GaitDatasetB-silh\\013\\nm-04\\162\\013-nm-04-162-010.png\n",
      "C:\\Users\\User\\Desktop\\Aaron\\College-level Applied Research\\CASIA-B\\GaitDatasetB-silh\\013\\nm-04\\162\\013-nm-04-162-011.png\n",
      "C:\\Users\\User\\Desktop\\Aaron\\College-level Applied Research\\CASIA-B\\GaitDatasetB-silh\\013\\nm-04\\162\\013-nm-04-162-012.png\n",
      "C:\\Users\\User\\Desktop\\Aaron\\College-level Applied Research\\CASIA-B\\GaitDatasetB-silh\\013\\nm-05\\162\\013-nm-05-162-001.png\n",
      "C:\\Users\\User\\Desktop\\Aaron\\College-level Applied Research\\CASIA-B\\GaitDatasetB-silh\\013\\nm-05\\162\\013-nm-05-162-002.png\n",
      "C:\\Users\\User\\Desktop\\Aaron\\College-level Applied Research\\CASIA-B\\GaitDatasetB-silh\\013\\nm-05\\162\\013-nm-05-162-003.png\n",
      "C:\\Users\\User\\Desktop\\Aaron\\College-level Applied Research\\CASIA-B\\GaitDatasetB-silh\\013\\nm-05\\162\\013-nm-05-162-004.png\n",
      "C:\\Users\\User\\Desktop\\Aaron\\College-level Applied Research\\CASIA-B\\GaitDatasetB-silh\\013\\nm-05\\162\\013-nm-05-162-005.png\n",
      "C:\\Users\\User\\Desktop\\Aaron\\College-level Applied Research\\CASIA-B\\GaitDatasetB-silh\\013\\nm-05\\162\\013-nm-05-162-006.png\n",
      "C:\\Users\\User\\Desktop\\Aaron\\College-level Applied Research\\CASIA-B\\GaitDatasetB-silh\\013\\nm-05\\162\\013-nm-05-162-007.png\n",
      "C:\\Users\\User\\Desktop\\Aaron\\College-level Applied Research\\CASIA-B\\GaitDatasetB-silh\\013\\nm-05\\162\\013-nm-05-162-008.png\n",
      "C:\\Users\\User\\Desktop\\Aaron\\College-level Applied Research\\CASIA-B\\GaitDatasetB-silh\\013\\nm-05\\162\\013-nm-05-162-009.png\n",
      "C:\\Users\\User\\Desktop\\Aaron\\College-level Applied Research\\CASIA-B\\GaitDatasetB-silh\\013\\nm-05\\162\\013-nm-05-162-010.png\n",
      "C:\\Users\\User\\Desktop\\Aaron\\College-level Applied Research\\CASIA-B\\GaitDatasetB-silh\\013\\nm-05\\162\\013-nm-05-162-011.png\n",
      "C:\\Users\\User\\Desktop\\Aaron\\College-level Applied Research\\CASIA-B\\GaitDatasetB-silh\\013\\nm-05\\162\\013-nm-05-162-012.png\n",
      "C:\\Users\\User\\Desktop\\Aaron\\College-level Applied Research\\CASIA-B\\GaitDatasetB-silh\\013\\nm-05\\162\\013-nm-05-162-013.png\n",
      "C:\\Users\\User\\Desktop\\Aaron\\College-level Applied Research\\CASIA-B\\GaitDatasetB-silh\\013\\nm-05\\162\\013-nm-05-162-014.png\n",
      "C:\\Users\\User\\Desktop\\Aaron\\College-level Applied Research\\CASIA-B\\GaitDatasetB-silh\\013\\nm-05\\162\\013-nm-05-162-015.png\n",
      "C:\\Users\\User\\Desktop\\Aaron\\College-level Applied Research\\CASIA-B\\GaitDatasetB-silh\\013\\nm-05\\162\\013-nm-05-162-016.png\n",
      "C:\\Users\\User\\Desktop\\Aaron\\College-level Applied Research\\CASIA-B\\GaitDatasetB-silh\\013\\nm-05\\162\\013-nm-05-162-017.png\n",
      "C:\\Users\\User\\Desktop\\Aaron\\College-level Applied Research\\CASIA-B\\GaitDatasetB-silh\\026\\cl-02\\162\n",
      "C:\\Users\\User\\Desktop\\Aaron\\College-level Applied Research\\CASIA-B\\GaitDatasetB-silh\\026\\nm-01\\108\\026-nm-01-108-052.png\n"
     ]
    },
    {
     "name": "stdout",
     "output_type": "stream",
     "text": [
      "C:\\Users\\User\\Desktop\\Aaron\\College-level Applied Research\\CASIA-B\\GaitDatasetB-silh\\026\\nm-06\\126\\026-nm-06-126-049.png\n",
      "C:\\Users\\User\\Desktop\\Aaron\\College-level Applied Research\\CASIA-B\\GaitDatasetB-silh\\026\\nm-06\\126\\026-nm-06-126-050.png\n",
      "C:\\Users\\User\\Desktop\\Aaron\\College-level Applied Research\\CASIA-B\\GaitDatasetB-silh\\026\\nm-06\\126\\026-nm-06-126-051.png\n",
      "C:\\Users\\User\\Desktop\\Aaron\\College-level Applied Research\\CASIA-B\\GaitDatasetB-silh\\030\\cl-01\\108\\030-cl-01-108-044.png\n",
      "C:\\Users\\User\\Desktop\\Aaron\\College-level Applied Research\\CASIA-B\\GaitDatasetB-silh\\030\\nm-01\\054\\030-nm-01-054-001.png\n",
      "C:\\Users\\User\\Desktop\\Aaron\\College-level Applied Research\\CASIA-B\\GaitDatasetB-silh\\030\\nm-01\\054\\030-nm-01-054-002.png\n",
      "C:\\Users\\User\\Desktop\\Aaron\\College-level Applied Research\\CASIA-B\\GaitDatasetB-silh\\030\\nm-05\\090\\030-nm-05-090-049.png\n",
      "C:\\Users\\User\\Desktop\\Aaron\\College-level Applied Research\\CASIA-B\\GaitDatasetB-silh\\033\\nm-02\\072\\033-nm-02-072-116.png\n",
      "C:\\Users\\User\\Desktop\\Aaron\\College-level Applied Research\\CASIA-B\\GaitDatasetB-silh\\033\\nm-05\\072\\033-nm-05-072-095.png\n",
      "C:\\Users\\User\\Desktop\\Aaron\\College-level Applied Research\\CASIA-B\\GaitDatasetB-silh\\037\\bg-01\\144\n",
      "C:\\Users\\User\\Desktop\\Aaron\\College-level Applied Research\\CASIA-B\\GaitDatasetB-silh\\037\\bg-01\\162\n",
      "C:\\Users\\User\\Desktop\\Aaron\\College-level Applied Research\\CASIA-B\\GaitDatasetB-silh\\037\\bg-01\\180\n",
      "C:\\Users\\User\\Desktop\\Aaron\\College-level Applied Research\\CASIA-B\\GaitDatasetB-silh\\037\\bg-02\\054\n",
      "C:\\Users\\User\\Desktop\\Aaron\\College-level Applied Research\\CASIA-B\\GaitDatasetB-silh\\037\\bg-02\\126\n",
      "C:\\Users\\User\\Desktop\\Aaron\\College-level Applied Research\\CASIA-B\\GaitDatasetB-silh\\037\\bg-02\\162\n",
      "C:\\Users\\User\\Desktop\\Aaron\\College-level Applied Research\\CASIA-B\\GaitDatasetB-silh\\048\\cl-01\\162\n",
      "C:\\Users\\User\\Desktop\\Aaron\\College-level Applied Research\\CASIA-B\\GaitDatasetB-silh\\048\\cl-02\\054\n",
      "C:\\Users\\User\\Desktop\\Aaron\\College-level Applied Research\\CASIA-B\\GaitDatasetB-silh\\048\\cl-02\\126\n",
      "C:\\Users\\User\\Desktop\\Aaron\\College-level Applied Research\\CASIA-B\\GaitDatasetB-silh\\048\\cl-02\\144\n",
      "C:\\Users\\User\\Desktop\\Aaron\\College-level Applied Research\\CASIA-B\\GaitDatasetB-silh\\048\\cl-02\\162\n",
      "C:\\Users\\User\\Desktop\\Aaron\\College-level Applied Research\\CASIA-B\\GaitDatasetB-silh\\052\\cl-01\\144\\052-cl-01-144-022.png\n",
      "C:\\Users\\User\\Desktop\\Aaron\\College-level Applied Research\\CASIA-B\\GaitDatasetB-silh\\052\\nm-01\\144\\052-nm-01-144-001.png\n",
      "C:\\Users\\User\\Desktop\\Aaron\\College-level Applied Research\\CASIA-B\\GaitDatasetB-silh\\052\\nm-01\\144\\052-nm-01-144-002.png\n",
      "C:\\Users\\User\\Desktop\\Aaron\\College-level Applied Research\\CASIA-B\\GaitDatasetB-silh\\052\\nm-01\\144\\052-nm-01-144-003.png\n",
      "C:\\Users\\User\\Desktop\\Aaron\\College-level Applied Research\\CASIA-B\\GaitDatasetB-silh\\052\\nm-01\\144\\052-nm-01-144-004.png\n",
      "C:\\Users\\User\\Desktop\\Aaron\\College-level Applied Research\\CASIA-B\\GaitDatasetB-silh\\052\\nm-01\\144\\052-nm-01-144-005.png\n",
      "C:\\Users\\User\\Desktop\\Aaron\\College-level Applied Research\\CASIA-B\\GaitDatasetB-silh\\052\\nm-01\\144\\052-nm-01-144-006.png\n",
      "C:\\Users\\User\\Desktop\\Aaron\\College-level Applied Research\\CASIA-B\\GaitDatasetB-silh\\052\\nm-01\\144\\052-nm-01-144-007.png\n",
      "C:\\Users\\User\\Desktop\\Aaron\\College-level Applied Research\\CASIA-B\\GaitDatasetB-silh\\052\\nm-01\\144\\052-nm-01-144-008.png\n",
      "C:\\Users\\User\\Desktop\\Aaron\\College-level Applied Research\\CASIA-B\\GaitDatasetB-silh\\052\\nm-01\\144\\052-nm-01-144-009.png\n",
      "C:\\Users\\User\\Desktop\\Aaron\\College-level Applied Research\\CASIA-B\\GaitDatasetB-silh\\052\\nm-01\\144\\052-nm-01-144-010.png\n",
      "C:\\Users\\User\\Desktop\\Aaron\\College-level Applied Research\\CASIA-B\\GaitDatasetB-silh\\052\\nm-01\\144\\052-nm-01-144-011.png\n",
      "C:\\Users\\User\\Desktop\\Aaron\\College-level Applied Research\\CASIA-B\\GaitDatasetB-silh\\052\\nm-01\\144\\052-nm-01-144-012.png\n",
      "C:\\Users\\User\\Desktop\\Aaron\\College-level Applied Research\\CASIA-B\\GaitDatasetB-silh\\052\\nm-01\\144\\052-nm-01-144-013.png\n",
      "C:\\Users\\User\\Desktop\\Aaron\\College-level Applied Research\\CASIA-B\\GaitDatasetB-silh\\052\\nm-01\\144\\052-nm-01-144-014.png\n",
      "C:\\Users\\User\\Desktop\\Aaron\\College-level Applied Research\\CASIA-B\\GaitDatasetB-silh\\052\\nm-01\\144\\052-nm-01-144-015.png\n",
      "C:\\Users\\User\\Desktop\\Aaron\\College-level Applied Research\\CASIA-B\\GaitDatasetB-silh\\052\\nm-01\\144\\052-nm-01-144-016.png\n",
      "C:\\Users\\User\\Desktop\\Aaron\\College-level Applied Research\\CASIA-B\\GaitDatasetB-silh\\052\\nm-01\\144\\052-nm-01-144-017.png\n",
      "C:\\Users\\User\\Desktop\\Aaron\\College-level Applied Research\\CASIA-B\\GaitDatasetB-silh\\052\\nm-01\\144\\052-nm-01-144-018.png\n",
      "C:\\Users\\User\\Desktop\\Aaron\\College-level Applied Research\\CASIA-B\\GaitDatasetB-silh\\052\\nm-01\\144\\052-nm-01-144-019.png\n",
      "C:\\Users\\User\\Desktop\\Aaron\\College-level Applied Research\\CASIA-B\\GaitDatasetB-silh\\052\\nm-01\\144\\052-nm-01-144-020.png\n",
      "C:\\Users\\User\\Desktop\\Aaron\\College-level Applied Research\\CASIA-B\\GaitDatasetB-silh\\052\\nm-01\\144\\052-nm-01-144-021.png\n",
      "C:\\Users\\User\\Desktop\\Aaron\\College-level Applied Research\\CASIA-B\\GaitDatasetB-silh\\052\\nm-01\\144\\052-nm-01-144-022.png\n",
      "C:\\Users\\User\\Desktop\\Aaron\\College-level Applied Research\\CASIA-B\\GaitDatasetB-silh\\052\\nm-01\\144\\052-nm-01-144-023.png\n",
      "C:\\Users\\User\\Desktop\\Aaron\\College-level Applied Research\\CASIA-B\\GaitDatasetB-silh\\052\\nm-01\\144\\052-nm-01-144-024.png\n",
      "C:\\Users\\User\\Desktop\\Aaron\\College-level Applied Research\\CASIA-B\\GaitDatasetB-silh\\052\\nm-01\\144\\052-nm-01-144-025.png\n",
      "C:\\Users\\User\\Desktop\\Aaron\\College-level Applied Research\\CASIA-B\\GaitDatasetB-silh\\052\\nm-01\\144\\052-nm-01-144-026.png\n",
      "C:\\Users\\User\\Desktop\\Aaron\\College-level Applied Research\\CASIA-B\\GaitDatasetB-silh\\052\\nm-01\\144\\052-nm-01-144-027.png\n",
      "C:\\Users\\User\\Desktop\\Aaron\\College-level Applied Research\\CASIA-B\\GaitDatasetB-silh\\052\\nm-01\\144\\052-nm-01-144-028.png\n",
      "C:\\Users\\User\\Desktop\\Aaron\\College-level Applied Research\\CASIA-B\\GaitDatasetB-silh\\052\\nm-01\\162\\052-nm-01-162-001.png\n",
      "C:\\Users\\User\\Desktop\\Aaron\\College-level Applied Research\\CASIA-B\\GaitDatasetB-silh\\052\\nm-01\\162\\052-nm-01-162-002.png\n",
      "C:\\Users\\User\\Desktop\\Aaron\\College-level Applied Research\\CASIA-B\\GaitDatasetB-silh\\052\\nm-01\\162\\052-nm-01-162-003.png\n",
      "C:\\Users\\User\\Desktop\\Aaron\\College-level Applied Research\\CASIA-B\\GaitDatasetB-silh\\052\\nm-01\\162\\052-nm-01-162-004.png\n",
      "C:\\Users\\User\\Desktop\\Aaron\\College-level Applied Research\\CASIA-B\\GaitDatasetB-silh\\052\\nm-01\\162\\052-nm-01-162-005.png\n",
      "C:\\Users\\User\\Desktop\\Aaron\\College-level Applied Research\\CASIA-B\\GaitDatasetB-silh\\052\\nm-01\\162\\052-nm-01-162-006.png\n",
      "C:\\Users\\User\\Desktop\\Aaron\\College-level Applied Research\\CASIA-B\\GaitDatasetB-silh\\052\\nm-01\\162\\052-nm-01-162-007.png\n",
      "C:\\Users\\User\\Desktop\\Aaron\\College-level Applied Research\\CASIA-B\\GaitDatasetB-silh\\052\\nm-01\\162\\052-nm-01-162-008.png\n",
      "C:\\Users\\User\\Desktop\\Aaron\\College-level Applied Research\\CASIA-B\\GaitDatasetB-silh\\052\\nm-01\\162\\052-nm-01-162-009.png\n",
      "C:\\Users\\User\\Desktop\\Aaron\\College-level Applied Research\\CASIA-B\\GaitDatasetB-silh\\052\\nm-01\\162\\052-nm-01-162-010.png\n",
      "C:\\Users\\User\\Desktop\\Aaron\\College-level Applied Research\\CASIA-B\\GaitDatasetB-silh\\052\\nm-01\\162\\052-nm-01-162-011.png\n",
      "C:\\Users\\User\\Desktop\\Aaron\\College-level Applied Research\\CASIA-B\\GaitDatasetB-silh\\052\\nm-01\\162\\052-nm-01-162-012.png\n",
      "C:\\Users\\User\\Desktop\\Aaron\\College-level Applied Research\\CASIA-B\\GaitDatasetB-silh\\053\\bg-01\\144\\053-bg-01-144-002.png\n",
      "C:\\Users\\User\\Desktop\\Aaron\\College-level Applied Research\\CASIA-B\\GaitDatasetB-silh\\053\\bg-01\\144\\053-bg-01-144-003.png\n",
      "C:\\Users\\User\\Desktop\\Aaron\\College-level Applied Research\\CASIA-B\\GaitDatasetB-silh\\053\\bg-01\\144\\053-bg-01-144-004.png\n",
      "C:\\Users\\User\\Desktop\\Aaron\\College-level Applied Research\\CASIA-B\\GaitDatasetB-silh\\053\\bg-02\\144\\053-bg-02-144-001.png\n",
      "C:\\Users\\User\\Desktop\\Aaron\\College-level Applied Research\\CASIA-B\\GaitDatasetB-silh\\053\\bg-02\\144\\053-bg-02-144-002.png\n",
      "C:\\Users\\User\\Desktop\\Aaron\\College-level Applied Research\\CASIA-B\\GaitDatasetB-silh\\053\\bg-02\\144\\053-bg-02-144-006.png\n",
      "C:\\Users\\User\\Desktop\\Aaron\\College-level Applied Research\\CASIA-B\\GaitDatasetB-silh\\053\\bg-02\\144\\053-bg-02-144-007.png\n",
      "C:\\Users\\User\\Desktop\\Aaron\\College-level Applied Research\\CASIA-B\\GaitDatasetB-silh\\053\\bg-02\\144\\053-bg-02-144-008.png\n",
      "C:\\Users\\User\\Desktop\\Aaron\\College-level Applied Research\\CASIA-B\\GaitDatasetB-silh\\053\\bg-02\\144\\053-bg-02-144-009.png\n",
      "C:\\Users\\User\\Desktop\\Aaron\\College-level Applied Research\\CASIA-B\\GaitDatasetB-silh\\053\\bg-02\\144\\053-bg-02-144-010.png\n",
      "C:\\Users\\User\\Desktop\\Aaron\\College-level Applied Research\\CASIA-B\\GaitDatasetB-silh\\053\\bg-02\\144\\053-bg-02-144-012.png\n"
     ]
    },
    {
     "name": "stdout",
     "output_type": "stream",
     "text": [
      "C:\\Users\\User\\Desktop\\Aaron\\College-level Applied Research\\CASIA-B\\GaitDatasetB-silh\\053\\cl-01\\144\\053-cl-01-144-001.png\n",
      "C:\\Users\\User\\Desktop\\Aaron\\College-level Applied Research\\CASIA-B\\GaitDatasetB-silh\\053\\cl-01\\144\\053-cl-01-144-002.png\n",
      "C:\\Users\\User\\Desktop\\Aaron\\College-level Applied Research\\CASIA-B\\GaitDatasetB-silh\\053\\cl-01\\144\\053-cl-01-144-003.png\n",
      "C:\\Users\\User\\Desktop\\Aaron\\College-level Applied Research\\CASIA-B\\GaitDatasetB-silh\\053\\cl-01\\144\\053-cl-01-144-005.png\n",
      "C:\\Users\\User\\Desktop\\Aaron\\College-level Applied Research\\CASIA-B\\GaitDatasetB-silh\\053\\cl-01\\144\\053-cl-01-144-007.png\n",
      "C:\\Users\\User\\Desktop\\Aaron\\College-level Applied Research\\CASIA-B\\GaitDatasetB-silh\\053\\cl-01\\144\\053-cl-01-144-008.png\n",
      "C:\\Users\\User\\Desktop\\Aaron\\College-level Applied Research\\CASIA-B\\GaitDatasetB-silh\\053\\cl-01\\144\\053-cl-01-144-009.png\n",
      "C:\\Users\\User\\Desktop\\Aaron\\College-level Applied Research\\CASIA-B\\GaitDatasetB-silh\\053\\cl-01\\144\\053-cl-01-144-010.png\n",
      "C:\\Users\\User\\Desktop\\Aaron\\College-level Applied Research\\CASIA-B\\GaitDatasetB-silh\\053\\cl-01\\144\\053-cl-01-144-011.png\n",
      "C:\\Users\\User\\Desktop\\Aaron\\College-level Applied Research\\CASIA-B\\GaitDatasetB-silh\\053\\cl-01\\144\\053-cl-01-144-012.png\n",
      "C:\\Users\\User\\Desktop\\Aaron\\College-level Applied Research\\CASIA-B\\GaitDatasetB-silh\\053\\cl-01\\144\\053-cl-01-144-013.png\n",
      "C:\\Users\\User\\Desktop\\Aaron\\College-level Applied Research\\CASIA-B\\GaitDatasetB-silh\\053\\cl-01\\144\\053-cl-01-144-014.png\n",
      "C:\\Users\\User\\Desktop\\Aaron\\College-level Applied Research\\CASIA-B\\GaitDatasetB-silh\\053\\cl-01\\144\\053-cl-01-144-015.png\n",
      "C:\\Users\\User\\Desktop\\Aaron\\College-level Applied Research\\CASIA-B\\GaitDatasetB-silh\\053\\cl-01\\144\\053-cl-01-144-017.png\n",
      "C:\\Users\\User\\Desktop\\Aaron\\College-level Applied Research\\CASIA-B\\GaitDatasetB-silh\\053\\cl-01\\144\\053-cl-01-144-019.png\n",
      "C:\\Users\\User\\Desktop\\Aaron\\College-level Applied Research\\CASIA-B\\GaitDatasetB-silh\\053\\cl-02\\144\\053-cl-02-144-001.png\n",
      "C:\\Users\\User\\Desktop\\Aaron\\College-level Applied Research\\CASIA-B\\GaitDatasetB-silh\\053\\cl-02\\144\\053-cl-02-144-002.png\n",
      "C:\\Users\\User\\Desktop\\Aaron\\College-level Applied Research\\CASIA-B\\GaitDatasetB-silh\\053\\cl-02\\144\\053-cl-02-144-003.png\n",
      "C:\\Users\\User\\Desktop\\Aaron\\College-level Applied Research\\CASIA-B\\GaitDatasetB-silh\\053\\cl-02\\144\\053-cl-02-144-004.png\n",
      "C:\\Users\\User\\Desktop\\Aaron\\College-level Applied Research\\CASIA-B\\GaitDatasetB-silh\\053\\cl-02\\144\\053-cl-02-144-006.png\n",
      "C:\\Users\\User\\Desktop\\Aaron\\College-level Applied Research\\CASIA-B\\GaitDatasetB-silh\\053\\cl-02\\144\\053-cl-02-144-009.png\n",
      "C:\\Users\\User\\Desktop\\Aaron\\College-level Applied Research\\CASIA-B\\GaitDatasetB-silh\\053\\cl-02\\144\\053-cl-02-144-010.png\n",
      "C:\\Users\\User\\Desktop\\Aaron\\College-level Applied Research\\CASIA-B\\GaitDatasetB-silh\\053\\cl-02\\144\\053-cl-02-144-011.png\n",
      "C:\\Users\\User\\Desktop\\Aaron\\College-level Applied Research\\CASIA-B\\GaitDatasetB-silh\\053\\cl-02\\144\\053-cl-02-144-012.png\n",
      "C:\\Users\\User\\Desktop\\Aaron\\College-level Applied Research\\CASIA-B\\GaitDatasetB-silh\\053\\cl-02\\144\\053-cl-02-144-013.png\n",
      "C:\\Users\\User\\Desktop\\Aaron\\College-level Applied Research\\CASIA-B\\GaitDatasetB-silh\\053\\cl-02\\144\\053-cl-02-144-014.png\n",
      "C:\\Users\\User\\Desktop\\Aaron\\College-level Applied Research\\CASIA-B\\GaitDatasetB-silh\\053\\cl-02\\144\\053-cl-02-144-015.png\n",
      "C:\\Users\\User\\Desktop\\Aaron\\College-level Applied Research\\CASIA-B\\GaitDatasetB-silh\\053\\cl-02\\144\\053-cl-02-144-017.png\n",
      "C:\\Users\\User\\Desktop\\Aaron\\College-level Applied Research\\CASIA-B\\GaitDatasetB-silh\\053\\cl-02\\144\\053-cl-02-144-019.png\n",
      "C:\\Users\\User\\Desktop\\Aaron\\College-level Applied Research\\CASIA-B\\GaitDatasetB-silh\\053\\cl-02\\144\\053-cl-02-144-020.png\n",
      "C:\\Users\\User\\Desktop\\Aaron\\College-level Applied Research\\CASIA-B\\GaitDatasetB-silh\\053\\nm-01\\144\\053-nm-01-144-001.png\n",
      "C:\\Users\\User\\Desktop\\Aaron\\College-level Applied Research\\CASIA-B\\GaitDatasetB-silh\\053\\nm-01\\144\\053-nm-01-144-002.png\n",
      "C:\\Users\\User\\Desktop\\Aaron\\College-level Applied Research\\CASIA-B\\GaitDatasetB-silh\\053\\nm-01\\144\\053-nm-01-144-003.png\n",
      "C:\\Users\\User\\Desktop\\Aaron\\College-level Applied Research\\CASIA-B\\GaitDatasetB-silh\\053\\nm-01\\144\\053-nm-01-144-005.png\n",
      "C:\\Users\\User\\Desktop\\Aaron\\College-level Applied Research\\CASIA-B\\GaitDatasetB-silh\\053\\nm-01\\144\\053-nm-01-144-007.png\n",
      "C:\\Users\\User\\Desktop\\Aaron\\College-level Applied Research\\CASIA-B\\GaitDatasetB-silh\\053\\nm-02\\144\\053-nm-02-144-001.png\n",
      "C:\\Users\\User\\Desktop\\Aaron\\College-level Applied Research\\CASIA-B\\GaitDatasetB-silh\\053\\nm-02\\144\\053-nm-02-144-002.png\n",
      "C:\\Users\\User\\Desktop\\Aaron\\College-level Applied Research\\CASIA-B\\GaitDatasetB-silh\\053\\nm-02\\144\\053-nm-02-144-003.png\n",
      "C:\\Users\\User\\Desktop\\Aaron\\College-level Applied Research\\CASIA-B\\GaitDatasetB-silh\\053\\nm-02\\144\\053-nm-02-144-004.png\n",
      "C:\\Users\\User\\Desktop\\Aaron\\College-level Applied Research\\CASIA-B\\GaitDatasetB-silh\\053\\nm-02\\144\\053-nm-02-144-005.png\n",
      "C:\\Users\\User\\Desktop\\Aaron\\College-level Applied Research\\CASIA-B\\GaitDatasetB-silh\\053\\nm-02\\144\\053-nm-02-144-006.png\n",
      "C:\\Users\\User\\Desktop\\Aaron\\College-level Applied Research\\CASIA-B\\GaitDatasetB-silh\\053\\nm-02\\144\\053-nm-02-144-007.png\n",
      "C:\\Users\\User\\Desktop\\Aaron\\College-level Applied Research\\CASIA-B\\GaitDatasetB-silh\\053\\nm-02\\144\\053-nm-02-144-008.png\n",
      "C:\\Users\\User\\Desktop\\Aaron\\College-level Applied Research\\CASIA-B\\GaitDatasetB-silh\\053\\nm-02\\144\\053-nm-02-144-009.png\n",
      "C:\\Users\\User\\Desktop\\Aaron\\College-level Applied Research\\CASIA-B\\GaitDatasetB-silh\\053\\nm-02\\144\\053-nm-02-144-010.png\n",
      "C:\\Users\\User\\Desktop\\Aaron\\College-level Applied Research\\CASIA-B\\GaitDatasetB-silh\\053\\nm-02\\144\\053-nm-02-144-011.png\n",
      "C:\\Users\\User\\Desktop\\Aaron\\College-level Applied Research\\CASIA-B\\GaitDatasetB-silh\\053\\nm-02\\144\\053-nm-02-144-012.png\n",
      "C:\\Users\\User\\Desktop\\Aaron\\College-level Applied Research\\CASIA-B\\GaitDatasetB-silh\\053\\nm-02\\144\\053-nm-02-144-013.png\n",
      "C:\\Users\\User\\Desktop\\Aaron\\College-level Applied Research\\CASIA-B\\GaitDatasetB-silh\\053\\nm-02\\144\\053-nm-02-144-014.png\n",
      "C:\\Users\\User\\Desktop\\Aaron\\College-level Applied Research\\CASIA-B\\GaitDatasetB-silh\\053\\nm-02\\144\\053-nm-02-144-015.png\n",
      "C:\\Users\\User\\Desktop\\Aaron\\College-level Applied Research\\CASIA-B\\GaitDatasetB-silh\\053\\nm-02\\144\\053-nm-02-144-016.png\n",
      "C:\\Users\\User\\Desktop\\Aaron\\College-level Applied Research\\CASIA-B\\GaitDatasetB-silh\\053\\nm-02\\144\\053-nm-02-144-017.png\n",
      "C:\\Users\\User\\Desktop\\Aaron\\College-level Applied Research\\CASIA-B\\GaitDatasetB-silh\\053\\nm-02\\144\\053-nm-02-144-018.png\n",
      "C:\\Users\\User\\Desktop\\Aaron\\College-level Applied Research\\CASIA-B\\GaitDatasetB-silh\\053\\nm-02\\144\\053-nm-02-144-019.png\n",
      "C:\\Users\\User\\Desktop\\Aaron\\College-level Applied Research\\CASIA-B\\GaitDatasetB-silh\\053\\nm-02\\144\\053-nm-02-144-020.png\n",
      "C:\\Users\\User\\Desktop\\Aaron\\College-level Applied Research\\CASIA-B\\GaitDatasetB-silh\\053\\nm-03\\144\\053-nm-03-144-001.png\n",
      "C:\\Users\\User\\Desktop\\Aaron\\College-level Applied Research\\CASIA-B\\GaitDatasetB-silh\\053\\nm-03\\144\\053-nm-03-144-004.png\n",
      "C:\\Users\\User\\Desktop\\Aaron\\College-level Applied Research\\CASIA-B\\GaitDatasetB-silh\\053\\nm-03\\144\\053-nm-03-144-005.png\n",
      "C:\\Users\\User\\Desktop\\Aaron\\College-level Applied Research\\CASIA-B\\GaitDatasetB-silh\\053\\nm-03\\144\\053-nm-03-144-006.png\n",
      "C:\\Users\\User\\Desktop\\Aaron\\College-level Applied Research\\CASIA-B\\GaitDatasetB-silh\\053\\nm-03\\144\\053-nm-03-144-007.png\n",
      "C:\\Users\\User\\Desktop\\Aaron\\College-level Applied Research\\CASIA-B\\GaitDatasetB-silh\\053\\nm-03\\144\\053-nm-03-144-008.png\n",
      "C:\\Users\\User\\Desktop\\Aaron\\College-level Applied Research\\CASIA-B\\GaitDatasetB-silh\\053\\nm-03\\144\\053-nm-03-144-012.png\n",
      "C:\\Users\\User\\Desktop\\Aaron\\College-level Applied Research\\CASIA-B\\GaitDatasetB-silh\\053\\nm-03\\144\\053-nm-03-144-013.png\n",
      "C:\\Users\\User\\Desktop\\Aaron\\College-level Applied Research\\CASIA-B\\GaitDatasetB-silh\\053\\nm-03\\144\\053-nm-03-144-014.png\n",
      "C:\\Users\\User\\Desktop\\Aaron\\College-level Applied Research\\CASIA-B\\GaitDatasetB-silh\\053\\nm-03\\144\\053-nm-03-144-015.png\n",
      "C:\\Users\\User\\Desktop\\Aaron\\College-level Applied Research\\CASIA-B\\GaitDatasetB-silh\\053\\nm-03\\144\\053-nm-03-144-017.png\n",
      "C:\\Users\\User\\Desktop\\Aaron\\College-level Applied Research\\CASIA-B\\GaitDatasetB-silh\\053\\nm-03\\144\\053-nm-03-144-018.png\n",
      "C:\\Users\\User\\Desktop\\Aaron\\College-level Applied Research\\CASIA-B\\GaitDatasetB-silh\\053\\nm-03\\144\\053-nm-03-144-019.png\n",
      "C:\\Users\\User\\Desktop\\Aaron\\College-level Applied Research\\CASIA-B\\GaitDatasetB-silh\\053\\nm-03\\144\\053-nm-03-144-020.png\n"
     ]
    },
    {
     "name": "stdout",
     "output_type": "stream",
     "text": [
      "C:\\Users\\User\\Desktop\\Aaron\\College-level Applied Research\\CASIA-B\\GaitDatasetB-silh\\053\\nm-04\\144\\053-nm-04-144-002.png\n",
      "C:\\Users\\User\\Desktop\\Aaron\\College-level Applied Research\\CASIA-B\\GaitDatasetB-silh\\053\\nm-04\\144\\053-nm-04-144-003.png\n",
      "C:\\Users\\User\\Desktop\\Aaron\\College-level Applied Research\\CASIA-B\\GaitDatasetB-silh\\053\\nm-04\\144\\053-nm-04-144-004.png\n",
      "C:\\Users\\User\\Desktop\\Aaron\\College-level Applied Research\\CASIA-B\\GaitDatasetB-silh\\053\\nm-04\\144\\053-nm-04-144-005.png\n",
      "C:\\Users\\User\\Desktop\\Aaron\\College-level Applied Research\\CASIA-B\\GaitDatasetB-silh\\053\\nm-04\\144\\053-nm-04-144-006.png\n",
      "C:\\Users\\User\\Desktop\\Aaron\\College-level Applied Research\\CASIA-B\\GaitDatasetB-silh\\053\\nm-04\\144\\053-nm-04-144-007.png\n",
      "C:\\Users\\User\\Desktop\\Aaron\\College-level Applied Research\\CASIA-B\\GaitDatasetB-silh\\053\\nm-04\\144\\053-nm-04-144-009.png\n",
      "C:\\Users\\User\\Desktop\\Aaron\\College-level Applied Research\\CASIA-B\\GaitDatasetB-silh\\053\\nm-04\\144\\053-nm-04-144-010.png\n",
      "C:\\Users\\User\\Desktop\\Aaron\\College-level Applied Research\\CASIA-B\\GaitDatasetB-silh\\053\\nm-04\\144\\053-nm-04-144-011.png\n",
      "C:\\Users\\User\\Desktop\\Aaron\\College-level Applied Research\\CASIA-B\\GaitDatasetB-silh\\053\\nm-04\\144\\053-nm-04-144-012.png\n",
      "C:\\Users\\User\\Desktop\\Aaron\\College-level Applied Research\\CASIA-B\\GaitDatasetB-silh\\053\\nm-04\\144\\053-nm-04-144-013.png\n",
      "C:\\Users\\User\\Desktop\\Aaron\\College-level Applied Research\\CASIA-B\\GaitDatasetB-silh\\053\\nm-04\\144\\053-nm-04-144-014.png\n",
      "C:\\Users\\User\\Desktop\\Aaron\\College-level Applied Research\\CASIA-B\\GaitDatasetB-silh\\053\\nm-04\\144\\053-nm-04-144-015.png\n",
      "C:\\Users\\User\\Desktop\\Aaron\\College-level Applied Research\\CASIA-B\\GaitDatasetB-silh\\053\\nm-04\\144\\053-nm-04-144-016.png\n",
      "C:\\Users\\User\\Desktop\\Aaron\\College-level Applied Research\\CASIA-B\\GaitDatasetB-silh\\053\\nm-04\\144\\053-nm-04-144-017.png\n",
      "C:\\Users\\User\\Desktop\\Aaron\\College-level Applied Research\\CASIA-B\\GaitDatasetB-silh\\053\\nm-04\\144\\053-nm-04-144-018.png\n",
      "C:\\Users\\User\\Desktop\\Aaron\\College-level Applied Research\\CASIA-B\\GaitDatasetB-silh\\053\\nm-04\\144\\053-nm-04-144-019.png\n",
      "C:\\Users\\User\\Desktop\\Aaron\\College-level Applied Research\\CASIA-B\\GaitDatasetB-silh\\053\\nm-05\\144\\053-nm-05-144-001.png\n",
      "C:\\Users\\User\\Desktop\\Aaron\\College-level Applied Research\\CASIA-B\\GaitDatasetB-silh\\053\\nm-05\\144\\053-nm-05-144-003.png\n",
      "C:\\Users\\User\\Desktop\\Aaron\\College-level Applied Research\\CASIA-B\\GaitDatasetB-silh\\053\\nm-05\\144\\053-nm-05-144-004.png\n",
      "C:\\Users\\User\\Desktop\\Aaron\\College-level Applied Research\\CASIA-B\\GaitDatasetB-silh\\053\\nm-05\\144\\053-nm-05-144-005.png\n",
      "C:\\Users\\User\\Desktop\\Aaron\\College-level Applied Research\\CASIA-B\\GaitDatasetB-silh\\053\\nm-05\\144\\053-nm-05-144-006.png\n",
      "C:\\Users\\User\\Desktop\\Aaron\\College-level Applied Research\\CASIA-B\\GaitDatasetB-silh\\053\\nm-05\\144\\053-nm-05-144-007.png\n",
      "C:\\Users\\User\\Desktop\\Aaron\\College-level Applied Research\\CASIA-B\\GaitDatasetB-silh\\053\\nm-05\\144\\053-nm-05-144-008.png\n",
      "C:\\Users\\User\\Desktop\\Aaron\\College-level Applied Research\\CASIA-B\\GaitDatasetB-silh\\053\\nm-05\\144\\053-nm-05-144-009.png\n",
      "C:\\Users\\User\\Desktop\\Aaron\\College-level Applied Research\\CASIA-B\\GaitDatasetB-silh\\053\\nm-05\\144\\053-nm-05-144-010.png\n",
      "C:\\Users\\User\\Desktop\\Aaron\\College-level Applied Research\\CASIA-B\\GaitDatasetB-silh\\053\\nm-05\\144\\053-nm-05-144-011.png\n",
      "C:\\Users\\User\\Desktop\\Aaron\\College-level Applied Research\\CASIA-B\\GaitDatasetB-silh\\053\\nm-05\\144\\053-nm-05-144-012.png\n",
      "C:\\Users\\User\\Desktop\\Aaron\\College-level Applied Research\\CASIA-B\\GaitDatasetB-silh\\053\\nm-05\\144\\053-nm-05-144-014.png\n",
      "C:\\Users\\User\\Desktop\\Aaron\\College-level Applied Research\\CASIA-B\\GaitDatasetB-silh\\053\\nm-06\\144\\053-nm-06-144-002.png\n",
      "C:\\Users\\User\\Desktop\\Aaron\\College-level Applied Research\\CASIA-B\\GaitDatasetB-silh\\053\\nm-06\\144\\053-nm-06-144-003.png\n",
      "C:\\Users\\User\\Desktop\\Aaron\\College-level Applied Research\\CASIA-B\\GaitDatasetB-silh\\053\\nm-06\\144\\053-nm-06-144-004.png\n",
      "C:\\Users\\User\\Desktop\\Aaron\\College-level Applied Research\\CASIA-B\\GaitDatasetB-silh\\053\\nm-06\\144\\053-nm-06-144-006.png\n",
      "C:\\Users\\User\\Desktop\\Aaron\\College-level Applied Research\\CASIA-B\\GaitDatasetB-silh\\053\\nm-06\\144\\053-nm-06-144-007.png\n",
      "C:\\Users\\User\\Desktop\\Aaron\\College-level Applied Research\\CASIA-B\\GaitDatasetB-silh\\053\\nm-06\\144\\053-nm-06-144-008.png\n",
      "C:\\Users\\User\\Desktop\\Aaron\\College-level Applied Research\\CASIA-B\\GaitDatasetB-silh\\053\\nm-06\\144\\053-nm-06-144-009.png\n",
      "C:\\Users\\User\\Desktop\\Aaron\\College-level Applied Research\\CASIA-B\\GaitDatasetB-silh\\053\\nm-06\\144\\053-nm-06-144-010.png\n",
      "C:\\Users\\User\\Desktop\\Aaron\\College-level Applied Research\\CASIA-B\\GaitDatasetB-silh\\053\\nm-06\\144\\053-nm-06-144-011.png\n",
      "C:\\Users\\User\\Desktop\\Aaron\\College-level Applied Research\\CASIA-B\\GaitDatasetB-silh\\053\\nm-06\\144\\053-nm-06-144-013.png\n",
      "C:\\Users\\User\\Desktop\\Aaron\\College-level Applied Research\\CASIA-B\\GaitDatasetB-silh\\053\\nm-06\\144\\053-nm-06-144-014.png\n",
      "C:\\Users\\User\\Desktop\\Aaron\\College-level Applied Research\\CASIA-B\\GaitDatasetB-silh\\053\\nm-06\\144\\053-nm-06-144-016.png\n",
      "C:\\Users\\User\\Desktop\\Aaron\\College-level Applied Research\\CASIA-B\\GaitDatasetB-silh\\053\\nm-06\\144\\053-nm-06-144-017.png\n",
      "C:\\Users\\User\\Desktop\\Aaron\\College-level Applied Research\\CASIA-B\\GaitDatasetB-silh\\053\\nm-06\\144\\053-nm-06-144-019.png\n",
      "C:\\Users\\User\\Desktop\\Aaron\\College-level Applied Research\\CASIA-B\\GaitDatasetB-silh\\053\\nm-06\\144\\053-nm-06-144-020.png\n",
      "C:\\Users\\User\\Desktop\\Aaron\\College-level Applied Research\\CASIA-B\\GaitDatasetB-silh\\053\\nm-06\\144\\053-nm-06-144-021.png\n",
      "C:\\Users\\User\\Desktop\\Aaron\\College-level Applied Research\\CASIA-B\\GaitDatasetB-silh\\068\\nm-01\\054\n",
      "C:\\Users\\User\\Desktop\\Aaron\\College-level Applied Research\\CASIA-B\\GaitDatasetB-silh\\068\\nm-01\\126\n",
      "C:\\Users\\User\\Desktop\\Aaron\\College-level Applied Research\\CASIA-B\\GaitDatasetB-silh\\068\\nm-01\\144\n",
      "C:\\Users\\User\\Desktop\\Aaron\\College-level Applied Research\\CASIA-B\\GaitDatasetB-silh\\068\\nm-01\\162\n",
      "C:\\Users\\User\\Desktop\\Aaron\\College-level Applied Research\\CASIA-B\\GaitDatasetB-silh\\068\\nm-02\\126\n",
      "C:\\Users\\User\\Desktop\\Aaron\\College-level Applied Research\\CASIA-B\\GaitDatasetB-silh\\068\\nm-02\\162\n",
      "C:\\Users\\User\\Desktop\\Aaron\\College-level Applied Research\\CASIA-B\\GaitDatasetB-silh\\068\\nm-03\\126\n",
      "C:\\Users\\User\\Desktop\\Aaron\\College-level Applied Research\\CASIA-B\\GaitDatasetB-silh\\068\\nm-03\\144\n",
      "C:\\Users\\User\\Desktop\\Aaron\\College-level Applied Research\\CASIA-B\\GaitDatasetB-silh\\068\\nm-03\\180\n",
      "C:\\Users\\User\\Desktop\\Aaron\\College-level Applied Research\\CASIA-B\\GaitDatasetB-silh\\068\\nm-04\\126\n",
      "C:\\Users\\User\\Desktop\\Aaron\\College-level Applied Research\\CASIA-B\\GaitDatasetB-silh\\068\\nm-04\\144\n",
      "C:\\Users\\User\\Desktop\\Aaron\\College-level Applied Research\\CASIA-B\\GaitDatasetB-silh\\073\\cl-02\\126\\073-cl-02-126-033.png\n",
      "C:\\Users\\User\\Desktop\\Aaron\\College-level Applied Research\\CASIA-B\\GaitDatasetB-silh\\079\\bg-02\\054\n",
      "C:\\Users\\User\\Desktop\\Aaron\\College-level Applied Research\\CASIA-B\\GaitDatasetB-silh\\079\\bg-02\\162\n",
      "C:\\Users\\User\\Desktop\\Aaron\\College-level Applied Research\\CASIA-B\\GaitDatasetB-silh\\088\\bg-01\\144\\088-bg-01-144-001.png\n",
      "C:\\Users\\User\\Desktop\\Aaron\\College-level Applied Research\\CASIA-B\\GaitDatasetB-silh\\088\\bg-01\\144\\088-bg-01-144-002.png\n",
      "C:\\Users\\User\\Desktop\\Aaron\\College-level Applied Research\\CASIA-B\\GaitDatasetB-silh\\088\\bg-01\\144\\088-bg-01-144-003.png\n",
      "C:\\Users\\User\\Desktop\\Aaron\\College-level Applied Research\\CASIA-B\\GaitDatasetB-silh\\088\\bg-01\\144\\088-bg-01-144-004.png\n",
      "C:\\Users\\User\\Desktop\\Aaron\\College-level Applied Research\\CASIA-B\\GaitDatasetB-silh\\088\\bg-01\\144\\088-bg-01-144-005.png\n",
      "C:\\Users\\User\\Desktop\\Aaron\\College-level Applied Research\\CASIA-B\\GaitDatasetB-silh\\088\\bg-01\\144\\088-bg-01-144-006.png\n",
      "C:\\Users\\User\\Desktop\\Aaron\\College-level Applied Research\\CASIA-B\\GaitDatasetB-silh\\088\\bg-01\\144\\088-bg-01-144-007.png\n",
      "C:\\Users\\User\\Desktop\\Aaron\\College-level Applied Research\\CASIA-B\\GaitDatasetB-silh\\088\\bg-01\\144\\088-bg-01-144-008.png\n",
      "C:\\Users\\User\\Desktop\\Aaron\\College-level Applied Research\\CASIA-B\\GaitDatasetB-silh\\088\\bg-01\\144\\088-bg-01-144-009.png\n",
      "C:\\Users\\User\\Desktop\\Aaron\\College-level Applied Research\\CASIA-B\\GaitDatasetB-silh\\088\\bg-01\\144\\088-bg-01-144-010.png\n",
      "C:\\Users\\User\\Desktop\\Aaron\\College-level Applied Research\\CASIA-B\\GaitDatasetB-silh\\088\\bg-01\\144\\088-bg-01-144-011.png\n",
      "C:\\Users\\User\\Desktop\\Aaron\\College-level Applied Research\\CASIA-B\\GaitDatasetB-silh\\088\\bg-01\\144\\088-bg-01-144-012.png\n",
      "C:\\Users\\User\\Desktop\\Aaron\\College-level Applied Research\\CASIA-B\\GaitDatasetB-silh\\088\\bg-01\\144\\088-bg-01-144-013.png\n",
      "C:\\Users\\User\\Desktop\\Aaron\\College-level Applied Research\\CASIA-B\\GaitDatasetB-silh\\088\\bg-01\\144\\088-bg-01-144-014.png\n",
      "C:\\Users\\User\\Desktop\\Aaron\\College-level Applied Research\\CASIA-B\\GaitDatasetB-silh\\088\\bg-01\\144\\088-bg-01-144-015.png\n",
      "C:\\Users\\User\\Desktop\\Aaron\\College-level Applied Research\\CASIA-B\\GaitDatasetB-silh\\088\\bg-01\\144\\088-bg-01-144-016.png\n",
      "C:\\Users\\User\\Desktop\\Aaron\\College-level Applied Research\\CASIA-B\\GaitDatasetB-silh\\088\\bg-01\\144\\088-bg-01-144-017.png\n",
      "C:\\Users\\User\\Desktop\\Aaron\\College-level Applied Research\\CASIA-B\\GaitDatasetB-silh\\088\\bg-01\\144\\088-bg-01-144-018.png\n",
      "C:\\Users\\User\\Desktop\\Aaron\\College-level Applied Research\\CASIA-B\\GaitDatasetB-silh\\088\\bg-01\\144\\088-bg-01-144-019.png\n",
      "C:\\Users\\User\\Desktop\\Aaron\\College-level Applied Research\\CASIA-B\\GaitDatasetB-silh\\088\\bg-01\\144\\088-bg-01-144-020.png\n",
      "C:\\Users\\User\\Desktop\\Aaron\\College-level Applied Research\\CASIA-B\\GaitDatasetB-silh\\088\\bg-01\\144\\088-bg-01-144-021.png\n",
      "C:\\Users\\User\\Desktop\\Aaron\\College-level Applied Research\\CASIA-B\\GaitDatasetB-silh\\088\\bg-01\\144\\088-bg-01-144-022.png\n",
      "C:\\Users\\User\\Desktop\\Aaron\\College-level Applied Research\\CASIA-B\\GaitDatasetB-silh\\088\\bg-01\\144\\088-bg-01-144-023.png\n",
      "C:\\Users\\User\\Desktop\\Aaron\\College-level Applied Research\\CASIA-B\\GaitDatasetB-silh\\088\\bg-01\\144\\088-bg-01-144-024.png\n",
      "C:\\Users\\User\\Desktop\\Aaron\\College-level Applied Research\\CASIA-B\\GaitDatasetB-silh\\088\\bg-01\\144\\088-bg-01-144-025.png\n",
      "C:\\Users\\User\\Desktop\\Aaron\\College-level Applied Research\\CASIA-B\\GaitDatasetB-silh\\088\\bg-01\\144\\088-bg-01-144-026.png\n",
      "C:\\Users\\User\\Desktop\\Aaron\\College-level Applied Research\\CASIA-B\\GaitDatasetB-silh\\088\\bg-01\\144\\088-bg-01-144-027.png\n",
      "C:\\Users\\User\\Desktop\\Aaron\\College-level Applied Research\\CASIA-B\\GaitDatasetB-silh\\088\\bg-01\\144\\088-bg-01-144-028.png\n",
      "C:\\Users\\User\\Desktop\\Aaron\\College-level Applied Research\\CASIA-B\\GaitDatasetB-silh\\088\\bg-01\\144\\088-bg-01-144-029.png\n",
      "C:\\Users\\User\\Desktop\\Aaron\\College-level Applied Research\\CASIA-B\\GaitDatasetB-silh\\088\\bg-01\\144\\088-bg-01-144-030.png\n",
      "C:\\Users\\User\\Desktop\\Aaron\\College-level Applied Research\\CASIA-B\\GaitDatasetB-silh\\088\\bg-01\\144\\088-bg-01-144-031.png\n",
      "C:\\Users\\User\\Desktop\\Aaron\\College-level Applied Research\\CASIA-B\\GaitDatasetB-silh\\088\\bg-01\\144\\088-bg-01-144-032.png\n",
      "C:\\Users\\User\\Desktop\\Aaron\\College-level Applied Research\\CASIA-B\\GaitDatasetB-silh\\088\\bg-01\\144\\088-bg-01-144-033.png\n",
      "C:\\Users\\User\\Desktop\\Aaron\\College-level Applied Research\\CASIA-B\\GaitDatasetB-silh\\088\\bg-01\\144\\088-bg-01-144-034.png\n"
     ]
    },
    {
     "name": "stdout",
     "output_type": "stream",
     "text": [
      "C:\\Users\\User\\Desktop\\Aaron\\College-level Applied Research\\CASIA-B\\GaitDatasetB-silh\\088\\bg-02\\144\\088-bg-02-144-001.png\n",
      "C:\\Users\\User\\Desktop\\Aaron\\College-level Applied Research\\CASIA-B\\GaitDatasetB-silh\\088\\bg-02\\144\\088-bg-02-144-002.png\n",
      "C:\\Users\\User\\Desktop\\Aaron\\College-level Applied Research\\CASIA-B\\GaitDatasetB-silh\\088\\bg-02\\144\\088-bg-02-144-003.png\n",
      "C:\\Users\\User\\Desktop\\Aaron\\College-level Applied Research\\CASIA-B\\GaitDatasetB-silh\\088\\bg-02\\144\\088-bg-02-144-004.png\n",
      "C:\\Users\\User\\Desktop\\Aaron\\College-level Applied Research\\CASIA-B\\GaitDatasetB-silh\\088\\bg-02\\144\\088-bg-02-144-005.png\n",
      "C:\\Users\\User\\Desktop\\Aaron\\College-level Applied Research\\CASIA-B\\GaitDatasetB-silh\\088\\bg-02\\144\\088-bg-02-144-006.png\n",
      "C:\\Users\\User\\Desktop\\Aaron\\College-level Applied Research\\CASIA-B\\GaitDatasetB-silh\\088\\bg-02\\144\\088-bg-02-144-007.png\n",
      "C:\\Users\\User\\Desktop\\Aaron\\College-level Applied Research\\CASIA-B\\GaitDatasetB-silh\\088\\bg-02\\144\\088-bg-02-144-008.png\n",
      "C:\\Users\\User\\Desktop\\Aaron\\College-level Applied Research\\CASIA-B\\GaitDatasetB-silh\\088\\bg-02\\144\\088-bg-02-144-009.png\n",
      "C:\\Users\\User\\Desktop\\Aaron\\College-level Applied Research\\CASIA-B\\GaitDatasetB-silh\\088\\bg-02\\144\\088-bg-02-144-010.png\n",
      "C:\\Users\\User\\Desktop\\Aaron\\College-level Applied Research\\CASIA-B\\GaitDatasetB-silh\\088\\bg-02\\144\\088-bg-02-144-011.png\n",
      "C:\\Users\\User\\Desktop\\Aaron\\College-level Applied Research\\CASIA-B\\GaitDatasetB-silh\\088\\bg-02\\144\\088-bg-02-144-012.png\n",
      "C:\\Users\\User\\Desktop\\Aaron\\College-level Applied Research\\CASIA-B\\GaitDatasetB-silh\\088\\bg-02\\144\\088-bg-02-144-013.png\n",
      "C:\\Users\\User\\Desktop\\Aaron\\College-level Applied Research\\CASIA-B\\GaitDatasetB-silh\\088\\bg-02\\144\\088-bg-02-144-014.png\n",
      "C:\\Users\\User\\Desktop\\Aaron\\College-level Applied Research\\CASIA-B\\GaitDatasetB-silh\\088\\bg-02\\144\\088-bg-02-144-015.png\n",
      "C:\\Users\\User\\Desktop\\Aaron\\College-level Applied Research\\CASIA-B\\GaitDatasetB-silh\\088\\bg-02\\144\\088-bg-02-144-016.png\n",
      "C:\\Users\\User\\Desktop\\Aaron\\College-level Applied Research\\CASIA-B\\GaitDatasetB-silh\\088\\bg-02\\144\\088-bg-02-144-017.png\n",
      "C:\\Users\\User\\Desktop\\Aaron\\College-level Applied Research\\CASIA-B\\GaitDatasetB-silh\\088\\bg-02\\144\\088-bg-02-144-018.png\n",
      "C:\\Users\\User\\Desktop\\Aaron\\College-level Applied Research\\CASIA-B\\GaitDatasetB-silh\\088\\bg-02\\144\\088-bg-02-144-019.png\n",
      "C:\\Users\\User\\Desktop\\Aaron\\College-level Applied Research\\CASIA-B\\GaitDatasetB-silh\\088\\bg-02\\144\\088-bg-02-144-020.png\n",
      "C:\\Users\\User\\Desktop\\Aaron\\College-level Applied Research\\CASIA-B\\GaitDatasetB-silh\\088\\bg-02\\144\\088-bg-02-144-021.png\n",
      "C:\\Users\\User\\Desktop\\Aaron\\College-level Applied Research\\CASIA-B\\GaitDatasetB-silh\\088\\bg-02\\144\\088-bg-02-144-022.png\n",
      "C:\\Users\\User\\Desktop\\Aaron\\College-level Applied Research\\CASIA-B\\GaitDatasetB-silh\\088\\bg-02\\144\\088-bg-02-144-023.png\n",
      "C:\\Users\\User\\Desktop\\Aaron\\College-level Applied Research\\CASIA-B\\GaitDatasetB-silh\\088\\bg-02\\144\\088-bg-02-144-024.png\n",
      "C:\\Users\\User\\Desktop\\Aaron\\College-level Applied Research\\CASIA-B\\GaitDatasetB-silh\\088\\bg-02\\144\\088-bg-02-144-025.png\n",
      "C:\\Users\\User\\Desktop\\Aaron\\College-level Applied Research\\CASIA-B\\GaitDatasetB-silh\\088\\bg-02\\144\\088-bg-02-144-026.png\n",
      "C:\\Users\\User\\Desktop\\Aaron\\College-level Applied Research\\CASIA-B\\GaitDatasetB-silh\\088\\bg-02\\144\\088-bg-02-144-027.png\n",
      "C:\\Users\\User\\Desktop\\Aaron\\College-level Applied Research\\CASIA-B\\GaitDatasetB-silh\\088\\bg-02\\144\\088-bg-02-144-028.png\n",
      "C:\\Users\\User\\Desktop\\Aaron\\College-level Applied Research\\CASIA-B\\GaitDatasetB-silh\\088\\bg-02\\144\\088-bg-02-144-029.png\n",
      "C:\\Users\\User\\Desktop\\Aaron\\College-level Applied Research\\CASIA-B\\GaitDatasetB-silh\\088\\bg-02\\144\\088-bg-02-144-030.png\n",
      "C:\\Users\\User\\Desktop\\Aaron\\College-level Applied Research\\CASIA-B\\GaitDatasetB-silh\\088\\bg-02\\144\\088-bg-02-144-031.png\n",
      "C:\\Users\\User\\Desktop\\Aaron\\College-level Applied Research\\CASIA-B\\GaitDatasetB-silh\\088\\bg-02\\144\\088-bg-02-144-032.png\n",
      "C:\\Users\\User\\Desktop\\Aaron\\College-level Applied Research\\CASIA-B\\GaitDatasetB-silh\\088\\bg-02\\144\\088-bg-02-144-033.png\n",
      "C:\\Users\\User\\Desktop\\Aaron\\College-level Applied Research\\CASIA-B\\GaitDatasetB-silh\\088\\bg-02\\144\\088-bg-02-144-034.png\n",
      "C:\\Users\\User\\Desktop\\Aaron\\College-level Applied Research\\CASIA-B\\GaitDatasetB-silh\\088\\bg-02\\144\\088-bg-02-144-035.png\n",
      "C:\\Users\\User\\Desktop\\Aaron\\College-level Applied Research\\CASIA-B\\GaitDatasetB-silh\\088\\bg-02\\144\\088-bg-02-144-036.png\n",
      "C:\\Users\\User\\Desktop\\Aaron\\College-level Applied Research\\CASIA-B\\GaitDatasetB-silh\\088\\bg-02\\144\\088-bg-02-144-037.png\n",
      "C:\\Users\\User\\Desktop\\Aaron\\College-level Applied Research\\CASIA-B\\GaitDatasetB-silh\\088\\bg-02\\144\\088-bg-02-144-038.png\n",
      "C:\\Users\\User\\Desktop\\Aaron\\College-level Applied Research\\CASIA-B\\GaitDatasetB-silh\\088\\bg-02\\144\\088-bg-02-144-039.png\n",
      "C:\\Users\\User\\Desktop\\Aaron\\College-level Applied Research\\CASIA-B\\GaitDatasetB-silh\\088\\bg-02\\144\\088-bg-02-144-040.png\n",
      "C:\\Users\\User\\Desktop\\Aaron\\College-level Applied Research\\CASIA-B\\GaitDatasetB-silh\\088\\bg-02\\144\\088-bg-02-144-041.png\n",
      "C:\\Users\\User\\Desktop\\Aaron\\College-level Applied Research\\CASIA-B\\GaitDatasetB-silh\\088\\bg-02\\144\\088-bg-02-144-042.png\n",
      "C:\\Users\\User\\Desktop\\Aaron\\College-level Applied Research\\CASIA-B\\GaitDatasetB-silh\\088\\bg-02\\144\\088-bg-02-144-043.png\n",
      "C:\\Users\\User\\Desktop\\Aaron\\College-level Applied Research\\CASIA-B\\GaitDatasetB-silh\\088\\bg-02\\144\\088-bg-02-144-044.png\n",
      "C:\\Users\\User\\Desktop\\Aaron\\College-level Applied Research\\CASIA-B\\GaitDatasetB-silh\\088\\bg-02\\144\\088-bg-02-144-045.png\n",
      "C:\\Users\\User\\Desktop\\Aaron\\College-level Applied Research\\CASIA-B\\GaitDatasetB-silh\\088\\bg-02\\144\\088-bg-02-144-046.png\n",
      "C:\\Users\\User\\Desktop\\Aaron\\College-level Applied Research\\CASIA-B\\GaitDatasetB-silh\\088\\bg-02\\144\\088-bg-02-144-047.png\n",
      "C:\\Users\\User\\Desktop\\Aaron\\College-level Applied Research\\CASIA-B\\GaitDatasetB-silh\\088\\bg-02\\144\\088-bg-02-144-048.png\n",
      "C:\\Users\\User\\Desktop\\Aaron\\College-level Applied Research\\CASIA-B\\GaitDatasetB-silh\\088\\bg-02\\144\\088-bg-02-144-049.png\n",
      "C:\\Users\\User\\Desktop\\Aaron\\College-level Applied Research\\CASIA-B\\GaitDatasetB-silh\\088\\bg-02\\144\\088-bg-02-144-050.png\n",
      "C:\\Users\\User\\Desktop\\Aaron\\College-level Applied Research\\CASIA-B\\GaitDatasetB-silh\\088\\cl-01\\144\\088-cl-01-144-001.png\n",
      "C:\\Users\\User\\Desktop\\Aaron\\College-level Applied Research\\CASIA-B\\GaitDatasetB-silh\\088\\cl-01\\144\\088-cl-01-144-002.png\n",
      "C:\\Users\\User\\Desktop\\Aaron\\College-level Applied Research\\CASIA-B\\GaitDatasetB-silh\\088\\cl-01\\144\\088-cl-01-144-003.png\n",
      "C:\\Users\\User\\Desktop\\Aaron\\College-level Applied Research\\CASIA-B\\GaitDatasetB-silh\\088\\cl-01\\144\\088-cl-01-144-004.png\n",
      "C:\\Users\\User\\Desktop\\Aaron\\College-level Applied Research\\CASIA-B\\GaitDatasetB-silh\\088\\cl-01\\144\\088-cl-01-144-005.png\n",
      "C:\\Users\\User\\Desktop\\Aaron\\College-level Applied Research\\CASIA-B\\GaitDatasetB-silh\\088\\cl-01\\144\\088-cl-01-144-006.png\n",
      "C:\\Users\\User\\Desktop\\Aaron\\College-level Applied Research\\CASIA-B\\GaitDatasetB-silh\\088\\cl-01\\144\\088-cl-01-144-007.png\n",
      "C:\\Users\\User\\Desktop\\Aaron\\College-level Applied Research\\CASIA-B\\GaitDatasetB-silh\\088\\cl-01\\144\\088-cl-01-144-008.png\n",
      "C:\\Users\\User\\Desktop\\Aaron\\College-level Applied Research\\CASIA-B\\GaitDatasetB-silh\\088\\cl-01\\144\\088-cl-01-144-009.png\n",
      "C:\\Users\\User\\Desktop\\Aaron\\College-level Applied Research\\CASIA-B\\GaitDatasetB-silh\\088\\cl-01\\144\\088-cl-01-144-010.png\n",
      "C:\\Users\\User\\Desktop\\Aaron\\College-level Applied Research\\CASIA-B\\GaitDatasetB-silh\\088\\cl-01\\144\\088-cl-01-144-011.png\n",
      "C:\\Users\\User\\Desktop\\Aaron\\College-level Applied Research\\CASIA-B\\GaitDatasetB-silh\\088\\cl-01\\144\\088-cl-01-144-012.png\n",
      "C:\\Users\\User\\Desktop\\Aaron\\College-level Applied Research\\CASIA-B\\GaitDatasetB-silh\\088\\cl-01\\144\\088-cl-01-144-013.png\n",
      "C:\\Users\\User\\Desktop\\Aaron\\College-level Applied Research\\CASIA-B\\GaitDatasetB-silh\\088\\cl-01\\144\\088-cl-01-144-014.png\n",
      "C:\\Users\\User\\Desktop\\Aaron\\College-level Applied Research\\CASIA-B\\GaitDatasetB-silh\\088\\cl-01\\144\\088-cl-01-144-015.png\n",
      "C:\\Users\\User\\Desktop\\Aaron\\College-level Applied Research\\CASIA-B\\GaitDatasetB-silh\\088\\cl-01\\144\\088-cl-01-144-016.png\n",
      "C:\\Users\\User\\Desktop\\Aaron\\College-level Applied Research\\CASIA-B\\GaitDatasetB-silh\\088\\cl-01\\144\\088-cl-01-144-017.png\n",
      "C:\\Users\\User\\Desktop\\Aaron\\College-level Applied Research\\CASIA-B\\GaitDatasetB-silh\\088\\cl-01\\144\\088-cl-01-144-018.png\n",
      "C:\\Users\\User\\Desktop\\Aaron\\College-level Applied Research\\CASIA-B\\GaitDatasetB-silh\\088\\cl-01\\144\\088-cl-01-144-019.png\n"
     ]
    },
    {
     "name": "stdout",
     "output_type": "stream",
     "text": [
      "C:\\Users\\User\\Desktop\\Aaron\\College-level Applied Research\\CASIA-B\\GaitDatasetB-silh\\088\\cl-02\\144\\088-cl-02-144-001.png\n",
      "C:\\Users\\User\\Desktop\\Aaron\\College-level Applied Research\\CASIA-B\\GaitDatasetB-silh\\088\\cl-02\\144\\088-cl-02-144-002.png\n",
      "C:\\Users\\User\\Desktop\\Aaron\\College-level Applied Research\\CASIA-B\\GaitDatasetB-silh\\088\\cl-02\\144\\088-cl-02-144-003.png\n",
      "C:\\Users\\User\\Desktop\\Aaron\\College-level Applied Research\\CASIA-B\\GaitDatasetB-silh\\088\\cl-02\\144\\088-cl-02-144-004.png\n",
      "C:\\Users\\User\\Desktop\\Aaron\\College-level Applied Research\\CASIA-B\\GaitDatasetB-silh\\088\\cl-02\\144\\088-cl-02-144-005.png\n",
      "C:\\Users\\User\\Desktop\\Aaron\\College-level Applied Research\\CASIA-B\\GaitDatasetB-silh\\088\\cl-02\\144\\088-cl-02-144-006.png\n",
      "C:\\Users\\User\\Desktop\\Aaron\\College-level Applied Research\\CASIA-B\\GaitDatasetB-silh\\088\\cl-02\\144\\088-cl-02-144-007.png\n",
      "C:\\Users\\User\\Desktop\\Aaron\\College-level Applied Research\\CASIA-B\\GaitDatasetB-silh\\088\\cl-02\\144\\088-cl-02-144-008.png\n",
      "C:\\Users\\User\\Desktop\\Aaron\\College-level Applied Research\\CASIA-B\\GaitDatasetB-silh\\088\\cl-02\\144\\088-cl-02-144-009.png\n",
      "C:\\Users\\User\\Desktop\\Aaron\\College-level Applied Research\\CASIA-B\\GaitDatasetB-silh\\088\\cl-02\\144\\088-cl-02-144-010.png\n",
      "C:\\Users\\User\\Desktop\\Aaron\\College-level Applied Research\\CASIA-B\\GaitDatasetB-silh\\088\\cl-02\\144\\088-cl-02-144-011.png\n",
      "C:\\Users\\User\\Desktop\\Aaron\\College-level Applied Research\\CASIA-B\\GaitDatasetB-silh\\088\\cl-02\\144\\088-cl-02-144-012.png\n",
      "C:\\Users\\User\\Desktop\\Aaron\\College-level Applied Research\\CASIA-B\\GaitDatasetB-silh\\088\\cl-02\\144\\088-cl-02-144-013.png\n",
      "C:\\Users\\User\\Desktop\\Aaron\\College-level Applied Research\\CASIA-B\\GaitDatasetB-silh\\088\\cl-02\\144\\088-cl-02-144-014.png\n",
      "C:\\Users\\User\\Desktop\\Aaron\\College-level Applied Research\\CASIA-B\\GaitDatasetB-silh\\088\\cl-02\\144\\088-cl-02-144-015.png\n",
      "C:\\Users\\User\\Desktop\\Aaron\\College-level Applied Research\\CASIA-B\\GaitDatasetB-silh\\088\\cl-02\\144\\088-cl-02-144-016.png\n",
      "C:\\Users\\User\\Desktop\\Aaron\\College-level Applied Research\\CASIA-B\\GaitDatasetB-silh\\088\\cl-02\\144\\088-cl-02-144-017.png\n",
      "C:\\Users\\User\\Desktop\\Aaron\\College-level Applied Research\\CASIA-B\\GaitDatasetB-silh\\088\\cl-02\\144\\088-cl-02-144-018.png\n",
      "C:\\Users\\User\\Desktop\\Aaron\\College-level Applied Research\\CASIA-B\\GaitDatasetB-silh\\088\\cl-02\\144\\088-cl-02-144-019.png\n",
      "C:\\Users\\User\\Desktop\\Aaron\\College-level Applied Research\\CASIA-B\\GaitDatasetB-silh\\088\\cl-02\\144\\088-cl-02-144-020.png\n",
      "C:\\Users\\User\\Desktop\\Aaron\\College-level Applied Research\\CASIA-B\\GaitDatasetB-silh\\088\\cl-02\\144\\088-cl-02-144-021.png\n",
      "C:\\Users\\User\\Desktop\\Aaron\\College-level Applied Research\\CASIA-B\\GaitDatasetB-silh\\088\\cl-02\\144\\088-cl-02-144-022.png\n",
      "C:\\Users\\User\\Desktop\\Aaron\\College-level Applied Research\\CASIA-B\\GaitDatasetB-silh\\088\\cl-02\\144\\088-cl-02-144-023.png\n",
      "C:\\Users\\User\\Desktop\\Aaron\\College-level Applied Research\\CASIA-B\\GaitDatasetB-silh\\088\\cl-02\\144\\088-cl-02-144-024.png\n",
      "C:\\Users\\User\\Desktop\\Aaron\\College-level Applied Research\\CASIA-B\\GaitDatasetB-silh\\088\\cl-02\\144\\088-cl-02-144-025.png\n",
      "C:\\Users\\User\\Desktop\\Aaron\\College-level Applied Research\\CASIA-B\\GaitDatasetB-silh\\088\\cl-02\\144\\088-cl-02-144-026.png\n",
      "C:\\Users\\User\\Desktop\\Aaron\\College-level Applied Research\\CASIA-B\\GaitDatasetB-silh\\088\\cl-02\\144\\088-cl-02-144-027.png\n",
      "C:\\Users\\User\\Desktop\\Aaron\\College-level Applied Research\\CASIA-B\\GaitDatasetB-silh\\088\\cl-02\\144\\088-cl-02-144-028.png\n",
      "C:\\Users\\User\\Desktop\\Aaron\\College-level Applied Research\\CASIA-B\\GaitDatasetB-silh\\088\\cl-02\\144\\088-cl-02-144-029.png\n",
      "C:\\Users\\User\\Desktop\\Aaron\\College-level Applied Research\\CASIA-B\\GaitDatasetB-silh\\088\\cl-02\\144\\088-cl-02-144-030.png\n",
      "C:\\Users\\User\\Desktop\\Aaron\\College-level Applied Research\\CASIA-B\\GaitDatasetB-silh\\088\\cl-02\\144\\088-cl-02-144-031.png\n",
      "C:\\Users\\User\\Desktop\\Aaron\\College-level Applied Research\\CASIA-B\\GaitDatasetB-silh\\088\\cl-02\\144\\088-cl-02-144-032.png\n",
      "C:\\Users\\User\\Desktop\\Aaron\\College-level Applied Research\\CASIA-B\\GaitDatasetB-silh\\088\\cl-02\\144\\088-cl-02-144-033.png\n",
      "C:\\Users\\User\\Desktop\\Aaron\\College-level Applied Research\\CASIA-B\\GaitDatasetB-silh\\088\\cl-02\\144\\088-cl-02-144-034.png\n",
      "C:\\Users\\User\\Desktop\\Aaron\\College-level Applied Research\\CASIA-B\\GaitDatasetB-silh\\088\\nm-01\\144\\088-nm-01-144-001.png\n",
      "C:\\Users\\User\\Desktop\\Aaron\\College-level Applied Research\\CASIA-B\\GaitDatasetB-silh\\088\\nm-01\\144\\088-nm-01-144-002.png\n",
      "C:\\Users\\User\\Desktop\\Aaron\\College-level Applied Research\\CASIA-B\\GaitDatasetB-silh\\088\\nm-01\\144\\088-nm-01-144-003.png\n",
      "C:\\Users\\User\\Desktop\\Aaron\\College-level Applied Research\\CASIA-B\\GaitDatasetB-silh\\088\\nm-01\\144\\088-nm-01-144-004.png\n",
      "C:\\Users\\User\\Desktop\\Aaron\\College-level Applied Research\\CASIA-B\\GaitDatasetB-silh\\088\\nm-01\\144\\088-nm-01-144-005.png\n",
      "C:\\Users\\User\\Desktop\\Aaron\\College-level Applied Research\\CASIA-B\\GaitDatasetB-silh\\088\\nm-01\\144\\088-nm-01-144-006.png\n",
      "C:\\Users\\User\\Desktop\\Aaron\\College-level Applied Research\\CASIA-B\\GaitDatasetB-silh\\088\\nm-01\\144\\088-nm-01-144-007.png\n",
      "C:\\Users\\User\\Desktop\\Aaron\\College-level Applied Research\\CASIA-B\\GaitDatasetB-silh\\088\\nm-01\\144\\088-nm-01-144-008.png\n",
      "C:\\Users\\User\\Desktop\\Aaron\\College-level Applied Research\\CASIA-B\\GaitDatasetB-silh\\088\\nm-01\\144\\088-nm-01-144-009.png\n",
      "C:\\Users\\User\\Desktop\\Aaron\\College-level Applied Research\\CASIA-B\\GaitDatasetB-silh\\088\\nm-01\\144\\088-nm-01-144-010.png\n",
      "C:\\Users\\User\\Desktop\\Aaron\\College-level Applied Research\\CASIA-B\\GaitDatasetB-silh\\088\\nm-01\\144\\088-nm-01-144-011.png\n",
      "C:\\Users\\User\\Desktop\\Aaron\\College-level Applied Research\\CASIA-B\\GaitDatasetB-silh\\088\\nm-01\\144\\088-nm-01-144-012.png\n",
      "C:\\Users\\User\\Desktop\\Aaron\\College-level Applied Research\\CASIA-B\\GaitDatasetB-silh\\088\\nm-01\\144\\088-nm-01-144-013.png\n",
      "C:\\Users\\User\\Desktop\\Aaron\\College-level Applied Research\\CASIA-B\\GaitDatasetB-silh\\088\\nm-01\\144\\088-nm-01-144-014.png\n",
      "C:\\Users\\User\\Desktop\\Aaron\\College-level Applied Research\\CASIA-B\\GaitDatasetB-silh\\088\\nm-01\\144\\088-nm-01-144-015.png\n",
      "C:\\Users\\User\\Desktop\\Aaron\\College-level Applied Research\\CASIA-B\\GaitDatasetB-silh\\088\\nm-01\\144\\088-nm-01-144-016.png\n",
      "C:\\Users\\User\\Desktop\\Aaron\\College-level Applied Research\\CASIA-B\\GaitDatasetB-silh\\088\\nm-01\\144\\088-nm-01-144-017.png\n",
      "C:\\Users\\User\\Desktop\\Aaron\\College-level Applied Research\\CASIA-B\\GaitDatasetB-silh\\088\\nm-01\\144\\088-nm-01-144-018.png\n",
      "C:\\Users\\User\\Desktop\\Aaron\\College-level Applied Research\\CASIA-B\\GaitDatasetB-silh\\088\\nm-01\\144\\088-nm-01-144-019.png\n",
      "C:\\Users\\User\\Desktop\\Aaron\\College-level Applied Research\\CASIA-B\\GaitDatasetB-silh\\088\\nm-02\\144\\088-nm-02-144-001.png\n",
      "C:\\Users\\User\\Desktop\\Aaron\\College-level Applied Research\\CASIA-B\\GaitDatasetB-silh\\088\\nm-02\\144\\088-nm-02-144-002.png\n",
      "C:\\Users\\User\\Desktop\\Aaron\\College-level Applied Research\\CASIA-B\\GaitDatasetB-silh\\088\\nm-02\\144\\088-nm-02-144-003.png\n",
      "C:\\Users\\User\\Desktop\\Aaron\\College-level Applied Research\\CASIA-B\\GaitDatasetB-silh\\088\\nm-02\\144\\088-nm-02-144-004.png\n",
      "C:\\Users\\User\\Desktop\\Aaron\\College-level Applied Research\\CASIA-B\\GaitDatasetB-silh\\088\\nm-02\\144\\088-nm-02-144-005.png\n",
      "C:\\Users\\User\\Desktop\\Aaron\\College-level Applied Research\\CASIA-B\\GaitDatasetB-silh\\088\\nm-02\\144\\088-nm-02-144-006.png\n",
      "C:\\Users\\User\\Desktop\\Aaron\\College-level Applied Research\\CASIA-B\\GaitDatasetB-silh\\088\\nm-02\\144\\088-nm-02-144-007.png\n",
      "C:\\Users\\User\\Desktop\\Aaron\\College-level Applied Research\\CASIA-B\\GaitDatasetB-silh\\088\\nm-02\\144\\088-nm-02-144-008.png\n",
      "C:\\Users\\User\\Desktop\\Aaron\\College-level Applied Research\\CASIA-B\\GaitDatasetB-silh\\088\\nm-02\\144\\088-nm-02-144-009.png\n",
      "C:\\Users\\User\\Desktop\\Aaron\\College-level Applied Research\\CASIA-B\\GaitDatasetB-silh\\088\\nm-02\\144\\088-nm-02-144-010.png\n",
      "C:\\Users\\User\\Desktop\\Aaron\\College-level Applied Research\\CASIA-B\\GaitDatasetB-silh\\088\\nm-02\\144\\088-nm-02-144-011.png\n",
      "C:\\Users\\User\\Desktop\\Aaron\\College-level Applied Research\\CASIA-B\\GaitDatasetB-silh\\088\\nm-02\\144\\088-nm-02-144-012.png\n",
      "C:\\Users\\User\\Desktop\\Aaron\\College-level Applied Research\\CASIA-B\\GaitDatasetB-silh\\088\\nm-02\\144\\088-nm-02-144-013.png\n",
      "C:\\Users\\User\\Desktop\\Aaron\\College-level Applied Research\\CASIA-B\\GaitDatasetB-silh\\088\\nm-02\\144\\088-nm-02-144-014.png\n",
      "C:\\Users\\User\\Desktop\\Aaron\\College-level Applied Research\\CASIA-B\\GaitDatasetB-silh\\088\\nm-03\\054\n"
     ]
    },
    {
     "name": "stdout",
     "output_type": "stream",
     "text": [
      "C:\\Users\\User\\Desktop\\Aaron\\College-level Applied Research\\CASIA-B\\GaitDatasetB-silh\\088\\nm-03\\126\n",
      "C:\\Users\\User\\Desktop\\Aaron\\College-level Applied Research\\CASIA-B\\GaitDatasetB-silh\\088\\nm-03\\144\\088-nm-03-144-001.png\n",
      "C:\\Users\\User\\Desktop\\Aaron\\College-level Applied Research\\CASIA-B\\GaitDatasetB-silh\\088\\nm-03\\144\\088-nm-03-144-002.png\n",
      "C:\\Users\\User\\Desktop\\Aaron\\College-level Applied Research\\CASIA-B\\GaitDatasetB-silh\\088\\nm-03\\144\\088-nm-03-144-003.png\n",
      "C:\\Users\\User\\Desktop\\Aaron\\College-level Applied Research\\CASIA-B\\GaitDatasetB-silh\\088\\nm-03\\144\\088-nm-03-144-004.png\n",
      "C:\\Users\\User\\Desktop\\Aaron\\College-level Applied Research\\CASIA-B\\GaitDatasetB-silh\\088\\nm-03\\144\\088-nm-03-144-005.png\n",
      "C:\\Users\\User\\Desktop\\Aaron\\College-level Applied Research\\CASIA-B\\GaitDatasetB-silh\\088\\nm-03\\144\\088-nm-03-144-006.png\n",
      "C:\\Users\\User\\Desktop\\Aaron\\College-level Applied Research\\CASIA-B\\GaitDatasetB-silh\\088\\nm-03\\144\\088-nm-03-144-007.png\n",
      "C:\\Users\\User\\Desktop\\Aaron\\College-level Applied Research\\CASIA-B\\GaitDatasetB-silh\\088\\nm-03\\144\\088-nm-03-144-008.png\n",
      "C:\\Users\\User\\Desktop\\Aaron\\College-level Applied Research\\CASIA-B\\GaitDatasetB-silh\\088\\nm-03\\144\\088-nm-03-144-009.png\n",
      "C:\\Users\\User\\Desktop\\Aaron\\College-level Applied Research\\CASIA-B\\GaitDatasetB-silh\\088\\nm-03\\144\\088-nm-03-144-010.png\n",
      "C:\\Users\\User\\Desktop\\Aaron\\College-level Applied Research\\CASIA-B\\GaitDatasetB-silh\\088\\nm-03\\144\\088-nm-03-144-011.png\n",
      "C:\\Users\\User\\Desktop\\Aaron\\College-level Applied Research\\CASIA-B\\GaitDatasetB-silh\\088\\nm-03\\144\\088-nm-03-144-012.png\n",
      "C:\\Users\\User\\Desktop\\Aaron\\College-level Applied Research\\CASIA-B\\GaitDatasetB-silh\\088\\nm-03\\144\\088-nm-03-144-013.png\n",
      "C:\\Users\\User\\Desktop\\Aaron\\College-level Applied Research\\CASIA-B\\GaitDatasetB-silh\\088\\nm-03\\144\\088-nm-03-144-014.png\n",
      "C:\\Users\\User\\Desktop\\Aaron\\College-level Applied Research\\CASIA-B\\GaitDatasetB-silh\\088\\nm-03\\144\\088-nm-03-144-015.png\n",
      "C:\\Users\\User\\Desktop\\Aaron\\College-level Applied Research\\CASIA-B\\GaitDatasetB-silh\\088\\nm-03\\144\\088-nm-03-144-016.png\n",
      "C:\\Users\\User\\Desktop\\Aaron\\College-level Applied Research\\CASIA-B\\GaitDatasetB-silh\\088\\nm-03\\144\\088-nm-03-144-017.png\n",
      "C:\\Users\\User\\Desktop\\Aaron\\College-level Applied Research\\CASIA-B\\GaitDatasetB-silh\\088\\nm-03\\144\\088-nm-03-144-018.png\n",
      "C:\\Users\\User\\Desktop\\Aaron\\College-level Applied Research\\CASIA-B\\GaitDatasetB-silh\\088\\nm-03\\144\\088-nm-03-144-019.png\n",
      "C:\\Users\\User\\Desktop\\Aaron\\College-level Applied Research\\CASIA-B\\GaitDatasetB-silh\\088\\nm-03\\144\\088-nm-03-144-020.png\n",
      "C:\\Users\\User\\Desktop\\Aaron\\College-level Applied Research\\CASIA-B\\GaitDatasetB-silh\\088\\nm-03\\144\\088-nm-03-144-021.png\n",
      "C:\\Users\\User\\Desktop\\Aaron\\College-level Applied Research\\CASIA-B\\GaitDatasetB-silh\\088\\nm-03\\144\\088-nm-03-144-022.png\n",
      "C:\\Users\\User\\Desktop\\Aaron\\College-level Applied Research\\CASIA-B\\GaitDatasetB-silh\\088\\nm-03\\144\\088-nm-03-144-023.png\n",
      "C:\\Users\\User\\Desktop\\Aaron\\College-level Applied Research\\CASIA-B\\GaitDatasetB-silh\\088\\nm-03\\144\\088-nm-03-144-024.png\n",
      "C:\\Users\\User\\Desktop\\Aaron\\College-level Applied Research\\CASIA-B\\GaitDatasetB-silh\\088\\nm-03\\144\\088-nm-03-144-025.png\n",
      "C:\\Users\\User\\Desktop\\Aaron\\College-level Applied Research\\CASIA-B\\GaitDatasetB-silh\\088\\nm-03\\144\\088-nm-03-144-026.png\n",
      "C:\\Users\\User\\Desktop\\Aaron\\College-level Applied Research\\CASIA-B\\GaitDatasetB-silh\\088\\nm-03\\144\\088-nm-03-144-027.png\n",
      "C:\\Users\\User\\Desktop\\Aaron\\College-level Applied Research\\CASIA-B\\GaitDatasetB-silh\\088\\nm-03\\144\\088-nm-03-144-028.png\n",
      "C:\\Users\\User\\Desktop\\Aaron\\College-level Applied Research\\CASIA-B\\GaitDatasetB-silh\\088\\nm-03\\144\\088-nm-03-144-029.png\n",
      "C:\\Users\\User\\Desktop\\Aaron\\College-level Applied Research\\CASIA-B\\GaitDatasetB-silh\\088\\nm-03\\144\\088-nm-03-144-030.png\n",
      "C:\\Users\\User\\Desktop\\Aaron\\College-level Applied Research\\CASIA-B\\GaitDatasetB-silh\\088\\nm-03\\144\\088-nm-03-144-031.png\n",
      "C:\\Users\\User\\Desktop\\Aaron\\College-level Applied Research\\CASIA-B\\GaitDatasetB-silh\\088\\nm-03\\144\\088-nm-03-144-032.png\n",
      "C:\\Users\\User\\Desktop\\Aaron\\College-level Applied Research\\CASIA-B\\GaitDatasetB-silh\\088\\nm-03\\144\\088-nm-03-144-033.png\n",
      "C:\\Users\\User\\Desktop\\Aaron\\College-level Applied Research\\CASIA-B\\GaitDatasetB-silh\\088\\nm-03\\144\\088-nm-03-144-034.png\n",
      "C:\\Users\\User\\Desktop\\Aaron\\College-level Applied Research\\CASIA-B\\GaitDatasetB-silh\\088\\nm-03\\144\\088-nm-03-144-035.png\n",
      "C:\\Users\\User\\Desktop\\Aaron\\College-level Applied Research\\CASIA-B\\GaitDatasetB-silh\\088\\nm-03\\144\\088-nm-03-144-036.png\n",
      "C:\\Users\\User\\Desktop\\Aaron\\College-level Applied Research\\CASIA-B\\GaitDatasetB-silh\\088\\nm-03\\144\\088-nm-03-144-037.png\n",
      "C:\\Users\\User\\Desktop\\Aaron\\College-level Applied Research\\CASIA-B\\GaitDatasetB-silh\\088\\nm-03\\144\\088-nm-03-144-038.png\n",
      "C:\\Users\\User\\Desktop\\Aaron\\College-level Applied Research\\CASIA-B\\GaitDatasetB-silh\\088\\nm-03\\144\\088-nm-03-144-039.png\n",
      "C:\\Users\\User\\Desktop\\Aaron\\College-level Applied Research\\CASIA-B\\GaitDatasetB-silh\\088\\nm-03\\144\\088-nm-03-144-040.png\n",
      "C:\\Users\\User\\Desktop\\Aaron\\College-level Applied Research\\CASIA-B\\GaitDatasetB-silh\\088\\nm-03\\144\\088-nm-03-144-041.png\n",
      "C:\\Users\\User\\Desktop\\Aaron\\College-level Applied Research\\CASIA-B\\GaitDatasetB-silh\\088\\nm-03\\144\\088-nm-03-144-042.png\n",
      "C:\\Users\\User\\Desktop\\Aaron\\College-level Applied Research\\CASIA-B\\GaitDatasetB-silh\\088\\nm-03\\144\\088-nm-03-144-043.png\n",
      "C:\\Users\\User\\Desktop\\Aaron\\College-level Applied Research\\CASIA-B\\GaitDatasetB-silh\\088\\nm-03\\144\\088-nm-03-144-044.png\n",
      "C:\\Users\\User\\Desktop\\Aaron\\College-level Applied Research\\CASIA-B\\GaitDatasetB-silh\\088\\nm-03\\144\\088-nm-03-144-045.png\n",
      "C:\\Users\\User\\Desktop\\Aaron\\College-level Applied Research\\CASIA-B\\GaitDatasetB-silh\\088\\nm-03\\144\\088-nm-03-144-046.png\n",
      "C:\\Users\\User\\Desktop\\Aaron\\College-level Applied Research\\CASIA-B\\GaitDatasetB-silh\\088\\nm-03\\144\\088-nm-03-144-047.png\n",
      "C:\\Users\\User\\Desktop\\Aaron\\College-level Applied Research\\CASIA-B\\GaitDatasetB-silh\\088\\nm-03\\144\\088-nm-03-144-048.png\n",
      "C:\\Users\\User\\Desktop\\Aaron\\College-level Applied Research\\CASIA-B\\GaitDatasetB-silh\\088\\nm-03\\144\\088-nm-03-144-049.png\n",
      "C:\\Users\\User\\Desktop\\Aaron\\College-level Applied Research\\CASIA-B\\GaitDatasetB-silh\\088\\nm-03\\144\\088-nm-03-144-050.png\n",
      "C:\\Users\\User\\Desktop\\Aaron\\College-level Applied Research\\CASIA-B\\GaitDatasetB-silh\\088\\nm-03\\144\\088-nm-03-144-051.png\n",
      "C:\\Users\\User\\Desktop\\Aaron\\College-level Applied Research\\CASIA-B\\GaitDatasetB-silh\\088\\nm-03\\144\\088-nm-03-144-052.png\n",
      "C:\\Users\\User\\Desktop\\Aaron\\College-level Applied Research\\CASIA-B\\GaitDatasetB-silh\\088\\nm-03\\144\\088-nm-03-144-053.png\n",
      "C:\\Users\\User\\Desktop\\Aaron\\College-level Applied Research\\CASIA-B\\GaitDatasetB-silh\\088\\nm-03\\144\\088-nm-03-144-054.png\n",
      "C:\\Users\\User\\Desktop\\Aaron\\College-level Applied Research\\CASIA-B\\GaitDatasetB-silh\\088\\nm-03\\144\\088-nm-03-144-055.png\n",
      "C:\\Users\\User\\Desktop\\Aaron\\College-level Applied Research\\CASIA-B\\GaitDatasetB-silh\\088\\nm-03\\144\\088-nm-03-144-056.png\n",
      "C:\\Users\\User\\Desktop\\Aaron\\College-level Applied Research\\CASIA-B\\GaitDatasetB-silh\\088\\nm-03\\144\\088-nm-03-144-057.png\n",
      "C:\\Users\\User\\Desktop\\Aaron\\College-level Applied Research\\CASIA-B\\GaitDatasetB-silh\\088\\nm-03\\144\\088-nm-03-144-058.png\n",
      "C:\\Users\\User\\Desktop\\Aaron\\College-level Applied Research\\CASIA-B\\GaitDatasetB-silh\\088\\nm-03\\144\\088-nm-03-144-059.png\n",
      "C:\\Users\\User\\Desktop\\Aaron\\College-level Applied Research\\CASIA-B\\GaitDatasetB-silh\\088\\nm-03\\144\\088-nm-03-144-060.png\n",
      "C:\\Users\\User\\Desktop\\Aaron\\College-level Applied Research\\CASIA-B\\GaitDatasetB-silh\\088\\nm-03\\144\\088-nm-03-144-061.png\n",
      "C:\\Users\\User\\Desktop\\Aaron\\College-level Applied Research\\CASIA-B\\GaitDatasetB-silh\\088\\nm-03\\144\\088-nm-03-144-062.png\n",
      "C:\\Users\\User\\Desktop\\Aaron\\College-level Applied Research\\CASIA-B\\GaitDatasetB-silh\\088\\nm-03\\144\\088-nm-03-144-063.png\n",
      "C:\\Users\\User\\Desktop\\Aaron\\College-level Applied Research\\CASIA-B\\GaitDatasetB-silh\\088\\nm-03\\144\\088-nm-03-144-064.png\n",
      "C:\\Users\\User\\Desktop\\Aaron\\College-level Applied Research\\CASIA-B\\GaitDatasetB-silh\\088\\nm-03\\144\\088-nm-03-144-065.png\n",
      "C:\\Users\\User\\Desktop\\Aaron\\College-level Applied Research\\CASIA-B\\GaitDatasetB-silh\\088\\nm-03\\144\\088-nm-03-144-066.png\n",
      "C:\\Users\\User\\Desktop\\Aaron\\College-level Applied Research\\CASIA-B\\GaitDatasetB-silh\\088\\nm-03\\144\\088-nm-03-144-067.png\n",
      "C:\\Users\\User\\Desktop\\Aaron\\College-level Applied Research\\CASIA-B\\GaitDatasetB-silh\\088\\nm-03\\144\\088-nm-03-144-068.png\n",
      "C:\\Users\\User\\Desktop\\Aaron\\College-level Applied Research\\CASIA-B\\GaitDatasetB-silh\\088\\nm-03\\144\\088-nm-03-144-069.png\n",
      "C:\\Users\\User\\Desktop\\Aaron\\College-level Applied Research\\CASIA-B\\GaitDatasetB-silh\\088\\nm-03\\144\\088-nm-03-144-070.png\n",
      "C:\\Users\\User\\Desktop\\Aaron\\College-level Applied Research\\CASIA-B\\GaitDatasetB-silh\\088\\nm-03\\144\\088-nm-03-144-071.png\n",
      "C:\\Users\\User\\Desktop\\Aaron\\College-level Applied Research\\CASIA-B\\GaitDatasetB-silh\\088\\nm-03\\144\\088-nm-03-144-072.png\n",
      "C:\\Users\\User\\Desktop\\Aaron\\College-level Applied Research\\CASIA-B\\GaitDatasetB-silh\\088\\nm-03\\144\\088-nm-03-144-073.png\n",
      "C:\\Users\\User\\Desktop\\Aaron\\College-level Applied Research\\CASIA-B\\GaitDatasetB-silh\\088\\nm-03\\144\\088-nm-03-144-074.png\n",
      "C:\\Users\\User\\Desktop\\Aaron\\College-level Applied Research\\CASIA-B\\GaitDatasetB-silh\\088\\nm-03\\144\\088-nm-03-144-075.png\n",
      "C:\\Users\\User\\Desktop\\Aaron\\College-level Applied Research\\CASIA-B\\GaitDatasetB-silh\\088\\nm-03\\144\\088-nm-03-144-076.png\n"
     ]
    },
    {
     "name": "stdout",
     "output_type": "stream",
     "text": [
      "C:\\Users\\User\\Desktop\\Aaron\\College-level Applied Research\\CASIA-B\\GaitDatasetB-silh\\088\\nm-03\\162\n",
      "C:\\Users\\User\\Desktop\\Aaron\\College-level Applied Research\\CASIA-B\\GaitDatasetB-silh\\088\\nm-03\\180\n",
      "C:\\Users\\User\\Desktop\\Aaron\\College-level Applied Research\\CASIA-B\\GaitDatasetB-silh\\088\\nm-04\\054\n",
      "C:\\Users\\User\\Desktop\\Aaron\\College-level Applied Research\\CASIA-B\\GaitDatasetB-silh\\088\\nm-04\\126\n",
      "C:\\Users\\User\\Desktop\\Aaron\\College-level Applied Research\\CASIA-B\\GaitDatasetB-silh\\088\\nm-04\\144\\088-nm-04-144-001.png\n",
      "C:\\Users\\User\\Desktop\\Aaron\\College-level Applied Research\\CASIA-B\\GaitDatasetB-silh\\088\\nm-04\\144\\088-nm-04-144-002.png\n",
      "C:\\Users\\User\\Desktop\\Aaron\\College-level Applied Research\\CASIA-B\\GaitDatasetB-silh\\088\\nm-04\\144\\088-nm-04-144-003.png\n",
      "C:\\Users\\User\\Desktop\\Aaron\\College-level Applied Research\\CASIA-B\\GaitDatasetB-silh\\088\\nm-04\\144\\088-nm-04-144-004.png\n",
      "C:\\Users\\User\\Desktop\\Aaron\\College-level Applied Research\\CASIA-B\\GaitDatasetB-silh\\088\\nm-04\\162\n",
      "C:\\Users\\User\\Desktop\\Aaron\\College-level Applied Research\\CASIA-B\\GaitDatasetB-silh\\088\\nm-04\\180\n",
      "C:\\Users\\User\\Desktop\\Aaron\\College-level Applied Research\\CASIA-B\\GaitDatasetB-silh\\088\\nm-05\\144\\088-nm-05-144-001.png\n",
      "C:\\Users\\User\\Desktop\\Aaron\\College-level Applied Research\\CASIA-B\\GaitDatasetB-silh\\088\\nm-05\\144\\088-nm-05-144-002.png\n",
      "C:\\Users\\User\\Desktop\\Aaron\\College-level Applied Research\\CASIA-B\\GaitDatasetB-silh\\088\\nm-05\\144\\088-nm-05-144-003.png\n",
      "C:\\Users\\User\\Desktop\\Aaron\\College-level Applied Research\\CASIA-B\\GaitDatasetB-silh\\088\\nm-05\\144\\088-nm-05-144-004.png\n",
      "C:\\Users\\User\\Desktop\\Aaron\\College-level Applied Research\\CASIA-B\\GaitDatasetB-silh\\088\\nm-05\\144\\088-nm-05-144-005.png\n",
      "C:\\Users\\User\\Desktop\\Aaron\\College-level Applied Research\\CASIA-B\\GaitDatasetB-silh\\088\\nm-05\\144\\088-nm-05-144-006.png\n",
      "C:\\Users\\User\\Desktop\\Aaron\\College-level Applied Research\\CASIA-B\\GaitDatasetB-silh\\088\\nm-05\\144\\088-nm-05-144-007.png\n",
      "C:\\Users\\User\\Desktop\\Aaron\\College-level Applied Research\\CASIA-B\\GaitDatasetB-silh\\088\\nm-05\\144\\088-nm-05-144-008.png\n",
      "C:\\Users\\User\\Desktop\\Aaron\\College-level Applied Research\\CASIA-B\\GaitDatasetB-silh\\088\\nm-05\\144\\088-nm-05-144-009.png\n",
      "C:\\Users\\User\\Desktop\\Aaron\\College-level Applied Research\\CASIA-B\\GaitDatasetB-silh\\088\\nm-05\\144\\088-nm-05-144-010.png\n",
      "C:\\Users\\User\\Desktop\\Aaron\\College-level Applied Research\\CASIA-B\\GaitDatasetB-silh\\088\\nm-05\\144\\088-nm-05-144-011.png\n",
      "C:\\Users\\User\\Desktop\\Aaron\\College-level Applied Research\\CASIA-B\\GaitDatasetB-silh\\088\\nm-06\\144\\088-nm-06-144-001.png\n",
      "C:\\Users\\User\\Desktop\\Aaron\\College-level Applied Research\\CASIA-B\\GaitDatasetB-silh\\088\\nm-06\\144\\088-nm-06-144-002.png\n",
      "C:\\Users\\User\\Desktop\\Aaron\\College-level Applied Research\\CASIA-B\\GaitDatasetB-silh\\088\\nm-06\\144\\088-nm-06-144-003.png\n",
      "C:\\Users\\User\\Desktop\\Aaron\\College-level Applied Research\\CASIA-B\\GaitDatasetB-silh\\088\\nm-06\\144\\088-nm-06-144-004.png\n",
      "C:\\Users\\User\\Desktop\\Aaron\\College-level Applied Research\\CASIA-B\\GaitDatasetB-silh\\088\\nm-06\\144\\088-nm-06-144-005.png\n",
      "C:\\Users\\User\\Desktop\\Aaron\\College-level Applied Research\\CASIA-B\\GaitDatasetB-silh\\088\\nm-06\\144\\088-nm-06-144-006.png\n",
      "C:\\Users\\User\\Desktop\\Aaron\\College-level Applied Research\\CASIA-B\\GaitDatasetB-silh\\088\\nm-06\\144\\088-nm-06-144-007.png\n",
      "C:\\Users\\User\\Desktop\\Aaron\\College-level Applied Research\\CASIA-B\\GaitDatasetB-silh\\088\\nm-06\\144\\088-nm-06-144-008.png\n",
      "C:\\Users\\User\\Desktop\\Aaron\\College-level Applied Research\\CASIA-B\\GaitDatasetB-silh\\088\\nm-06\\144\\088-nm-06-144-009.png\n",
      "C:\\Users\\User\\Desktop\\Aaron\\College-level Applied Research\\CASIA-B\\GaitDatasetB-silh\\088\\nm-06\\144\\088-nm-06-144-010.png\n",
      "C:\\Users\\User\\Desktop\\Aaron\\College-level Applied Research\\CASIA-B\\GaitDatasetB-silh\\088\\nm-06\\144\\088-nm-06-144-011.png\n",
      "C:\\Users\\User\\Desktop\\Aaron\\College-level Applied Research\\CASIA-B\\GaitDatasetB-silh\\088\\nm-06\\144\\088-nm-06-144-012.png\n",
      "C:\\Users\\User\\Desktop\\Aaron\\College-level Applied Research\\CASIA-B\\GaitDatasetB-silh\\088\\nm-06\\144\\088-nm-06-144-013.png\n",
      "C:\\Users\\User\\Desktop\\Aaron\\College-level Applied Research\\CASIA-B\\GaitDatasetB-silh\\088\\nm-06\\144\\088-nm-06-144-014.png\n",
      "C:\\Users\\User\\Desktop\\Aaron\\College-level Applied Research\\CASIA-B\\GaitDatasetB-silh\\088\\nm-06\\144\\088-nm-06-144-015.png\n",
      "C:\\Users\\User\\Desktop\\Aaron\\College-level Applied Research\\CASIA-B\\GaitDatasetB-silh\\088\\nm-06\\144\\088-nm-06-144-016.png\n",
      "C:\\Users\\User\\Desktop\\Aaron\\College-level Applied Research\\CASIA-B\\GaitDatasetB-silh\\088\\nm-06\\144\\088-nm-06-144-017.png\n",
      "C:\\Users\\User\\Desktop\\Aaron\\College-level Applied Research\\CASIA-B\\GaitDatasetB-silh\\088\\nm-06\\144\\088-nm-06-144-018.png\n",
      "C:\\Users\\User\\Desktop\\Aaron\\College-level Applied Research\\CASIA-B\\GaitDatasetB-silh\\088\\nm-06\\144\\088-nm-06-144-019.png\n"
     ]
    }
   ],
   "source": [
    "import shutil\n",
    "\n",
    "root = r'C:\\Users\\User\\Desktop\\Aaron\\College-level Applied Research\\CASIA-B\\GaitDatasetB-silh'\n",
    "subjects = os.listdir(root)\n",
    "variations = os.listdir(root +'\\\\'+ subjects[0])\n",
    "angles = os.listdir(root +'\\\\'+ subjects[0] + '\\\\' + variations[0])\n",
    "\n",
    "ourputdir = r'C:\\Users\\User\\Desktop\\Aaron\\College-level Applied Research\\PEI_output'\n",
    "\n",
    "if not os.path.isdir(ourputdir):\n",
    "    os.mkdir(ourputdir)\n",
    "\n",
    "for sub in subjects:\n",
    "    sub_dir = f'{ourputdir}\\\\{sub}'\n",
    "    if not os.path.isdir(sub_dir):\n",
    "        os.mkdir(sub_dir)\n",
    "        \n",
    "    for var in variations:\n",
    "        var_dir = f'{sub_dir}\\\\{var}'\n",
    "        if not os.path.isdir(var_dir):\n",
    "            os.mkdir(var_dir)\n",
    "            \n",
    "        for ang in angles:\n",
    "            ang_dir = f'{var_dir}\\\\{ang}'\n",
    "            if not os.path.isdir(ang_dir):\n",
    "                os.mkdir(ang_dir)\n",
    "            \n",
    "            images_dir = f'{root}\\\\{sub}\\\\{var}\\\\{ang}'\n",
    "            images_filename = os.listdir(images_dir)\n",
    "            if not images_filename:\n",
    "                print(images_dir)\n",
    "                shutil.rmtree(images_dir)\n",
    "                \n",
    "            else:\n",
    "                for f in images_filename:\n",
    "                    img_file_dir = images_dir+'\\\\'+ f\n",
    "                    img = cv2.imread(img_file_dir)\n",
    "                    if (img == np.zeros(img.shape)).all():\n",
    "                        print(img_file_dir)\n",
    "                        os.remove(img_file_dir)\n",
    "                    \n",
    "#             images = [cv2.imread(images_dir+'\\\\'+ f, -1) for f in images_filename]"
   ]
  },
  {
   "cell_type": "code",
   "execution_count": 123,
   "id": "08461fce",
   "metadata": {},
   "outputs": [
    {
     "data": {
      "text/plain": [
       "array([[0., 0.],\n",
       "       [0., 0.]])"
      ]
     },
     "execution_count": 123,
     "metadata": {},
     "output_type": "execute_result"
    }
   ],
   "source": [
    "np.zeros((2,2))"
   ]
  },
  {
   "cell_type": "code",
   "execution_count": 127,
   "id": "fac4a65a",
   "metadata": {},
   "outputs": [
    {
     "data": {
      "text/plain": [
       "False"
      ]
     },
     "execution_count": 127,
     "metadata": {},
     "output_type": "execute_result"
    }
   ],
   "source": [
    "(img == np.zeros(img.shape)).all()"
   ]
  },
  {
   "cell_type": "code",
   "execution_count": 6,
   "id": "fcd64a94",
   "metadata": {},
   "outputs": [],
   "source": [
    "from sklearn.preprocessing import OneHotEncoder\n",
    "import numpy as np"
   ]
  },
  {
   "cell_type": "code",
   "execution_count": 5,
   "id": "d2c75173",
   "metadata": {},
   "outputs": [
    {
     "ename": "NameError",
     "evalue": "name 'np' is not defined",
     "output_type": "error",
     "traceback": [
      "\u001b[0;31m---------------------------------------------------------------------------\u001b[0m",
      "\u001b[0;31mNameError\u001b[0m                                 Traceback (most recent call last)",
      "Input \u001b[0;32mIn [5]\u001b[0m, in \u001b[0;36m<cell line: 2>\u001b[0;34m()\u001b[0m\n\u001b[1;32m      1\u001b[0m channel_enc \u001b[38;5;241m=\u001b[39m OneHotEncoder()\n\u001b[0;32m----> 2\u001b[0m channel_enc\u001b[38;5;241m.\u001b[39mfit(\u001b[43mnp\u001b[49m\u001b[38;5;241m.\u001b[39mreshape(\u001b[38;5;28mrange\u001b[39m(opt\u001b[38;5;241m.\u001b[39mnum_channel),[\u001b[38;5;241m-\u001b[39m\u001b[38;5;241m1\u001b[39m,\u001b[38;5;241m1\u001b[39m]))\n",
      "\u001b[0;31mNameError\u001b[0m: name 'np' is not defined"
     ]
    }
   ],
   "source": [
    "channel_enc = OneHotEncoder()\n",
    "channel_enc.fit(np.reshape(range(opt.num_channel),[-1,1]))"
   ]
  },
  {
   "cell_type": "code",
   "execution_count": 2,
   "id": "525741c4",
   "metadata": {},
   "outputs": [],
   "source": [
    "import tensorflow as tf\n",
    "import numpy as np\n",
    "inputs = [10, 20, 30, 40, 50, 60, 70, 80, 90, 100] \n",
    "sample_num = 2\n",
    "\n",
    "idxs = tf.range(tf.shape(inputs)[0])\n",
    "ridxs = tf.random.shuffle(idxs)[:sample_num]\n",
    "rinput = tf.gather(inputs, ridxs)"
   ]
  },
  {
   "cell_type": "code",
   "execution_count": 9,
   "id": "973ad028",
   "metadata": {},
   "outputs": [
    {
     "data": {
      "text/plain": [
       "[10, 20, 30, 40, 50, 60, 70, 80, 90, 100]"
      ]
     },
     "execution_count": 9,
     "metadata": {},
     "output_type": "execute_result"
    }
   ],
   "source": [
    "inputs"
   ]
  },
  {
   "cell_type": "code",
   "execution_count": 18,
   "id": "4b411f99",
   "metadata": {},
   "outputs": [
    {
     "data": {
      "text/plain": [
       "<tf.Tensor: shape=(14, 14), dtype=float32, numpy=\n",
       "array([[1., 0., 0., 0., 0., 0., 0., 0., 0., 0., 0., 0., 0., 0.],\n",
       "       [0., 1., 0., 0., 0., 0., 0., 0., 0., 0., 0., 0., 0., 0.],\n",
       "       [0., 0., 1., 0., 0., 0., 0., 0., 0., 0., 0., 0., 0., 0.],\n",
       "       [0., 0., 0., 1., 0., 0., 0., 0., 0., 0., 0., 0., 0., 0.],\n",
       "       [0., 0., 0., 0., 1., 0., 0., 0., 0., 0., 0., 0., 0., 0.],\n",
       "       [0., 0., 0., 0., 0., 1., 0., 0., 0., 0., 0., 0., 0., 0.],\n",
       "       [0., 0., 0., 0., 0., 0., 1., 0., 0., 0., 0., 0., 0., 0.],\n",
       "       [0., 0., 0., 0., 0., 0., 0., 1., 0., 0., 0., 0., 0., 0.],\n",
       "       [0., 0., 0., 0., 0., 0., 0., 0., 1., 0., 0., 0., 0., 0.],\n",
       "       [0., 0., 0., 0., 0., 0., 0., 0., 0., 1., 0., 0., 0., 0.],\n",
       "       [0., 0., 0., 0., 0., 0., 0., 0., 0., 0., 1., 0., 0., 0.],\n",
       "       [0., 0., 0., 0., 0., 0., 0., 0., 0., 0., 0., 1., 0., 0.],\n",
       "       [0., 0., 0., 0., 0., 0., 0., 0., 0., 0., 0., 0., 1., 0.],\n",
       "       [0., 0., 0., 0., 0., 0., 0., 0., 0., 0., 0., 0., 0., 1.]],\n",
       "      dtype=float32)>"
      ]
     },
     "execution_count": 18,
     "metadata": {},
     "output_type": "execute_result"
    }
   ],
   "source": [
    "inputs= tf.range(14)\n",
    "tf.one_hot(inputs, len(inputs))"
   ]
  },
  {
   "cell_type": "code",
   "execution_count": 10,
   "id": "d4466eef",
   "metadata": {},
   "outputs": [
    {
     "data": {
      "text/plain": [
       "<tf.Tensor: shape=(10, 3), dtype=float32, numpy=\n",
       "array([[0., 0., 0.],\n",
       "       [0., 0., 0.],\n",
       "       [0., 0., 0.],\n",
       "       [0., 0., 0.],\n",
       "       [0., 0., 0.],\n",
       "       [0., 0., 0.],\n",
       "       [0., 0., 0.],\n",
       "       [0., 0., 0.],\n",
       "       [0., 0., 0.],\n",
       "       [0., 0., 0.]], dtype=float32)>"
      ]
     },
     "execution_count": 10,
     "metadata": {},
     "output_type": "execute_result"
    }
   ],
   "source": [
    "tf.one_hot(inputs, len(inputs))"
   ]
  },
  {
   "cell_type": "code",
   "execution_count": 7,
   "id": "ae570c1d",
   "metadata": {},
   "outputs": [
    {
     "data": {
      "text/plain": [
       "8"
      ]
     },
     "execution_count": 7,
     "metadata": {},
     "output_type": "execute_result"
    }
   ],
   "source": [
    "int(ridxs[0])"
   ]
  },
  {
   "cell_type": "code",
   "execution_count": 8,
   "id": "16ee96f1",
   "metadata": {},
   "outputs": [
    {
     "data": {
      "text/plain": [
       "<tf.Tensor: shape=(), dtype=int32, numpy=10>"
      ]
     },
     "execution_count": 8,
     "metadata": {},
     "output_type": "execute_result"
    }
   ],
   "source": [
    "tf.shape(inputs)[0]"
   ]
  },
  {
   "cell_type": "code",
   "execution_count": 4,
   "id": "85fad054",
   "metadata": {},
   "outputs": [
    {
     "data": {
      "text/plain": [
       "<tf.Tensor: shape=(2,), dtype=int32, numpy=array([90, 30])>"
      ]
     },
     "execution_count": 4,
     "metadata": {},
     "output_type": "execute_result"
    }
   ],
   "source": [
    "rinput"
   ]
  },
  {
   "cell_type": "code",
   "execution_count": 14,
   "id": "db3ffd7c",
   "metadata": {},
   "outputs": [],
   "source": [
    "a = np.array([1,2,3])"
   ]
  },
  {
   "cell_type": "code",
   "execution_count": 20,
   "id": "0c2cf7ab",
   "metadata": {},
   "outputs": [
    {
     "data": {
      "text/plain": [
       "2"
      ]
     },
     "execution_count": 20,
     "metadata": {},
     "output_type": "execute_result"
    }
   ],
   "source": [
    "a[rinput[1]]"
   ]
  },
  {
   "cell_type": "code",
   "execution_count": 20,
   "id": "a31fd3ae",
   "metadata": {},
   "outputs": [
    {
     "data": {
      "text/plain": [
       "array([2, 1])"
      ]
     },
     "execution_count": 20,
     "metadata": {},
     "output_type": "execute_result"
    }
   ],
   "source": [
    " np.random.choice([1,2,3,5], 2)"
   ]
  },
  {
   "cell_type": "code",
   "execution_count": 5,
   "id": "09752a24",
   "metadata": {},
   "outputs": [],
   "source": [
    "import os\n",
    "cwd = os.getcwd()"
   ]
  },
  {
   "cell_type": "code",
   "execution_count": 6,
   "id": "16654fa7",
   "metadata": {},
   "outputs": [
    {
     "data": {
      "text/plain": [
       "'C:\\\\Users\\\\andy1\\\\Desktop\\\\650S100\\\\College-level Applied Research\\\\gait_recognition'"
      ]
     },
     "execution_count": 6,
     "metadata": {},
     "output_type": "execute_result"
    }
   ],
   "source": [
    "cwd"
   ]
  },
  {
   "cell_type": "code",
   "execution_count": 21,
   "id": "b9d7e0e0",
   "metadata": {},
   "outputs": [],
   "source": [
    "from pathlib import Path\n",
    "\n",
    "p = Path(os.path.abspath('')).parents[0]"
   ]
  },
  {
   "cell_type": "code",
   "execution_count": 22,
   "id": "3aa00e78",
   "metadata": {},
   "outputs": [
    {
     "data": {
      "text/plain": [
       "WindowsPath('C:/Users/andy1/Desktop/650S100/College-level Applied Research')"
      ]
     },
     "execution_count": 22,
     "metadata": {},
     "output_type": "execute_result"
    }
   ],
   "source": [
    "p"
   ]
  },
  {
   "cell_type": "code",
   "execution_count": 25,
   "id": "87402031",
   "metadata": {},
   "outputs": [
    {
     "ename": "SyntaxError",
     "evalue": "f-string: unmatched '(' (<ipython-input-25-54b7a8f61572>, line 1)",
     "output_type": "error",
     "traceback": [
      "\u001b[1;36m  File \u001b[1;32m\"<ipython-input-25-54b7a8f61572>\"\u001b[1;36m, line \u001b[1;32m1\u001b[0m\n\u001b[1;33m    f'{Path(os.path.abspath('')).parents[0]}'\u001b[0m\n\u001b[1;37m    ^\u001b[0m\n\u001b[1;31mSyntaxError\u001b[0m\u001b[1;31m:\u001b[0m f-string: unmatched '('\n"
     ]
    }
   ],
   "source": [
    "f'{Path(os.path.abspath('')).parents[0]}'"
   ]
  },
  {
   "cell_type": "code",
   "execution_count": null,
   "id": "2ff9d022",
   "metadata": {},
   "outputs": [],
   "source": []
  }
 ],
 "metadata": {
  "kernelspec": {
   "display_name": "Python 3",
   "language": "python",
   "name": "python3"
  },
  "language_info": {
   "codemirror_mode": {
    "name": "ipython",
    "version": 3
   },
   "file_extension": ".py",
   "mimetype": "text/x-python",
   "name": "python",
   "nbconvert_exporter": "python",
   "pygments_lexer": "ipython3",
   "version": "3.8.8"
  }
 },
 "nbformat": 4,
 "nbformat_minor": 5
}
