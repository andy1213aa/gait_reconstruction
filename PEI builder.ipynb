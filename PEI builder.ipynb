{
 "cells": [
  {
   "cell_type": "code",
   "execution_count": 1,
   "id": "dff59f2e",
   "metadata": {},
   "outputs": [],
   "source": [
    "import os\n",
    "import numpy as np\n",
    "import matplotlib.pyplot as plt\n",
    "\n",
    "# from scipy.misc import imresize\n",
    "import cv2\n"
   ]
  },
  {
   "cell_type": "code",
   "execution_count": null,
   "id": "cb0fea81",
   "metadata": {},
   "outputs": [],
   "source": [
    "# coding: utf-8\n",
    "\n",
    "# # Gait Energy Image\n",
    "\n",
    "# In[1]:\n",
    "\n",
    "\n",
    "import os\n",
    "import numpy as np\n",
    "import matplotlib.pyplot as plt\n",
    "from imageio import imread\n",
    "# from scipy.misc import imresize\n",
    "import cv2\n",
    "from skimage.transform import resize\n",
    "\n",
    "\n",
    "# In[2]:\n",
    "\n",
    "\n",
    "files = os.listdir(r'C:\\Users\\User\\Desktop\\Aaron\\College-level Applied Research\\CASIA-B\\GaitDatasetB-silh\\001\\nm-01\\090')\n",
    "images = [imread(r'C:\\Users\\User\\Desktop\\Aaron\\College-level Applied Research\\CASIA-B\\GaitDatasetB-silh\\001\\nm-01\\090'+'\\\\'+f) for f in files]\n",
    "\n",
    "\n",
    "# In[3]:\n",
    "\n",
    "\n",
    "plt.imshow(images[0])\n",
    "\n",
    "\n",
    "# In[4]:\n",
    "\n",
    "\n",
    "def mass_center(img,is_round=True):\n",
    "    Y = img.mean(axis=1)\n",
    "    X = img.mean(axis=0)\n",
    "    Y_ = np.sum(np.arange(Y.shape[0]) * Y)/np.sum(Y)\n",
    "    X_ = np.sum(np.arange(X.shape[0]) * X)/np.sum(X)\n",
    "    if is_round:\n",
    "        return int(round(X_)),int(round(Y_))\n",
    "    return X_,Y_\n",
    "\n",
    "def image_extract(img,newsize):\n",
    "    x_s = np.where(img.mean(axis=0)!=0)[0].min()\n",
    "    x_e = np.where(img.mean(axis=0)!=0)[0].max()\n",
    "    \n",
    "    y_s = np.where(img.mean(axis=1)!=0)[0].min()\n",
    "    y_e = np.where(img.mean(axis=1)!=0)[0].max()\n",
    "    \n",
    "    x_c,_ = mass_center(img)\n",
    "#     x_c = (x_s+x_e)//2\n",
    "    x_s = x_c-newsize[1]//2\n",
    "    x_e = x_c+newsize[1]//2\n",
    "    img = img[y_s:y_e,x_s if x_s>0 else 0:x_e if x_e<img.shape[1] else img.shape[1]]\n",
    "    return cv2.resize(img,newsize)\n",
    "\n",
    "\n",
    "# In[5]:\n",
    "\n",
    "\n",
    "images = [image_extract(i,(64,64)) for i in images]\n",
    "\n",
    "\n",
    "# In[6]:\n",
    "\n",
    "\n",
    "plt.figure()\n",
    "for i in range(15):\n",
    "    plt.subplot(3,5,i+1)\n",
    "    plt.imshow(images[i])\n",
    "plt.show()\n",
    "\n",
    "\n",
    "# In[7]:\n",
    "\n",
    "\n",
    "gei = np.mean(images,axis=0)\n",
    "\n",
    "\n",
    "# In[8]:\n",
    "\n",
    "\n",
    "plt.imshow(gei)\n",
    "plt.show()"
   ]
  },
  {
   "cell_type": "code",
   "execution_count": 2,
   "id": "f0d6284e",
   "metadata": {},
   "outputs": [],
   "source": [
    "def Period_Detection(gallery: np.array, gallery_shape: tuple, alpha = 0.470, beta = 0.961) -> np.array:\n",
    "    '''\n",
    "    hip, knee, and ankle are 0.470, 0.715, 0.961\n",
    "    '''\n",
    "    start = round(gallery_shape[0] * alpha)\n",
    "    end = round(gallery_shape[0] * beta)\n",
    "    \n",
    "    period_result = np.empty(gallery.shape[0])\n",
    "    \n",
    "    for i, img in enumerate(gallery):\n",
    "        move_region_aggregate = 0\n",
    "        \n",
    "        for h in range(start, end):\n",
    "            \n",
    "            nonzero_index = list(np.nonzero(img[h])[0])\n",
    "    \n",
    "            if not nonzero_index:\n",
    "                continue\n",
    "            left_most, right_most = nonzero_index[0], nonzero_index[-1]\n",
    "            \n",
    "            move_region_aggregate  = move_region_aggregate + (right_most - left_most)\n",
    "            \n",
    "        \n",
    "        move_region_aggregate /= float((end - start + 1))\n",
    "      \n",
    "        period_result[i] = move_region_aggregate\n",
    "    if period_result.shape[0] == 1:\n",
    "        return period_result\n",
    "    period_result = (period_result - np.min(period_result)) / np.ptp(period_result)\n",
    "    \n",
    " \n",
    "    \n",
    "    return period_result\n",
    "    "
   ]
  },
  {
   "cell_type": "code",
   "execution_count": null,
   "id": "6f494a71",
   "metadata": {},
   "outputs": [],
   "source": [
    "files = os.listdir(r'C:\\Users\\User\\Desktop\\Aaron\\College-level Applied Research\\CASIA-B\\GaitDatasetB-silh\\001\\nm-01\\162')\n",
    "images = np.array([cv2.imread(r'C:\\Users\\User\\Desktop\\Aaron\\College-level Applied Research\\CASIA-B\\GaitDatasetB-silh\\001\\nm-01\\162'+'\\\\'+f, -1) for f in files])\n"
   ]
  },
  {
   "cell_type": "code",
   "execution_count": 4,
   "id": "fa67e470",
   "metadata": {
    "scrolled": true
   },
   "outputs": [
    {
     "ename": "NameError",
     "evalue": "name 'images' is not defined",
     "output_type": "error",
     "traceback": [
      "\u001b[1;31m---------------------------------------------------------------------------\u001b[0m",
      "\u001b[1;31mNameError\u001b[0m                                 Traceback (most recent call last)",
      "Input \u001b[1;32mIn [4]\u001b[0m, in \u001b[0;36m<cell line: 1>\u001b[1;34m()\u001b[0m\n\u001b[1;32m----> 1\u001b[0m period \u001b[38;5;241m=\u001b[39m Period_Detection(gallery\u001b[38;5;241m=\u001b[39m\u001b[43mimages\u001b[49m, gallery_shape\u001b[38;5;241m=\u001b[39mimages[\u001b[38;5;241m0\u001b[39m]\u001b[38;5;241m.\u001b[39mshape)\n",
      "\u001b[1;31mNameError\u001b[0m: name 'images' is not defined"
     ]
    }
   ],
   "source": [
    "period = Period_Detection(gallery=images, gallery_shape=images[0].shape)"
   ]
  },
  {
   "cell_type": "code",
   "execution_count": null,
   "id": "cb91cc58",
   "metadata": {},
   "outputs": [],
   "source": [
    "plt.plot([i for i, _ in enumerate(period)], period, '-o')"
   ]
  },
  {
   "cell_type": "code",
   "execution_count": 3,
   "id": "e4bc44c1",
   "metadata": {},
   "outputs": [],
   "source": [
    "def Tk(m=0.3, nc=5) -> list:\n",
    "    result = []\n",
    "    for k in range(1, nc+1):\n",
    "        tmp = [k/(nc+1) - (m/2), k/(nc+1) + m/2]\n",
    "        result.append(tmp)\n",
    "    return result"
   ]
  },
  {
   "cell_type": "code",
   "execution_count": null,
   "id": "d7a9e91e",
   "metadata": {},
   "outputs": [],
   "source": [
    "Tk()"
   ]
  },
  {
   "cell_type": "code",
   "execution_count": null,
   "id": "e5f4b47f",
   "metadata": {},
   "outputs": [],
   "source": [
    "tk2_image = images[np.where((period > Tk()[1][0]) & (period < Tk()[1][1]))]"
   ]
  },
  {
   "cell_type": "code",
   "execution_count": 4,
   "id": "7817f402",
   "metadata": {},
   "outputs": [],
   "source": [
    "def GEI(images: np.array, resize: tuple, draw: bool = False) -> list:\n",
    "\n",
    "    def mass_center(img,is_round=True):\n",
    "        Y = img.mean(axis=1)\n",
    "        X = img.mean(axis=0)\n",
    "        Y_ = np.sum(np.arange(Y.shape[0]) * Y)/np.sum(Y)\n",
    "        X_ = np.sum(np.arange(X.shape[0]) * X)/np.sum(X)\n",
    "        if is_round:\n",
    "            return int(round(X_)),int(round(Y_))\n",
    "        return X_,Y_\n",
    "\n",
    "    def image_extract(img,newsize):\n",
    "        x_s = np.where(img.mean(axis=0)!=0)[0].min()\n",
    "        x_e = np.where(img.mean(axis=0)!=0)[0].max()\n",
    "\n",
    "        y_s = np.where(img.mean(axis=1)!=0)[0].min()\n",
    "        y_e = np.where(img.mean(axis=1)!=0)[0].max()\n",
    "\n",
    "        x_c,_ = mass_center(img)\n",
    "    #     x_c = (x_s+x_e)//2\n",
    "        x_s = x_c-newsize[1]//2\n",
    "        x_e = x_c+newsize[1]//2\n",
    "        img = img[y_s:y_e,x_s if x_s>0 else 0:x_e if x_e<img.shape[1] else img.shape[1]]\n",
    "        return cv2.resize(img,newsize)\n",
    "\n",
    "    images = [image_extract(i, resize) for i in images]\n",
    "    gei = np.mean(images,axis=0)\n",
    "    if draw:\n",
    "        plt.imshow(gei)\n",
    "        plt.show()\n",
    "    \n",
    "    return gei"
   ]
  },
  {
   "cell_type": "code",
   "execution_count": null,
   "id": "258c6b98",
   "metadata": {},
   "outputs": [],
   "source": [
    "for i in Tk():\n",
    "    tk_image = images[np.where((period > i[0]) & (period < i[1]))]\n",
    "    GEI(tk_image, (64, 64), draw=True)"
   ]
  },
  {
   "cell_type": "code",
   "execution_count": null,
   "id": "253ef224",
   "metadata": {},
   "outputs": [],
   "source": [
    "g = os.walk(r'C:\\Users\\User\\Desktop\\Aaron\\College-level Applied Research\\CASIA-B\\GaitDatasetB-silh', topdown=False)"
   ]
  },
  {
   "cell_type": "code",
   "execution_count": 5,
   "id": "e1e1ab3c",
   "metadata": {},
   "outputs": [
    {
     "name": "stderr",
     "output_type": "stream",
     "text": [
      "C:\\Users\\andy1\\anaconda3\\envs\\itri\\lib\\site-packages\\numpy\\core\\fromnumeric.py:3474: RuntimeWarning: Mean of empty slice.\n",
      "  return _methods._mean(a, axis=axis, dtype=dtype,\n",
      "C:\\Users\\andy1\\anaconda3\\envs\\itri\\lib\\site-packages\\numpy\\core\\_methods.py:189: RuntimeWarning: invalid value encountered in double_scalars\n",
      "  ret = ret.dtype.type(ret / rcount)\n",
      "C:\\Users\\andy1\\AppData\\Local\\Temp\\ipykernel_1644\\1821597379.py:29: RuntimeWarning: invalid value encountered in true_divide\n",
      "  period_result = (period_result - np.min(period_result)) / np.ptp(period_result)\n"
     ]
    }
   ],
   "source": [
    "root = r'C:\\Users\\andy1\\Desktop\\650S100\\College-level Applied Research\\GaitDatasetB-silh'\n",
    "subjects = os.listdir(root)\n",
    "variations = os.listdir(root +'\\\\'+ subjects[0])\n",
    "angles = os.listdir(root +'\\\\'+ subjects[0] + '\\\\' + variations[0])\n",
    "\n",
    "ourputdir = r'C:\\Users\\andy1\\Desktop\\650S100\\College-level Applied Research\\PEI_output'\n",
    "\n",
    "if not os.path.isdir(ourputdir):\n",
    "    os.mkdir(ourputdir)\n",
    "\n",
    "for sub in subjects:\n",
    "    sub_dir = f'{ourputdir}\\\\{sub}'\n",
    "    if not os.path.isdir(sub_dir):\n",
    "        os.mkdir(sub_dir)\n",
    "        \n",
    "    for var in variations:\n",
    "        var_dir = f'{sub_dir}\\\\{var}'\n",
    "        if not os.path.isdir(var_dir):\n",
    "            os.mkdir(var_dir)\n",
    "            \n",
    "        for ang in angles:\n",
    "            ang_dir = f'{var_dir}\\\\{ang}'\n",
    "            if not os.path.isdir(ang_dir):\n",
    "                os.mkdir(ang_dir)\n",
    "            \n",
    "            images_dir = f'{root}\\\\{sub}\\\\{var}\\\\{ang}'\n",
    "            images_filename = os.listdir(images_dir)\n",
    "            images = [cv2.imread(images_dir+'\\\\'+ f, -1) for f in images_filename]\n",
    "           \n",
    "            if images:\n",
    "                images = np.array(images)\n",
    "                period = Period_Detection(gallery=images, gallery_shape=images[0].shape)\n",
    "                for i, minmax in enumerate(Tk()):\n",
    "                    tk_image = images[np.where((period > minmax[0]) & (period < minmax[1]))]\n",
    "                    gei = GEI(tk_image, (64, 64))\n",
    "                    cv2.imwrite(f'{ang_dir}\\gei_{i}.png', gei)"
   ]
  },
  {
   "cell_type": "code",
   "execution_count": null,
   "id": "4101e5fc",
   "metadata": {},
   "outputs": [],
   "source": [
    "a = []"
   ]
  },
  {
   "cell_type": "code",
   "execution_count": null,
   "id": "353f6fed",
   "metadata": {},
   "outputs": [],
   "source": [
    "if a:\n",
    "    print('hey')"
   ]
  },
  {
   "cell_type": "code",
   "execution_count": null,
   "id": "daeed133",
   "metadata": {},
   "outputs": [],
   "source": []
  }
 ],
 "metadata": {
  "kernelspec": {
   "display_name": "Python 3 (ipykernel)",
   "language": "python",
   "name": "python3"
  },
  "language_info": {
   "codemirror_mode": {
    "name": "ipython",
    "version": 3
   },
   "file_extension": ".py",
   "mimetype": "text/x-python",
   "name": "python",
   "nbconvert_exporter": "python",
   "pygments_lexer": "ipython3",
   "version": "3.8.12"
  }
 },
 "nbformat": 4,
 "nbformat_minor": 5
}
